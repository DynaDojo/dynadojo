{
 "cells": [
  {
   "cell_type": "code",
   "execution_count": 1,
   "id": "initial_id",
   "metadata": {
    "collapsed": true,
    "ExecuteTime": {
     "end_time": "2024-01-03T21:48:08.345781Z",
     "start_time": "2024-01-03T21:48:08.319567Z"
    }
   },
   "outputs": [],
   "source": [
    "%load_ext autoreload\n",
    "%autoreload 2"
   ]
  },
  {
   "cell_type": "code",
   "execution_count": 2,
   "outputs": [
    {
     "ename": "TypeError",
     "evalue": "Can't instantiate abstract class NBodySystem with abstract method calc_dynamics",
     "output_type": "error",
     "traceback": [
      "\u001B[0;31m---------------------------------------------------------------------------\u001B[0m",
      "\u001B[0;31mTypeError\u001B[0m                                 Traceback (most recent call last)",
      "Cell \u001B[0;32mIn[2], line 9\u001B[0m\n\u001B[1;32m      7\u001B[0m n \u001B[38;5;241m=\u001B[39m \u001B[38;5;241m1\u001B[39m  \u001B[38;5;66;03m# we only want 1 system with several bodies\u001B[39;00m\n\u001B[1;32m      8\u001B[0m timesteps \u001B[38;5;241m=\u001B[39m \u001B[38;5;241m10\u001B[39m\n\u001B[0;32m----> 9\u001B[0m system \u001B[38;5;241m=\u001B[39m SystemChecker(\u001B[43mNBodySystem\u001B[49m\u001B[43m(\u001B[49m\u001B[43mlatent_dim\u001B[49m\u001B[43m,\u001B[49m\u001B[43m \u001B[49m\u001B[43membed_dim\u001B[49m\u001B[43m,\u001B[49m\u001B[43m \u001B[49m\u001B[43mplot_data\u001B[49m\u001B[38;5;241;43m=\u001B[39;49m\u001B[38;5;28;43;01mTrue\u001B[39;49;00m\u001B[43m,\u001B[49m\u001B[43m \u001B[49m\u001B[43mseed\u001B[49m\u001B[38;5;241;43m=\u001B[39;49m\u001B[38;5;241;43m0\u001B[39;49m\u001B[43m)\u001B[49m)\n\u001B[1;32m     10\u001B[0m x0 \u001B[38;5;241m=\u001B[39m system\u001B[38;5;241m.\u001B[39mmake_init_conds(n)\n\u001B[1;32m     11\u001B[0m x \u001B[38;5;241m=\u001B[39m system\u001B[38;5;241m.\u001B[39mmake_data(x0, timesteps\u001B[38;5;241m=\u001B[39mtimesteps)\n",
      "\u001B[0;31mTypeError\u001B[0m: Can't instantiate abstract class NBodySystem with abstract method calc_dynamics"
     ]
    }
   ],
   "source": [
    "from dynadojo.systems.santi import NBodySystem\n",
    "from dynadojo.wrappers import SystemChecker\n",
    "\n",
    "n_bodies = 3\n",
    "latent_dim = 4 * n_bodies\n",
    "embed_dim = latent_dim\n",
    "n = 1  # we only want 1 system with several bodies\n",
    "timesteps = 10\n",
    "system = SystemChecker(NBodySystem(latent_dim, embed_dim, plot_data=True, seed=0))\n",
    "x0 = system.make_init_conds(n)\n",
    "x = system.make_data(x0, timesteps=timesteps)"
   ],
   "metadata": {
    "collapsed": false,
    "ExecuteTime": {
     "end_time": "2024-01-03T21:48:09.344336Z",
     "start_time": "2024-01-03T21:48:08.348768Z"
    }
   },
   "id": "2d9072683fef8830"
  },
  {
   "cell_type": "code",
   "outputs": [],
   "source": [],
   "metadata": {
    "collapsed": false,
    "ExecuteTime": {
     "end_time": "2024-01-03T21:48:09.350390Z",
     "start_time": "2024-01-03T21:48:09.348092Z"
    }
   },
   "id": "c30eb00a358e37ce"
  }
 ],
 "metadata": {
  "kernelspec": {
   "display_name": "Python 3",
   "language": "python",
   "name": "python3"
  },
  "language_info": {
   "codemirror_mode": {
    "name": "ipython",
    "version": 2
   },
   "file_extension": ".py",
   "mimetype": "text/x-python",
   "name": "python",
   "nbconvert_exporter": "python",
   "pygments_lexer": "ipython2",
   "version": "2.7.6"
  }
 },
 "nbformat": 4,
 "nbformat_minor": 5
}
