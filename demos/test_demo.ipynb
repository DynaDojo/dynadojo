{
 "cells": [
  {
   "cell_type": "code",
   "execution_count": 1,
   "metadata": {
    "ExecuteTime": {
     "end_time": "2023-08-21T01:01:13.639094Z",
     "start_time": "2023-08-21T01:01:13.581471Z"
    },
    "collapsed": false
   },
   "outputs": [],
   "source": [
    "%load_ext autoreload\n",
    "%autoreload 2"
   ]
  },
  {
   "cell_type": "code",
   "execution_count": 1,
   "metadata": {
    "ExecuteTime": {
     "end_time": "2023-08-21T01:01:57.261081Z",
     "start_time": "2023-08-21T01:01:30.887700Z"
    },
    "collapsed": false
   },
   "outputs": [],
   "source": [
    "import dynadojo as dd"
   ]
  },
  {
   "cell_type": "code",
   "execution_count": null,
   "metadata": {
    "ExecuteTime": {
     "end_time": "2023-08-21T01:05:54.925221Z",
     "start_time": "2023-08-21T01:04:05.606537Z"
    },
    "collapsed": false
   },
   "outputs": [],
   "source": [
    "dd.testing.test_system(\"dynadojo.systems.lds\")"
   ]
  },
  {
   "cell_type": "code",
   "execution_count": 9,
   "metadata": {},
   "outputs": [],
   "source": [
    "# add parent dir to path\n",
    "import sys\n",
    "sys.path.append(\"..\")\n",
    "from experiments.main import _get_base_filename"
   ]
  },
  {
   "cell_type": "code",
   "execution_count": 11,
   "metadata": {},
   "outputs": [
    {
     "ename": "TypeError",
     "evalue": "_get_base_filename() missing 1 required positional argument: 'challenge_cls'",
     "output_type": "error",
     "traceback": [
      "\u001b[0;31m---------------------------------------------------------------------------\u001b[0m",
      "\u001b[0;31mTypeError\u001b[0m                                 Traceback (most recent call last)",
      "Cell \u001b[0;32mIn[11], line 13\u001b[0m\n\u001b[1;32m     10\u001b[0m     challenge_cls \u001b[39m=\u001b[39m FixedError\n\u001b[1;32m     12\u001b[0m \u001b[39m# get the base filename\u001b[39;00m\n\u001b[0;32m---> 13\u001b[0m base_filename \u001b[39m=\u001b[39m _get_base_filename(s, m, )\n\u001b[1;32m     14\u001b[0m filepath \u001b[39m=\u001b[39m \u001b[39mf\u001b[39m\u001b[39m\"\u001b[39m\u001b[39m../experiments/outputs/scratch/\u001b[39m\u001b[39m{\u001b[39;00mc\u001b[39m}\u001b[39;00m\u001b[39m/\u001b[39m\u001b[39m{\u001b[39;00ms\u001b[39m}\u001b[39;00m\u001b[39m/\u001b[39m\u001b[39m{\u001b[39;00mbase_filename\u001b[39m}\u001b[39;00m\u001b[39m/\u001b[39m\u001b[39m{\u001b[39;00mbase_filename\u001b[39m}\u001b[39;00m\u001b[39m_\u001b[39m\u001b[39m{\u001b[39;00msplit\u001b[39m}\u001b[39;00m\u001b[39m.csv\u001b[39m\u001b[39m\"\u001b[39m\n\u001b[1;32m     16\u001b[0m res \u001b[39m=\u001b[39m pd\u001b[39m.\u001b[39mread_csv(filepath)\n",
      "\u001b[0;31mTypeError\u001b[0m: _get_base_filename() missing 1 required positional argument: 'challenge_cls'"
     ]
    }
   ],
   "source": [
    "import pandas as pd\n",
    "from dynadojo.challenges import FixedComplexity, FixedError, FixedTrainSize\n",
    "\n",
    "c = \"fe\"\n",
    "s = \"lds\"\n",
    "m = \"dnn_100_window\"\n",
    "split = \"36-of-500\"\n",
    "\n",
    "if c == \"fe\":\n",
    "    challenge_cls = FixedError\n",
    "\n",
    "# get the base filename\n",
    "base_filename = _get_base_filename(s, m, challenge_cls)\n",
    "filepath = f\"../experiments/outputs/scratch/{c}/{s}/{base_filename}/{base_filename}_{split}.csv\"\n",
    "\n",
    "res = pd.read_csv(filepath)"
   ]
  },
  {
   "cell_type": "code",
   "execution_count": null,
   "metadata": {},
   "outputs": [],
   "source": []
  }
 ],
 "metadata": {
  "kernelspec": {
   "display_name": "Python 3.10.13 ('.venv': venv)",
   "language": "python",
   "name": "python3"
  },
  "language_info": {
   "codemirror_mode": {
    "name": "ipython",
    "version": 3
   },
   "file_extension": ".py",
   "mimetype": "text/x-python",
   "name": "python",
   "nbconvert_exporter": "python",
   "pygments_lexer": "ipython3",
   "version": "3.10.13"
  },
  "vscode": {
   "interpreter": {
    "hash": "3773aad5e061e19e4f842f01c74142b10fff2d671cff92ab74be7a021ba49549"
   }
  }
 },
 "nbformat": 4,
 "nbformat_minor": 0
}
