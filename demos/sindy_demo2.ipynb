{
 "cells": [
  {
   "cell_type": "code",
   "execution_count": 5,
   "id": "initial_id",
   "metadata": {
    "ExecuteTime": {
     "end_time": "2023-08-22T20:44:29.847318Z",
     "start_time": "2023-08-22T20:44:29.815111Z"
    },
    "collapsed": true
   },
   "outputs": [
    {
     "name": "stdout",
     "output_type": "stream",
     "text": [
      "The autoreload extension is already loaded. To reload it, use:\n",
      "  %reload_ext autoreload\n"
     ]
    }
   ],
   "source": [
    "%load_ext autoreload\n",
    "%autoreload 2"
   ]
  },
  {
   "cell_type": "code",
   "execution_count": 20,
   "id": "a9742bb979b0cad5",
   "metadata": {
    "ExecuteTime": {
     "end_time": "2023-08-22T21:07:35.619215Z",
     "start_time": "2023-08-22T21:07:35.417226Z"
    },
    "collapsed": false
   },
   "outputs": [],
   "source": [
    "from dynadojo.baselines.sindy import SINDy\n",
    "from dynadojo.systems.lds import LDSystem\n",
    "from dynadojo.systems.lorenz import LorenzSystem\n",
    "from dynadojo.challenges import FixedComplexity\n",
    "\n",
    "import pysindy as ps"
   ]
  },
  {
   "cell_type": "code",
   "execution_count": 23,
   "id": "d9cb03ad71e8edea",
   "metadata": {
    "ExecuteTime": {
     "end_time": "2023-08-22T21:06:36.014917Z",
     "start_time": "2023-08-22T21:06:35.845841Z"
    },
    "collapsed": false
   },
   "outputs": [],
   "source": [
    "timesteps = 10\n",
    "# challenge = FixedComplexity(N=[1, 50, 500], l=3, e=None, t=timesteps, reps=1, control_horizons=0, max_control_cost_per_dim=0, test_examples=10, test_timesteps=50, system_cls=LorenzSystem, system_kwargs={\"noise_scale\": 0.01})\n",
    "challenge = FixedComplexity(N=[20, 100, 1000], l=2, e=None,\n",
    "    t=timesteps, reps=2, control_horizons=0, \n",
    "    max_control_cost_per_dim=0, test_examples=2, \n",
    "    test_timesteps=2, system_cls=LDSystem)"
   ]
  },
  {
   "cell_type": "code",
   "execution_count": 24,
   "id": "adf510902178ed2e",
   "metadata": {
    "ExecuteTime": {
     "end_time": "2023-08-22T21:07:08.447410Z",
     "start_time": "2023-08-22T21:06:55.223399Z"
    },
    "collapsed": false
   },
   "outputs": [
    {
     "ename": "KeyboardInterrupt",
     "evalue": "",
     "output_type": "error",
     "traceback": [
      "\u001b[0;31m---------------------------------------------------------------------------\u001b[0m",
      "\u001b[0;31mKeyboardInterrupt\u001b[0m                         Traceback (most recent call last)",
      "Cell \u001b[0;32mIn[24], line 1\u001b[0m\n\u001b[0;32m----> 1\u001b[0m results \u001b[39m=\u001b[39m challenge\u001b[39m.\u001b[39;49mevaluate(SINDy,\n\u001b[1;32m      2\u001b[0m     seed\u001b[39m=\u001b[39;49m\u001b[39m100\u001b[39;49m,\n\u001b[1;32m      3\u001b[0m     noisy\u001b[39m=\u001b[39;49m\u001b[39mTrue\u001b[39;49;00m, \n\u001b[1;32m      4\u001b[0m     num_parallel_cpu \u001b[39m=\u001b[39;49m \u001b[39m-\u001b[39;49m\u001b[39m1\u001b[39;49m,\n\u001b[1;32m      5\u001b[0m     \u001b[39mid\u001b[39;49m\u001b[39m=\u001b[39;49m\u001b[39m\"\u001b[39;49m\u001b[39msindy\u001b[39;49m\u001b[39m\"\u001b[39;49m)\n\u001b[1;32m      6\u001b[0m results\u001b[39m.\u001b[39mhead()\n",
      "File \u001b[0;32m~/playground/DynaDojo/src/dynadojo/abstractions.py:371\u001b[0m, in \u001b[0;36mChallenge.evaluate\u001b[0;34m(self, model_cls, model_kwargs, fit_kwargs, act_kwargs, ood, noisy, id, num_parallel_cpu, seed, reps_filter, L_filter, rep_l_filter)\u001b[0m\n\u001b[1;32m    361\u001b[0m fixed_run_args \u001b[39m=\u001b[39m { \n\u001b[1;32m    362\u001b[0m     \u001b[39m# **kwargs, #ToDo: consider adding extra kwargs to pass to system_run\u001b[39;00m\n\u001b[1;32m    363\u001b[0m     \u001b[39m\"\u001b[39m\u001b[39mmodel_cls\u001b[39m\u001b[39m\"\u001b[39m : model_cls, \n\u001b[0;32m   (...)\u001b[0m\n\u001b[1;32m    368\u001b[0m     \u001b[39m\"\u001b[39m\u001b[39mtest_ood\u001b[39m\u001b[39m\"\u001b[39m: ood \n\u001b[1;32m    369\u001b[0m }\n\u001b[1;32m    370\u001b[0m \u001b[39m# Run systems in parallel\u001b[39;00m\n\u001b[0;32m--> 371\u001b[0m data \u001b[39m=\u001b[39m Parallel(n_jobs\u001b[39m=\u001b[39;49mnum_parallel_cpu, timeout\u001b[39m=\u001b[39;49m\u001b[39m1e6\u001b[39;49m)(\n\u001b[1;32m    372\u001b[0m     delayed(\u001b[39mself\u001b[39;49m\u001b[39m.\u001b[39;49msystem_run)(rep_id, l, e, \u001b[39m*\u001b[39;49m\u001b[39m*\u001b[39;49mfixed_run_args ,system_seed\u001b[39m=\u001b[39;49msystem_seed, model_seed\u001b[39m=\u001b[39;49mmodel_seed) \n\u001b[1;32m    373\u001b[0m     \u001b[39mfor\u001b[39;49;00m rep_id, l, e, system_seed, model_seed \u001b[39min\u001b[39;49;00m system_run_args)\n\u001b[1;32m    375\u001b[0m \u001b[39mif\u001b[39;00m data:\n\u001b[1;32m    376\u001b[0m     data \u001b[39m=\u001b[39m pd\u001b[39m.\u001b[39mconcat(data)\n",
      "File \u001b[0;32m~/playground/DynaDojo/.venv/lib/python3.10/site-packages/joblib/parallel.py:1952\u001b[0m, in \u001b[0;36mParallel.__call__\u001b[0;34m(self, iterable)\u001b[0m\n\u001b[1;32m   1946\u001b[0m \u001b[39m# The first item from the output is blank, but it makes the interpreter\u001b[39;00m\n\u001b[1;32m   1947\u001b[0m \u001b[39m# progress until it enters the Try/Except block of the generator and\u001b[39;00m\n\u001b[1;32m   1948\u001b[0m \u001b[39m# reach the first `yield` statement. This starts the aynchronous\u001b[39;00m\n\u001b[1;32m   1949\u001b[0m \u001b[39m# dispatch of the tasks to the workers.\u001b[39;00m\n\u001b[1;32m   1950\u001b[0m \u001b[39mnext\u001b[39m(output)\n\u001b[0;32m-> 1952\u001b[0m \u001b[39mreturn\u001b[39;00m output \u001b[39mif\u001b[39;00m \u001b[39mself\u001b[39m\u001b[39m.\u001b[39mreturn_generator \u001b[39melse\u001b[39;00m \u001b[39mlist\u001b[39;49m(output)\n",
      "File \u001b[0;32m~/playground/DynaDojo/.venv/lib/python3.10/site-packages/joblib/parallel.py:1595\u001b[0m, in \u001b[0;36mParallel._get_outputs\u001b[0;34m(self, iterator, pre_dispatch)\u001b[0m\n\u001b[1;32m   1592\u001b[0m     \u001b[39myield\u001b[39;00m\n\u001b[1;32m   1594\u001b[0m     \u001b[39mwith\u001b[39;00m \u001b[39mself\u001b[39m\u001b[39m.\u001b[39m_backend\u001b[39m.\u001b[39mretrieval_context():\n\u001b[0;32m-> 1595\u001b[0m         \u001b[39myield from\u001b[39;00m \u001b[39mself\u001b[39m\u001b[39m.\u001b[39m_retrieve()\n\u001b[1;32m   1597\u001b[0m \u001b[39mexcept\u001b[39;00m \u001b[39mGeneratorExit\u001b[39;00m:\n\u001b[1;32m   1598\u001b[0m     \u001b[39m# The generator has been garbage collected before being fully\u001b[39;00m\n\u001b[1;32m   1599\u001b[0m     \u001b[39m# consumed. This aborts the remaining tasks if possible and warn\u001b[39;00m\n\u001b[1;32m   1600\u001b[0m     \u001b[39m# the user if necessary.\u001b[39;00m\n\u001b[1;32m   1601\u001b[0m     \u001b[39mself\u001b[39m\u001b[39m.\u001b[39m_exception \u001b[39m=\u001b[39m \u001b[39mTrue\u001b[39;00m\n",
      "File \u001b[0;32m~/playground/DynaDojo/.venv/lib/python3.10/site-packages/joblib/parallel.py:1707\u001b[0m, in \u001b[0;36mParallel._retrieve\u001b[0;34m(self)\u001b[0m\n\u001b[1;32m   1702\u001b[0m \u001b[39m# If the next job is not ready for retrieval yet, we just wait for\u001b[39;00m\n\u001b[1;32m   1703\u001b[0m \u001b[39m# async callbacks to progress.\u001b[39;00m\n\u001b[1;32m   1704\u001b[0m \u001b[39mif\u001b[39;00m ((\u001b[39mlen\u001b[39m(\u001b[39mself\u001b[39m\u001b[39m.\u001b[39m_jobs) \u001b[39m==\u001b[39m \u001b[39m0\u001b[39m) \u001b[39mor\u001b[39;00m\n\u001b[1;32m   1705\u001b[0m     (\u001b[39mself\u001b[39m\u001b[39m.\u001b[39m_jobs[\u001b[39m0\u001b[39m]\u001b[39m.\u001b[39mget_status(\n\u001b[1;32m   1706\u001b[0m         timeout\u001b[39m=\u001b[39m\u001b[39mself\u001b[39m\u001b[39m.\u001b[39mtimeout) \u001b[39m==\u001b[39m TASK_PENDING)):\n\u001b[0;32m-> 1707\u001b[0m     time\u001b[39m.\u001b[39;49msleep(\u001b[39m0.01\u001b[39;49m)\n\u001b[1;32m   1708\u001b[0m     \u001b[39mcontinue\u001b[39;00m\n\u001b[1;32m   1710\u001b[0m \u001b[39m# We need to be careful: the job list can be filling up as\u001b[39;00m\n\u001b[1;32m   1711\u001b[0m \u001b[39m# we empty it and Python list are not thread-safe by\u001b[39;00m\n\u001b[1;32m   1712\u001b[0m \u001b[39m# default hence the use of the lock\u001b[39;00m\n",
      "\u001b[0;31mKeyboardInterrupt\u001b[0m: "
     ]
    }
   ],
   "source": [
    "results = challenge.evaluate(SINDy,\n",
    "    seed=100,\n",
    "    noisy=True, \n",
    "    num_parallel_cpu = -1,\n",
    "    id=\"sindy\")\n",
    "results.head()"
   ]
  },
  {
   "cell_type": "markdown",
   "id": "9f97cabb",
   "metadata": {},
   "source": [
    "# Other Differentiation Methods"
   ]
  },
  {
   "cell_type": "code",
   "execution_count": 16,
   "id": "adf510902178ed2e",
   "metadata": {
    "ExecuteTime": {
     "end_time": "2023-08-22T21:07:08.447410Z",
     "start_time": "2023-08-22T21:06:55.223399Z"
    },
    "collapsed": false
   },
   "outputs": [
    {
     "ename": "IndexError",
     "evalue": "index 2 is out of bounds for axis 0 with size 2",
     "output_type": "error",
     "traceback": [
      "\u001b[0;31m---------------------------------------------------------------------------\u001b[0m",
      "\u001b[0;31m_RemoteTraceback\u001b[0m                          Traceback (most recent call last)",
      "\u001b[0;31m_RemoteTraceback\u001b[0m: \n\"\"\"\nTraceback (most recent call last):\n  File \"/Users/ngan/playground/DynaDojo/.venv/lib/python3.10/site-packages/joblib/externals/loky/process_executor.py\", line 463, in _process_worker\n    r = call_item()\n  File \"/Users/ngan/playground/DynaDojo/.venv/lib/python3.10/site-packages/joblib/externals/loky/process_executor.py\", line 291, in __call__\n    return self.fn(*self.args, **self.kwargs)\n  File \"/Users/ngan/playground/DynaDojo/.venv/lib/python3.10/site-packages/joblib/parallel.py\", line 589, in __call__\n    return [func(*args, **kwargs)\n  File \"/Users/ngan/playground/DynaDojo/.venv/lib/python3.10/site-packages/joblib/parallel.py\", line 589, in <listcomp>\n    return [func(*args, **kwargs)\n  File \"/Users/ngan/playground/DynaDojo/src/dynadojo/abstractions.py\", line 493, in system_run\n    model_run(n)\n  File \"/Users/ngan/playground/DynaDojo/src/dynadojo/abstractions.py\", line 475, in model_run\n    total_cost = self._fit_model(system, model, training_set_n, self._t, max_control_cost, fit_kwargs, act_kwargs, noisy)\n  File \"/Users/ngan/playground/DynaDojo/src/dynadojo/abstractions.py\", line 392, in _fit_model\n    model.fit(x, **fit_kwargs)\n  File \"/Users/ngan/playground/DynaDojo/src/dynadojo/baselines/sindy.py\", line 49, in fit\n    self._model.fit(X, t=t, multiple_trajectories=True, quiet=True, ensemble=True, n_models=5)\n  File \"/Users/ngan/playground/DynaDojo/.venv/lib/python3.10/site-packages/pysindy/pysindy.py\", line 343, in fit\n    x, x_dot = self._process_multiple_trajectories(x, t, x_dot)\n  File \"/Users/ngan/playground/DynaDojo/.venv/lib/python3.10/site-packages/pysindy/pysindy.py\", line 665, in _process_multiple_trajectories\n    x_dot = [\n  File \"/Users/ngan/playground/DynaDojo/.venv/lib/python3.10/site-packages/pysindy/pysindy.py\", line 666, in <listcomp>\n    self.feature_library.calc_trajectory(\n  File \"/Users/ngan/playground/DynaDojo/.venv/lib/python3.10/site-packages/pysindy/feature_library/base.py\", line 87, in calc_trajectory\n    x_dot = diff_method(x, t=t)\n  File \"/Users/ngan/playground/DynaDojo/.venv/lib/python3.10/site-packages/pysindy/differentiation/base.py\", line 49, in __call__\n    return self._differentiate(x, t)\n  File \"/Users/ngan/playground/DynaDojo/.venv/lib/python3.10/site-packages/pysindy/differentiation/smoothed_finite_difference.py\", line 60, in _differentiate\n    return super(SmoothedFiniteDifference, self)._differentiate(x, t)\n  File \"/Users/ngan/playground/DynaDojo/.venv/lib/python3.10/site-packages/pysindy/differentiation/finite_difference.py\", line 260, in _differentiate\n    coeffs = self._coefficients_boundary_forward(t)\n  File \"/Users/ngan/playground/DynaDojo/.venv/lib/python3.10/site-packages/pysindy/differentiation/finite_difference.py\", line 133, in _coefficients_boundary_forward\n    ((t[self.stencil_inds] - t[tinds])[:, np.newaxis, :]) ** pows\nIndexError: index 2 is out of bounds for axis 0 with size 2\n\"\"\"",
      "\nThe above exception was the direct cause of the following exception:\n",
      "\u001b[0;31mIndexError\u001b[0m                                Traceback (most recent call last)",
      "Cell \u001b[0;32mIn[16], line 2\u001b[0m\n\u001b[1;32m      1\u001b[0m \u001b[39m# Very sensitive to the smoothing parameters\u001b[39;00m\n\u001b[0;32m----> 2\u001b[0m smoothed_fd \u001b[39m=\u001b[39m challenge\u001b[39m.\u001b[39;49mevaluate(SINDy, \n\u001b[1;32m      3\u001b[0m     model_kwargs\u001b[39m=\u001b[39;49m{\u001b[39m\"\u001b[39;49m\u001b[39mdifferentiation_method\u001b[39;49m\u001b[39m\"\u001b[39;49m: ps\u001b[39m.\u001b[39;49mSmoothedFiniteDifference(\n\u001b[1;32m      4\u001b[0m         smoother_kws\u001b[39m=\u001b[39;49m{ \n\u001b[1;32m      5\u001b[0m             \u001b[39m'\u001b[39;49m\u001b[39mwindow_length\u001b[39;49m\u001b[39m'\u001b[39;49m: timesteps\u001b[39m/\u001b[39;49m\u001b[39m/\u001b[39;49m\u001b[39m2\u001b[39;49m,\n\u001b[1;32m      6\u001b[0m             \u001b[39m'\u001b[39;49m\u001b[39mpolyorder\u001b[39;49m\u001b[39m'\u001b[39;49m: timesteps\u001b[39m/\u001b[39;49m\u001b[39m/\u001b[39;49m\u001b[39m4\u001b[39;49m\n\u001b[1;32m      7\u001b[0m         })}, \n\u001b[1;32m      8\u001b[0m     noisy\u001b[39m=\u001b[39;49m\u001b[39mTrue\u001b[39;49;00m, \u001b[39mid\u001b[39;49m\u001b[39m=\u001b[39;49m\u001b[39m\"\u001b[39;49m\u001b[39msmoothed finite diff\u001b[39;49m\u001b[39m\"\u001b[39;49m)\n\u001b[1;32m      9\u001b[0m smoothed_fd\u001b[39m.\u001b[39mhead()\n",
      "File \u001b[0;32m~/playground/DynaDojo/src/dynadojo/abstractions.py:371\u001b[0m, in \u001b[0;36mChallenge.evaluate\u001b[0;34m(self, model_cls, model_kwargs, fit_kwargs, act_kwargs, ood, noisy, id, num_parallel_cpu, seed, reps_filter, L_filter, rep_l_filter)\u001b[0m\n\u001b[1;32m    361\u001b[0m fixed_run_args \u001b[39m=\u001b[39m { \n\u001b[1;32m    362\u001b[0m     \u001b[39m# **kwargs, #ToDo: consider adding extra kwargs to pass to system_run\u001b[39;00m\n\u001b[1;32m    363\u001b[0m     \u001b[39m\"\u001b[39m\u001b[39mmodel_cls\u001b[39m\u001b[39m\"\u001b[39m : model_cls, \n\u001b[0;32m   (...)\u001b[0m\n\u001b[1;32m    368\u001b[0m     \u001b[39m\"\u001b[39m\u001b[39mtest_ood\u001b[39m\u001b[39m\"\u001b[39m: ood \n\u001b[1;32m    369\u001b[0m }\n\u001b[1;32m    370\u001b[0m \u001b[39m# Run systems in parallel\u001b[39;00m\n\u001b[0;32m--> 371\u001b[0m data \u001b[39m=\u001b[39m Parallel(n_jobs\u001b[39m=\u001b[39;49mnum_parallel_cpu, timeout\u001b[39m=\u001b[39;49m\u001b[39m1e6\u001b[39;49m)(\n\u001b[1;32m    372\u001b[0m     delayed(\u001b[39mself\u001b[39;49m\u001b[39m.\u001b[39;49msystem_run)(rep_id, l, e, \u001b[39m*\u001b[39;49m\u001b[39m*\u001b[39;49mfixed_run_args ,system_seed\u001b[39m=\u001b[39;49msystem_seed, model_seed\u001b[39m=\u001b[39;49mmodel_seed) \n\u001b[1;32m    373\u001b[0m     \u001b[39mfor\u001b[39;49;00m rep_id, l, e, system_seed, model_seed \u001b[39min\u001b[39;49;00m system_run_args)\n\u001b[1;32m    375\u001b[0m \u001b[39mif\u001b[39;00m data:\n\u001b[1;32m    376\u001b[0m     data \u001b[39m=\u001b[39m pd\u001b[39m.\u001b[39mconcat(data)\n",
      "File \u001b[0;32m~/playground/DynaDojo/.venv/lib/python3.10/site-packages/joblib/parallel.py:1952\u001b[0m, in \u001b[0;36mParallel.__call__\u001b[0;34m(self, iterable)\u001b[0m\n\u001b[1;32m   1946\u001b[0m \u001b[39m# The first item from the output is blank, but it makes the interpreter\u001b[39;00m\n\u001b[1;32m   1947\u001b[0m \u001b[39m# progress until it enters the Try/Except block of the generator and\u001b[39;00m\n\u001b[1;32m   1948\u001b[0m \u001b[39m# reach the first `yield` statement. This starts the aynchronous\u001b[39;00m\n\u001b[1;32m   1949\u001b[0m \u001b[39m# dispatch of the tasks to the workers.\u001b[39;00m\n\u001b[1;32m   1950\u001b[0m \u001b[39mnext\u001b[39m(output)\n\u001b[0;32m-> 1952\u001b[0m \u001b[39mreturn\u001b[39;00m output \u001b[39mif\u001b[39;00m \u001b[39mself\u001b[39m\u001b[39m.\u001b[39mreturn_generator \u001b[39melse\u001b[39;00m \u001b[39mlist\u001b[39;49m(output)\n",
      "File \u001b[0;32m~/playground/DynaDojo/.venv/lib/python3.10/site-packages/joblib/parallel.py:1595\u001b[0m, in \u001b[0;36mParallel._get_outputs\u001b[0;34m(self, iterator, pre_dispatch)\u001b[0m\n\u001b[1;32m   1592\u001b[0m     \u001b[39myield\u001b[39;00m\n\u001b[1;32m   1594\u001b[0m     \u001b[39mwith\u001b[39;00m \u001b[39mself\u001b[39m\u001b[39m.\u001b[39m_backend\u001b[39m.\u001b[39mretrieval_context():\n\u001b[0;32m-> 1595\u001b[0m         \u001b[39myield from\u001b[39;00m \u001b[39mself\u001b[39m\u001b[39m.\u001b[39m_retrieve()\n\u001b[1;32m   1597\u001b[0m \u001b[39mexcept\u001b[39;00m \u001b[39mGeneratorExit\u001b[39;00m:\n\u001b[1;32m   1598\u001b[0m     \u001b[39m# The generator has been garbage collected before being fully\u001b[39;00m\n\u001b[1;32m   1599\u001b[0m     \u001b[39m# consumed. This aborts the remaining tasks if possible and warn\u001b[39;00m\n\u001b[1;32m   1600\u001b[0m     \u001b[39m# the user if necessary.\u001b[39;00m\n\u001b[1;32m   1601\u001b[0m     \u001b[39mself\u001b[39m\u001b[39m.\u001b[39m_exception \u001b[39m=\u001b[39m \u001b[39mTrue\u001b[39;00m\n",
      "File \u001b[0;32m~/playground/DynaDojo/.venv/lib/python3.10/site-packages/joblib/parallel.py:1699\u001b[0m, in \u001b[0;36mParallel._retrieve\u001b[0;34m(self)\u001b[0m\n\u001b[1;32m   1692\u001b[0m \u001b[39mwhile\u001b[39;00m \u001b[39mself\u001b[39m\u001b[39m.\u001b[39m_wait_retrieval():\n\u001b[1;32m   1693\u001b[0m \n\u001b[1;32m   1694\u001b[0m     \u001b[39m# If the callback thread of a worker has signaled that its task\u001b[39;00m\n\u001b[1;32m   1695\u001b[0m     \u001b[39m# triggered an exception, or if the retrieval loop has raised an\u001b[39;00m\n\u001b[1;32m   1696\u001b[0m     \u001b[39m# exception (e.g. `GeneratorExit`), exit the loop and surface the\u001b[39;00m\n\u001b[1;32m   1697\u001b[0m     \u001b[39m# worker traceback.\u001b[39;00m\n\u001b[1;32m   1698\u001b[0m     \u001b[39mif\u001b[39;00m \u001b[39mself\u001b[39m\u001b[39m.\u001b[39m_aborting:\n\u001b[0;32m-> 1699\u001b[0m         \u001b[39mself\u001b[39;49m\u001b[39m.\u001b[39;49m_raise_error_fast()\n\u001b[1;32m   1700\u001b[0m         \u001b[39mbreak\u001b[39;00m\n\u001b[1;32m   1702\u001b[0m     \u001b[39m# If the next job is not ready for retrieval yet, we just wait for\u001b[39;00m\n\u001b[1;32m   1703\u001b[0m     \u001b[39m# async callbacks to progress.\u001b[39;00m\n",
      "File \u001b[0;32m~/playground/DynaDojo/.venv/lib/python3.10/site-packages/joblib/parallel.py:1734\u001b[0m, in \u001b[0;36mParallel._raise_error_fast\u001b[0;34m(self)\u001b[0m\n\u001b[1;32m   1730\u001b[0m \u001b[39m# If this error job exists, immediatly raise the error by\u001b[39;00m\n\u001b[1;32m   1731\u001b[0m \u001b[39m# calling get_result. This job might not exists if abort has been\u001b[39;00m\n\u001b[1;32m   1732\u001b[0m \u001b[39m# called directly or if the generator is gc'ed.\u001b[39;00m\n\u001b[1;32m   1733\u001b[0m \u001b[39mif\u001b[39;00m error_job \u001b[39mis\u001b[39;00m \u001b[39mnot\u001b[39;00m \u001b[39mNone\u001b[39;00m:\n\u001b[0;32m-> 1734\u001b[0m     error_job\u001b[39m.\u001b[39;49mget_result(\u001b[39mself\u001b[39;49m\u001b[39m.\u001b[39;49mtimeout)\n",
      "File \u001b[0;32m~/playground/DynaDojo/.venv/lib/python3.10/site-packages/joblib/parallel.py:736\u001b[0m, in \u001b[0;36mBatchCompletionCallBack.get_result\u001b[0;34m(self, timeout)\u001b[0m\n\u001b[1;32m    730\u001b[0m backend \u001b[39m=\u001b[39m \u001b[39mself\u001b[39m\u001b[39m.\u001b[39mparallel\u001b[39m.\u001b[39m_backend\n\u001b[1;32m    732\u001b[0m \u001b[39mif\u001b[39;00m backend\u001b[39m.\u001b[39msupports_retrieve_callback:\n\u001b[1;32m    733\u001b[0m     \u001b[39m# We assume that the result has already been retrieved by the\u001b[39;00m\n\u001b[1;32m    734\u001b[0m     \u001b[39m# callback thread, and is stored internally. It's just waiting to\u001b[39;00m\n\u001b[1;32m    735\u001b[0m     \u001b[39m# be returned.\u001b[39;00m\n\u001b[0;32m--> 736\u001b[0m     \u001b[39mreturn\u001b[39;00m \u001b[39mself\u001b[39;49m\u001b[39m.\u001b[39;49m_return_or_raise()\n\u001b[1;32m    738\u001b[0m \u001b[39m# For other backends, the main thread needs to run the retrieval step.\u001b[39;00m\n\u001b[1;32m    739\u001b[0m \u001b[39mtry\u001b[39;00m:\n",
      "File \u001b[0;32m~/playground/DynaDojo/.venv/lib/python3.10/site-packages/joblib/parallel.py:754\u001b[0m, in \u001b[0;36mBatchCompletionCallBack._return_or_raise\u001b[0;34m(self)\u001b[0m\n\u001b[1;32m    752\u001b[0m \u001b[39mtry\u001b[39;00m:\n\u001b[1;32m    753\u001b[0m     \u001b[39mif\u001b[39;00m \u001b[39mself\u001b[39m\u001b[39m.\u001b[39mstatus \u001b[39m==\u001b[39m TASK_ERROR:\n\u001b[0;32m--> 754\u001b[0m         \u001b[39mraise\u001b[39;00m \u001b[39mself\u001b[39m\u001b[39m.\u001b[39m_result\n\u001b[1;32m    755\u001b[0m     \u001b[39mreturn\u001b[39;00m \u001b[39mself\u001b[39m\u001b[39m.\u001b[39m_result\n\u001b[1;32m    756\u001b[0m \u001b[39mfinally\u001b[39;00m:\n",
      "\u001b[0;31mIndexError\u001b[0m: index 2 is out of bounds for axis 0 with size 2"
     ]
    }
   ],
   "source": [
    "# Very sensitive to the smoothing parameters\n",
    "smoothed_fd = challenge.evaluate(SINDy, \n",
    "    model_kwargs={\"differentiation_method\": ps.SmoothedFiniteDifference(\n",
    "        smoother_kws={ \n",
    "            'window_length': timesteps//2,\n",
    "            'polyorder': timesteps//4\n",
    "        })}, \n",
    "    noisy=True, id=\"smoothed finite diff\")\n",
    "smoothed_fd.head()"
   ]
  },
  {
   "cell_type": "code",
   "execution_count": 70,
   "id": "89b7a2c16459024c",
   "metadata": {
    "ExecuteTime": {
     "end_time": "2023-08-22T20:56:53.962672Z",
     "start_time": "2023-08-22T20:56:40.060020Z"
    },
    "collapsed": false
   },
   "outputs": [
    {
     "name": "stdout",
     "output_type": "stream",
     "text": [
      "rep_id=0, latent_dim=2, embed_dim=2, n=5, t=50, control_h=0, total_cost=0, error=1.46e-05, ood_error=NA,model_seed=478491815, sys_seed=4285026285\n",
      "rep_id=0, latent_dim=2, embed_dim=2, n=10, t=50, control_h=0, total_cost=0, error=1.8e-05, ood_error=NA,model_seed=478491815, sys_seed=4285026285\n",
      "rep_id=0, latent_dim=2, embed_dim=2, n=50, t=50, control_h=0, total_cost=0, error=1.75e-05, ood_error=NA,model_seed=478491815, sys_seed=4285026285\n"
     ]
    },
    {
     "data": {
      "text/html": [
       "<div>\n",
       "<style scoped>\n",
       "    .dataframe tbody tr th:only-of-type {\n",
       "        vertical-align: middle;\n",
       "    }\n",
       "\n",
       "    .dataframe tbody tr th {\n",
       "        vertical-align: top;\n",
       "    }\n",
       "\n",
       "    .dataframe thead th {\n",
       "        text-align: right;\n",
       "    }\n",
       "</style>\n",
       "<table border=\"1\" class=\"dataframe\">\n",
       "  <thead>\n",
       "    <tr style=\"text-align: right;\">\n",
       "      <th></th>\n",
       "      <th>rep</th>\n",
       "      <th>latent_dim</th>\n",
       "      <th>embed_dim</th>\n",
       "      <th>timesteps</th>\n",
       "      <th>n</th>\n",
       "      <th>error</th>\n",
       "      <th>ood_error</th>\n",
       "      <th>total_cost</th>\n",
       "      <th>duration</th>\n",
       "      <th>system_seed</th>\n",
       "      <th>model_seed</th>\n",
       "      <th>id</th>\n",
       "      <th>control_horizon</th>\n",
       "    </tr>\n",
       "  </thead>\n",
       "  <tbody>\n",
       "    <tr>\n",
       "      <th>0</th>\n",
       "      <td>0</td>\n",
       "      <td>2</td>\n",
       "      <td>2</td>\n",
       "      <td>50</td>\n",
       "      <td>5</td>\n",
       "      <td>0.000015</td>\n",
       "      <td>None</td>\n",
       "      <td>0</td>\n",
       "      <td>0.244657</td>\n",
       "      <td>4285026285</td>\n",
       "      <td>478491815</td>\n",
       "      <td>finite diff</td>\n",
       "      <td>0</td>\n",
       "    </tr>\n",
       "    <tr>\n",
       "      <th>1</th>\n",
       "      <td>0</td>\n",
       "      <td>2</td>\n",
       "      <td>2</td>\n",
       "      <td>50</td>\n",
       "      <td>10</td>\n",
       "      <td>0.000018</td>\n",
       "      <td>None</td>\n",
       "      <td>0</td>\n",
       "      <td>0.242584</td>\n",
       "      <td>4285026285</td>\n",
       "      <td>478491815</td>\n",
       "      <td>finite diff</td>\n",
       "      <td>0</td>\n",
       "    </tr>\n",
       "    <tr>\n",
       "      <th>2</th>\n",
       "      <td>0</td>\n",
       "      <td>2</td>\n",
       "      <td>2</td>\n",
       "      <td>50</td>\n",
       "      <td>50</td>\n",
       "      <td>0.000017</td>\n",
       "      <td>None</td>\n",
       "      <td>0</td>\n",
       "      <td>0.250348</td>\n",
       "      <td>4285026285</td>\n",
       "      <td>478491815</td>\n",
       "      <td>finite diff</td>\n",
       "      <td>0</td>\n",
       "    </tr>\n",
       "  </tbody>\n",
       "</table>\n",
       "</div>"
      ],
      "text/plain": [
       "   rep  latent_dim  embed_dim  timesteps   n     error ood_error  total_cost  \\\n",
       "0    0           2          2         50   5  0.000015      None           0   \n",
       "1    0           2          2         50  10  0.000018      None           0   \n",
       "2    0           2          2         50  50  0.000017      None           0   \n",
       "\n",
       "   duration  system_seed  model_seed           id  control_horizon  \n",
       "0  0.244657   4285026285   478491815  finite diff                0  \n",
       "1  0.242584   4285026285   478491815  finite diff                0  \n",
       "2  0.250348   4285026285   478491815  finite diff                0  "
      ]
     },
     "execution_count": 70,
     "metadata": {},
     "output_type": "execute_result"
    }
   ],
   "source": [
    "fd = challenge.evaluate(SINDy, model_kwargs={\"differentiation_method\": ps.FiniteDifference()}, noisy=True, id=\"finite diff\")\n",
    "fd.head()"
   ]
  },
  {
   "cell_type": "code",
   "execution_count": 71,
   "id": "edf7b4419735aef5",
   "metadata": {
    "ExecuteTime": {
     "end_time": "2023-08-22T20:58:38.216421Z",
     "start_time": "2023-08-22T20:58:24.769388Z"
    },
    "collapsed": false
   },
   "outputs": [
    {
     "name": "stdout",
     "output_type": "stream",
     "text": [
      "rep_id=0, latent_dim=2, embed_dim=2, n=5, t=50, control_h=0, total_cost=0, error=1.52, ood_error=NA,model_seed=4289484824, sys_seed=2442242350\n",
      "rep_id=0, latent_dim=2, embed_dim=2, n=10, t=50, control_h=0, total_cost=0, error=1.79, ood_error=NA,model_seed=4289484824, sys_seed=2442242350\n",
      "rep_id=0, latent_dim=2, embed_dim=2, n=50, t=50, control_h=0, total_cost=0, error=0.0692, ood_error=NA,model_seed=4289484824, sys_seed=2442242350\n"
     ]
    },
    {
     "data": {
      "text/html": [
       "<div>\n",
       "<style scoped>\n",
       "    .dataframe tbody tr th:only-of-type {\n",
       "        vertical-align: middle;\n",
       "    }\n",
       "\n",
       "    .dataframe tbody tr th {\n",
       "        vertical-align: top;\n",
       "    }\n",
       "\n",
       "    .dataframe thead th {\n",
       "        text-align: right;\n",
       "    }\n",
       "</style>\n",
       "<table border=\"1\" class=\"dataframe\">\n",
       "  <thead>\n",
       "    <tr style=\"text-align: right;\">\n",
       "      <th></th>\n",
       "      <th>rep</th>\n",
       "      <th>latent_dim</th>\n",
       "      <th>embed_dim</th>\n",
       "      <th>timesteps</th>\n",
       "      <th>n</th>\n",
       "      <th>error</th>\n",
       "      <th>ood_error</th>\n",
       "      <th>total_cost</th>\n",
       "      <th>duration</th>\n",
       "      <th>system_seed</th>\n",
       "      <th>model_seed</th>\n",
       "      <th>id</th>\n",
       "      <th>control_horizon</th>\n",
       "    </tr>\n",
       "  </thead>\n",
       "  <tbody>\n",
       "    <tr>\n",
       "      <th>0</th>\n",
       "      <td>0</td>\n",
       "      <td>2</td>\n",
       "      <td>2</td>\n",
       "      <td>50</td>\n",
       "      <td>5</td>\n",
       "      <td>1.518529</td>\n",
       "      <td>None</td>\n",
       "      <td>0</td>\n",
       "      <td>0.186346</td>\n",
       "      <td>2442242350</td>\n",
       "      <td>4289484824</td>\n",
       "      <td>trend filtered</td>\n",
       "      <td>0</td>\n",
       "    </tr>\n",
       "    <tr>\n",
       "      <th>1</th>\n",
       "      <td>0</td>\n",
       "      <td>2</td>\n",
       "      <td>2</td>\n",
       "      <td>50</td>\n",
       "      <td>10</td>\n",
       "      <td>1.787316</td>\n",
       "      <td>None</td>\n",
       "      <td>0</td>\n",
       "      <td>0.168418</td>\n",
       "      <td>2442242350</td>\n",
       "      <td>4289484824</td>\n",
       "      <td>trend filtered</td>\n",
       "      <td>0</td>\n",
       "    </tr>\n",
       "    <tr>\n",
       "      <th>2</th>\n",
       "      <td>0</td>\n",
       "      <td>2</td>\n",
       "      <td>2</td>\n",
       "      <td>50</td>\n",
       "      <td>50</td>\n",
       "      <td>0.069229</td>\n",
       "      <td>None</td>\n",
       "      <td>0</td>\n",
       "      <td>0.318911</td>\n",
       "      <td>2442242350</td>\n",
       "      <td>4289484824</td>\n",
       "      <td>trend filtered</td>\n",
       "      <td>0</td>\n",
       "    </tr>\n",
       "  </tbody>\n",
       "</table>\n",
       "</div>"
      ],
      "text/plain": [
       "   rep  latent_dim  embed_dim  timesteps   n     error ood_error  total_cost  \\\n",
       "0    0           2          2         50   5  1.518529      None           0   \n",
       "1    0           2          2         50  10  1.787316      None           0   \n",
       "2    0           2          2         50  50  0.069229      None           0   \n",
       "\n",
       "   duration  system_seed  model_seed              id  control_horizon  \n",
       "0  0.186346   2442242350  4289484824  trend filtered                0  \n",
       "1  0.168418   2442242350  4289484824  trend filtered                0  \n",
       "2  0.318911   2442242350  4289484824  trend filtered                0  "
      ]
     },
     "execution_count": 71,
     "metadata": {},
     "output_type": "execute_result"
    }
   ],
   "source": [
    "tf = challenge.evaluate(SINDy, model_kwargs={\"differentiation_method\": ps.SINDyDerivative(kind='trend_filtered', order=0, alpha=1e-2)}, noisy=True, id=\"trend filtered\")\n",
    "tf.head()"
   ]
  },
  {
   "cell_type": "code",
   "execution_count": 72,
   "id": "71a520bd4e731175",
   "metadata": {
    "ExecuteTime": {
     "end_time": "2023-08-22T20:59:00.406600Z",
     "start_time": "2023-08-22T20:58:46.171574Z"
    },
    "collapsed": false
   },
   "outputs": [
    {
     "name": "stdout",
     "output_type": "stream",
     "text": [
      "rep_id=0, latent_dim=2, embed_dim=2, n=5, t=50, control_h=0, total_cost=0, error=0.0554, ood_error=NA,model_seed=2001965979, sys_seed=2238852262\n",
      "rep_id=0, latent_dim=2, embed_dim=2, n=10, t=50, control_h=0, total_cost=0, error=0.0492, ood_error=NA,model_seed=2001965979, sys_seed=2238852262\n",
      "rep_id=0, latent_dim=2, embed_dim=2, n=50, t=50, control_h=0, total_cost=0, error=0.000511, ood_error=NA,model_seed=2001965979, sys_seed=2238852262\n"
     ]
    },
    {
     "data": {
      "text/html": [
       "<div>\n",
       "<style scoped>\n",
       "    .dataframe tbody tr th:only-of-type {\n",
       "        vertical-align: middle;\n",
       "    }\n",
       "\n",
       "    .dataframe tbody tr th {\n",
       "        vertical-align: top;\n",
       "    }\n",
       "\n",
       "    .dataframe thead th {\n",
       "        text-align: right;\n",
       "    }\n",
       "</style>\n",
       "<table border=\"1\" class=\"dataframe\">\n",
       "  <thead>\n",
       "    <tr style=\"text-align: right;\">\n",
       "      <th></th>\n",
       "      <th>rep</th>\n",
       "      <th>latent_dim</th>\n",
       "      <th>embed_dim</th>\n",
       "      <th>timesteps</th>\n",
       "      <th>n</th>\n",
       "      <th>error</th>\n",
       "      <th>ood_error</th>\n",
       "      <th>total_cost</th>\n",
       "      <th>duration</th>\n",
       "      <th>system_seed</th>\n",
       "      <th>model_seed</th>\n",
       "      <th>id</th>\n",
       "      <th>control_horizon</th>\n",
       "    </tr>\n",
       "  </thead>\n",
       "  <tbody>\n",
       "    <tr>\n",
       "      <th>0</th>\n",
       "      <td>0</td>\n",
       "      <td>2</td>\n",
       "      <td>2</td>\n",
       "      <td>50</td>\n",
       "      <td>5</td>\n",
       "      <td>0.055367</td>\n",
       "      <td>None</td>\n",
       "      <td>0</td>\n",
       "      <td>0.310694</td>\n",
       "      <td>2238852262</td>\n",
       "      <td>2001965979</td>\n",
       "      <td>spline</td>\n",
       "      <td>0</td>\n",
       "    </tr>\n",
       "    <tr>\n",
       "      <th>1</th>\n",
       "      <td>0</td>\n",
       "      <td>2</td>\n",
       "      <td>2</td>\n",
       "      <td>50</td>\n",
       "      <td>10</td>\n",
       "      <td>0.049223</td>\n",
       "      <td>None</td>\n",
       "      <td>0</td>\n",
       "      <td>0.304703</td>\n",
       "      <td>2238852262</td>\n",
       "      <td>2001965979</td>\n",
       "      <td>spline</td>\n",
       "      <td>0</td>\n",
       "    </tr>\n",
       "    <tr>\n",
       "      <th>2</th>\n",
       "      <td>0</td>\n",
       "      <td>2</td>\n",
       "      <td>2</td>\n",
       "      <td>50</td>\n",
       "      <td>50</td>\n",
       "      <td>0.000511</td>\n",
       "      <td>None</td>\n",
       "      <td>0</td>\n",
       "      <td>0.282101</td>\n",
       "      <td>2238852262</td>\n",
       "      <td>2001965979</td>\n",
       "      <td>spline</td>\n",
       "      <td>0</td>\n",
       "    </tr>\n",
       "  </tbody>\n",
       "</table>\n",
       "</div>"
      ],
      "text/plain": [
       "   rep  latent_dim  embed_dim  timesteps   n     error ood_error  total_cost  \\\n",
       "0    0           2          2         50   5  0.055367      None           0   \n",
       "1    0           2          2         50  10  0.049223      None           0   \n",
       "2    0           2          2         50  50  0.000511      None           0   \n",
       "\n",
       "   duration  system_seed  model_seed      id  control_horizon  \n",
       "0  0.310694   2238852262  2001965979  spline                0  \n",
       "1  0.304703   2238852262  2001965979  spline                0  \n",
       "2  0.282101   2238852262  2001965979  spline                0  "
      ]
     },
     "execution_count": 72,
     "metadata": {},
     "output_type": "execute_result"
    }
   ],
   "source": [
    "spline = challenge.evaluate(SINDy, model_kwargs={\"differentiation_method\": ps.SINDyDerivative(kind='spline', s=1e-2)}, noisy=True, id=\"spline\")\n",
    "spline.head()"
   ]
  },
  {
   "cell_type": "code",
   "execution_count": null,
   "id": "45820aa4",
   "metadata": {},
   "outputs": [],
   "source": []
  }
 ],
 "metadata": {
  "kernelspec": {
   "display_name": "Python 3.10.13 ('.venv': venv)",
   "language": "python",
   "name": "python3"
  },
  "language_info": {
   "codemirror_mode": {
    "name": "ipython",
    "version": 3
   },
   "file_extension": ".py",
   "mimetype": "text/x-python",
   "name": "python",
   "nbconvert_exporter": "python",
   "pygments_lexer": "ipython3",
   "version": "3.10.13"
  },
  "vscode": {
   "interpreter": {
    "hash": "3773aad5e061e19e4f842f01c74142b10fff2d671cff92ab74be7a021ba49549"
   }
  }
 },
 "nbformat": 4,
 "nbformat_minor": 5
}
