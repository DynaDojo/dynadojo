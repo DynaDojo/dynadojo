{
 "cells": [
  {
   "cell_type": "code",
   "execution_count": 1,
   "id": "initial_id",
   "metadata": {
    "collapsed": true,
    "ExecuteTime": {
     "end_time": "2023-08-22T20:44:29.847318Z",
     "start_time": "2023-08-22T20:44:29.815111Z"
    }
   },
   "outputs": [],
   "source": [
    "%load_ext autoreload\n",
    "%autoreload 2"
   ]
  },
  {
   "cell_type": "code",
   "execution_count": 53,
   "outputs": [],
   "source": [
    "from dynadojo.baselines import SINDy\n",
    "from dynadojo.systems import LorenzSystem\n",
    "from dynadojo.challenges import FixedComplexity\n",
    "\n",
    "import pysindy as ps"
   ],
   "metadata": {
    "collapsed": false,
    "ExecuteTime": {
     "end_time": "2023-08-22T21:07:35.619215Z",
     "start_time": "2023-08-22T21:07:35.417226Z"
    }
   },
   "id": "a9742bb979b0cad5"
  },
  {
   "cell_type": "code",
   "execution_count": 50,
   "outputs": [],
   "source": [
    "challenge = FixedComplexity(N=[1], l=3, e=None, t=50, reps=1, control_horizons=0, max_control_cost_per_dim=0, test_examples=10, test_timesteps=50, system_cls=LorenzSystem, system_kwargs={\"noise_scale\": 0.01})"
   ],
   "metadata": {
    "collapsed": false,
    "ExecuteTime": {
     "end_time": "2023-08-22T21:06:36.014917Z",
     "start_time": "2023-08-22T21:06:35.845841Z"
    }
   },
   "id": "d9cb03ad71e8edea"
  },
  {
   "cell_type": "code",
   "execution_count": 52,
   "outputs": [
    {
     "data": {
      "text/plain": "   rep  n  latent_dim  embed_dim  timesteps  control_horizons      loss   \n0    0  1           3          3         50                 0  4.877667  \\\n\n   total_cost                    id  \n0           0  smoothed finite diff  ",
      "text/html": "<div>\n<style scoped>\n    .dataframe tbody tr th:only-of-type {\n        vertical-align: middle;\n    }\n\n    .dataframe tbody tr th {\n        vertical-align: top;\n    }\n\n    .dataframe thead th {\n        text-align: right;\n    }\n</style>\n<table border=\"1\" class=\"dataframe\">\n  <thead>\n    <tr style=\"text-align: right;\">\n      <th></th>\n      <th>rep</th>\n      <th>n</th>\n      <th>latent_dim</th>\n      <th>embed_dim</th>\n      <th>timesteps</th>\n      <th>control_horizons</th>\n      <th>loss</th>\n      <th>total_cost</th>\n      <th>id</th>\n    </tr>\n  </thead>\n  <tbody>\n    <tr>\n      <th>0</th>\n      <td>0</td>\n      <td>1</td>\n      <td>3</td>\n      <td>3</td>\n      <td>50</td>\n      <td>0</td>\n      <td>4.877667</td>\n      <td>0</td>\n      <td>smoothed finite diff</td>\n    </tr>\n  </tbody>\n</table>\n</div>"
     },
     "execution_count": 52,
     "metadata": {},
     "output_type": "execute_result"
    }
   ],
   "source": [
    "smoothed_fd = challenge.evaluate(SINDy, model_kwargs={\"differentiation_method\": ps.SmoothedFiniteDifference()}, noisy=True, id=\"smoothed finite diff\")\n",
    "smoothed_fd.head()"
   ],
   "metadata": {
    "collapsed": false,
    "ExecuteTime": {
     "end_time": "2023-08-22T21:07:08.447410Z",
     "start_time": "2023-08-22T21:06:55.223399Z"
    }
   },
   "id": "adf510902178ed2e"
  },
  {
   "cell_type": "code",
   "execution_count": 28,
   "outputs": [
    {
     "data": {
      "text/plain": "   rep  n  latent_dim  embed_dim  timesteps  control_horizons      loss   \n0    0  1           3          3         50                 0  0.815624  \\\n\n   total_cost           id  \n0           0  finite diff  ",
      "text/html": "<div>\n<style scoped>\n    .dataframe tbody tr th:only-of-type {\n        vertical-align: middle;\n    }\n\n    .dataframe tbody tr th {\n        vertical-align: top;\n    }\n\n    .dataframe thead th {\n        text-align: right;\n    }\n</style>\n<table border=\"1\" class=\"dataframe\">\n  <thead>\n    <tr style=\"text-align: right;\">\n      <th></th>\n      <th>rep</th>\n      <th>n</th>\n      <th>latent_dim</th>\n      <th>embed_dim</th>\n      <th>timesteps</th>\n      <th>control_horizons</th>\n      <th>loss</th>\n      <th>total_cost</th>\n      <th>id</th>\n    </tr>\n  </thead>\n  <tbody>\n    <tr>\n      <th>0</th>\n      <td>0</td>\n      <td>1</td>\n      <td>3</td>\n      <td>3</td>\n      <td>50</td>\n      <td>0</td>\n      <td>0.815624</td>\n      <td>0</td>\n      <td>finite diff</td>\n    </tr>\n  </tbody>\n</table>\n</div>"
     },
     "execution_count": 28,
     "metadata": {},
     "output_type": "execute_result"
    }
   ],
   "source": [
    "fd = challenge.evaluate(SINDy, model_kwargs={\"differentiation_method\": ps.FiniteDifference()}, noisy=True, id=\"finite diff\")\n",
    "fd.head()"
   ],
   "metadata": {
    "collapsed": false,
    "ExecuteTime": {
     "end_time": "2023-08-22T20:56:53.962672Z",
     "start_time": "2023-08-22T20:56:40.060020Z"
    }
   },
   "id": "89b7a2c16459024c"
  },
  {
   "cell_type": "code",
   "execution_count": 31,
   "outputs": [
    {
     "data": {
      "text/plain": "   rep  n  latent_dim  embed_dim  timesteps  control_horizons       loss   \n0    0  1           3          3         50                 0  17.952157  \\\n\n   total_cost              id  \n0           0  trend filtered  ",
      "text/html": "<div>\n<style scoped>\n    .dataframe tbody tr th:only-of-type {\n        vertical-align: middle;\n    }\n\n    .dataframe tbody tr th {\n        vertical-align: top;\n    }\n\n    .dataframe thead th {\n        text-align: right;\n    }\n</style>\n<table border=\"1\" class=\"dataframe\">\n  <thead>\n    <tr style=\"text-align: right;\">\n      <th></th>\n      <th>rep</th>\n      <th>n</th>\n      <th>latent_dim</th>\n      <th>embed_dim</th>\n      <th>timesteps</th>\n      <th>control_horizons</th>\n      <th>loss</th>\n      <th>total_cost</th>\n      <th>id</th>\n    </tr>\n  </thead>\n  <tbody>\n    <tr>\n      <th>0</th>\n      <td>0</td>\n      <td>1</td>\n      <td>3</td>\n      <td>3</td>\n      <td>50</td>\n      <td>0</td>\n      <td>17.952157</td>\n      <td>0</td>\n      <td>trend filtered</td>\n    </tr>\n  </tbody>\n</table>\n</div>"
     },
     "execution_count": 31,
     "metadata": {},
     "output_type": "execute_result"
    }
   ],
   "source": [
    "tf = challenge.evaluate(SINDy, model_kwargs={\"differentiation_method\": ps.SINDyDerivative(kind='trend_filtered', order=0, alpha=1e-2)}, noisy=True, id=\"trend filtered\")\n",
    "tf.head()"
   ],
   "metadata": {
    "collapsed": false,
    "ExecuteTime": {
     "end_time": "2023-08-22T20:58:38.216421Z",
     "start_time": "2023-08-22T20:58:24.769388Z"
    }
   },
   "id": "edf7b4419735aef5"
  },
  {
   "cell_type": "code",
   "execution_count": 32,
   "outputs": [
    {
     "data": {
      "text/plain": "   rep  n  latent_dim  embed_dim  timesteps  control_horizons      loss   \n0    0  1           3          3         50                 0  0.628707  \\\n\n   total_cost      id  \n0           0  spline  ",
      "text/html": "<div>\n<style scoped>\n    .dataframe tbody tr th:only-of-type {\n        vertical-align: middle;\n    }\n\n    .dataframe tbody tr th {\n        vertical-align: top;\n    }\n\n    .dataframe thead th {\n        text-align: right;\n    }\n</style>\n<table border=\"1\" class=\"dataframe\">\n  <thead>\n    <tr style=\"text-align: right;\">\n      <th></th>\n      <th>rep</th>\n      <th>n</th>\n      <th>latent_dim</th>\n      <th>embed_dim</th>\n      <th>timesteps</th>\n      <th>control_horizons</th>\n      <th>loss</th>\n      <th>total_cost</th>\n      <th>id</th>\n    </tr>\n  </thead>\n  <tbody>\n    <tr>\n      <th>0</th>\n      <td>0</td>\n      <td>1</td>\n      <td>3</td>\n      <td>3</td>\n      <td>50</td>\n      <td>0</td>\n      <td>0.628707</td>\n      <td>0</td>\n      <td>spline</td>\n    </tr>\n  </tbody>\n</table>\n</div>"
     },
     "execution_count": 32,
     "metadata": {},
     "output_type": "execute_result"
    }
   ],
   "source": [
    "spline = challenge.evaluate(SINDy, model_kwargs={\"differentiation_method\": ps.SINDyDerivative(kind='spline', s=1e-2)}, noisy=True, id=\"spline\")\n",
    "spline.head()"
   ],
   "metadata": {
    "collapsed": false,
    "ExecuteTime": {
     "end_time": "2023-08-22T20:59:00.406600Z",
     "start_time": "2023-08-22T20:58:46.171574Z"
    }
   },
   "id": "71a520bd4e731175"
  }
 ],
 "metadata": {
  "kernelspec": {
   "display_name": "Python 3",
   "language": "python",
   "name": "python3"
  },
  "language_info": {
   "codemirror_mode": {
    "name": "ipython",
    "version": 2
   },
   "file_extension": ".py",
   "mimetype": "text/x-python",
   "name": "python",
   "nbconvert_exporter": "python",
   "pygments_lexer": "ipython2",
   "version": "2.7.6"
  }
 },
 "nbformat": 4,
 "nbformat_minor": 5
}
