{
 "cells": [
  {
   "cell_type": "code",
   "execution_count": 1,
   "id": "initial_id",
   "metadata": {
    "ExecuteTime": {
     "end_time": "2023-08-22T20:44:29.847318Z",
     "start_time": "2023-08-22T20:44:29.815111Z"
    },
    "collapsed": true
   },
   "outputs": [],
   "source": [
    "%load_ext autoreload\n",
    "\n",
    "%autoreload 2"
   ]
  },
  {
   "cell_type": "code",
   "execution_count": 2,
   "id": "a9742bb979b0cad5",
   "metadata": {
    "ExecuteTime": {
     "end_time": "2023-08-22T21:07:35.619215Z",
     "start_time": "2023-08-22T21:07:35.417226Z"
    },
    "collapsed": false
   },
   "outputs": [],
   "source": [
    "from dynadojo.baselines.sindy import SINDy\n",
    "from dynadojo.systems.lds import LDSystem\n",
    "from dynadojo.systems.lorenz import LorenzSystem\n",
    "from dynadojo.challenges import FixedComplexity\n",
    "\n",
    "import pysindy as ps"
   ]
  },
  {
   "cell_type": "code",
   "execution_count": 7,
   "id": "d9cb03ad71e8edea",
   "metadata": {
    "ExecuteTime": {
     "end_time": "2023-08-22T21:06:36.014917Z",
     "start_time": "2023-08-22T21:06:35.845841Z"
    },
    "collapsed": false
   },
   "outputs": [],
   "source": [
    "# challenge = FixedComplexity(N=[1, 50, 500], l=3, e=None, t=50, reps=1, control_horizons=0, max_control_cost_per_dim=0, test_examples=10, test_timesteps=50, system_cls=LorenzSystem, system_kwargs={\"noise_scale\": 0.01})\n",
    "challenge = FixedComplexity(N=[5, 10, 50], l=3, e=None, t=50, reps=1, control_horizons=0, max_control_cost_per_dim=0, test_examples=10, test_timesteps=50, system_cls=LDSystem)"
   ]
  },
  {
   "cell_type": "code",
   "execution_count": 8,
   "id": "adf510902178ed2e",
   "metadata": {
    "ExecuteTime": {
     "end_time": "2023-08-22T21:07:08.447410Z",
     "start_time": "2023-08-22T21:06:55.223399Z"
    },
    "collapsed": false
   },
   "outputs": [
    {
     "name": "stdout",
     "output_type": "stream",
     "text": [
      "rep_id=0, latent_dim=3, embed_dim=3, n=5, t=50, control_h=0, total_cost=0, error=1.5, ood_error=NA,model_seed=4225902070, sys_seed=1482983636\n",
      "rep_id=0, latent_dim=3, embed_dim=3, n=10, t=50, control_h=0, total_cost=0, error=2.17, ood_error=NA,model_seed=4225902070, sys_seed=1482983636\n",
      "rep_id=0, latent_dim=3, embed_dim=3, n=50, t=50, control_h=0, total_cost=0, error=1.99, ood_error=NA,model_seed=4225902070, sys_seed=1482983636\n"
     ]
    },
    {
     "data": {
      "text/html": [
       "<div>\n",
       "<style scoped>\n",
       "    .dataframe tbody tr th:only-of-type {\n",
       "        vertical-align: middle;\n",
       "    }\n",
       "\n",
       "    .dataframe tbody tr th {\n",
       "        vertical-align: top;\n",
       "    }\n",
       "\n",
       "    .dataframe thead th {\n",
       "        text-align: right;\n",
       "    }\n",
       "</style>\n",
       "<table border=\"1\" class=\"dataframe\">\n",
       "  <thead>\n",
       "    <tr style=\"text-align: right;\">\n",
       "      <th></th>\n",
       "      <th>rep</th>\n",
       "      <th>latent_dim</th>\n",
       "      <th>embed_dim</th>\n",
       "      <th>timesteps</th>\n",
       "      <th>n</th>\n",
       "      <th>error</th>\n",
       "      <th>ood_error</th>\n",
       "      <th>total_cost</th>\n",
       "      <th>duration</th>\n",
       "      <th>system_seed</th>\n",
       "      <th>model_seed</th>\n",
       "      <th>id</th>\n",
       "      <th>control_horizon</th>\n",
       "    </tr>\n",
       "  </thead>\n",
       "  <tbody>\n",
       "    <tr>\n",
       "      <th>0</th>\n",
       "      <td>0</td>\n",
       "      <td>3</td>\n",
       "      <td>3</td>\n",
       "      <td>50</td>\n",
       "      <td>5</td>\n",
       "      <td>1.503463</td>\n",
       "      <td>None</td>\n",
       "      <td>0</td>\n",
       "      <td>0.099989</td>\n",
       "      <td>1482983636</td>\n",
       "      <td>4225902070</td>\n",
       "      <td>smoothed finite diff</td>\n",
       "      <td>0</td>\n",
       "    </tr>\n",
       "    <tr>\n",
       "      <th>1</th>\n",
       "      <td>0</td>\n",
       "      <td>3</td>\n",
       "      <td>3</td>\n",
       "      <td>50</td>\n",
       "      <td>10</td>\n",
       "      <td>2.168407</td>\n",
       "      <td>None</td>\n",
       "      <td>0</td>\n",
       "      <td>0.099879</td>\n",
       "      <td>1482983636</td>\n",
       "      <td>4225902070</td>\n",
       "      <td>smoothed finite diff</td>\n",
       "      <td>0</td>\n",
       "    </tr>\n",
       "    <tr>\n",
       "      <th>2</th>\n",
       "      <td>0</td>\n",
       "      <td>3</td>\n",
       "      <td>3</td>\n",
       "      <td>50</td>\n",
       "      <td>50</td>\n",
       "      <td>1.989890</td>\n",
       "      <td>None</td>\n",
       "      <td>0</td>\n",
       "      <td>0.111949</td>\n",
       "      <td>1482983636</td>\n",
       "      <td>4225902070</td>\n",
       "      <td>smoothed finite diff</td>\n",
       "      <td>0</td>\n",
       "    </tr>\n",
       "  </tbody>\n",
       "</table>\n",
       "</div>"
      ],
      "text/plain": [
       "   rep  latent_dim  embed_dim  timesteps   n     error ood_error  total_cost  \\\n",
       "0    0           3          3         50   5  1.503463      None           0   \n",
       "1    0           3          3         50  10  2.168407      None           0   \n",
       "2    0           3          3         50  50  1.989890      None           0   \n",
       "\n",
       "   duration  system_seed  model_seed                    id  control_horizon  \n",
       "0  0.099989   1482983636  4225902070  smoothed finite diff                0  \n",
       "1  0.099879   1482983636  4225902070  smoothed finite diff                0  \n",
       "2  0.111949   1482983636  4225902070  smoothed finite diff                0  "
      ]
     },
     "execution_count": 8,
     "metadata": {},
     "output_type": "execute_result"
    }
   ],
   "source": [
    "smoothed_fd = challenge.evaluate(SINDy, model_kwargs={\"differentiation_method\": ps.SmoothedFiniteDifference()}, noisy=True, id=\"smoothed finite diff\")\n",
    "smoothed_fd.head()"
   ]
  },
  {
   "cell_type": "code",
   "execution_count": 146,
   "id": "89b7a2c16459024c",
   "metadata": {
    "ExecuteTime": {
     "end_time": "2023-08-22T20:56:53.962672Z",
     "start_time": "2023-08-22T20:56:40.060020Z"
    },
    "collapsed": false
   },
   "outputs": [
    {
     "name": "stdout",
     "output_type": "stream",
     "text": [
      "[[2.61228446 4.51237042 6.60195328]\n",
      " [0.70469211 4.7559205  2.49763064]\n",
      " [7.47816324 0.22231653 1.75393256]\n",
      " [5.01307378 0.17937021 5.78182767]\n",
      " [5.24754059 9.95424573 4.68492285]\n",
      " [6.33805028 3.53816949 8.61855757]\n",
      " [1.57523718 1.56448998 4.43534625]\n",
      " [9.98506288 9.54876853 7.83171116]\n",
      " [7.06129452 5.75498625 0.33121074]\n",
      " [7.47114464 1.3041739  4.41348301]]\n",
      "(10, 50, 3)\n",
      "rep_id=0, latent_dim=3, embed_dim=3, n=1, t=50, control_h=0, total_cost=0, error=5.82e+02, ood_error=NA,model_seed=3100412879, sys_seed=2619540997\n",
      "[[2.61228446 4.51237042 6.60195328]\n",
      " [0.70469211 4.7559205  2.49763064]\n",
      " [7.47816324 0.22231653 1.75393256]\n",
      " [5.01307378 0.17937021 5.78182767]\n",
      " [5.24754059 9.95424573 4.68492285]\n",
      " [6.33805028 3.53816949 8.61855757]\n",
      " [1.57523718 1.56448998 4.43534625]\n",
      " [9.98506288 9.54876853 7.83171116]\n",
      " [7.06129452 5.75498625 0.33121074]\n",
      " [7.47114464 1.3041739  4.41348301]]\n",
      "(10, 50, 3)\n",
      "rep_id=0, latent_dim=3, embed_dim=3, n=50, t=50, control_h=0, total_cost=0, error=2.61e+02, ood_error=NA,model_seed=3100412879, sys_seed=2619540997\n",
      "[[2.61228446 4.51237042 6.60195328]\n",
      " [0.70469211 4.7559205  2.49763064]\n",
      " [7.47816324 0.22231653 1.75393256]\n",
      " [5.01307378 0.17937021 5.78182767]\n",
      " [5.24754059 9.95424573 4.68492285]\n",
      " [6.33805028 3.53816949 8.61855757]\n",
      " [1.57523718 1.56448998 4.43534625]\n",
      " [9.98506288 9.54876853 7.83171116]\n",
      " [7.06129452 5.75498625 0.33121074]\n",
      " [7.47114464 1.3041739  4.41348301]]\n",
      "(10, 50, 3)\n",
      "rep_id=0, latent_dim=3, embed_dim=3, n=500, t=50, control_h=0, total_cost=0, error=2.27e+02, ood_error=NA,model_seed=3100412879, sys_seed=2619540997\n"
     ]
    },
    {
     "data": {
      "text/html": [
       "<div>\n",
       "<style scoped>\n",
       "    .dataframe tbody tr th:only-of-type {\n",
       "        vertical-align: middle;\n",
       "    }\n",
       "\n",
       "    .dataframe tbody tr th {\n",
       "        vertical-align: top;\n",
       "    }\n",
       "\n",
       "    .dataframe thead th {\n",
       "        text-align: right;\n",
       "    }\n",
       "</style>\n",
       "<table border=\"1\" class=\"dataframe\">\n",
       "  <thead>\n",
       "    <tr style=\"text-align: right;\">\n",
       "      <th></th>\n",
       "      <th>rep</th>\n",
       "      <th>latent_dim</th>\n",
       "      <th>embed_dim</th>\n",
       "      <th>timesteps</th>\n",
       "      <th>n</th>\n",
       "      <th>error</th>\n",
       "      <th>ood_error</th>\n",
       "      <th>total_cost</th>\n",
       "      <th>duration</th>\n",
       "      <th>system_seed</th>\n",
       "      <th>model_seed</th>\n",
       "      <th>id</th>\n",
       "      <th>control_horizon</th>\n",
       "    </tr>\n",
       "  </thead>\n",
       "  <tbody>\n",
       "    <tr>\n",
       "      <th>0</th>\n",
       "      <td>0</td>\n",
       "      <td>3</td>\n",
       "      <td>3</td>\n",
       "      <td>50</td>\n",
       "      <td>1</td>\n",
       "      <td>581.971017</td>\n",
       "      <td>None</td>\n",
       "      <td>0</td>\n",
       "      <td>0.082506</td>\n",
       "      <td>2619540997</td>\n",
       "      <td>3100412879</td>\n",
       "      <td>finite diff</td>\n",
       "      <td>0</td>\n",
       "    </tr>\n",
       "    <tr>\n",
       "      <th>1</th>\n",
       "      <td>0</td>\n",
       "      <td>3</td>\n",
       "      <td>3</td>\n",
       "      <td>50</td>\n",
       "      <td>50</td>\n",
       "      <td>261.495590</td>\n",
       "      <td>None</td>\n",
       "      <td>0</td>\n",
       "      <td>0.085139</td>\n",
       "      <td>2619540997</td>\n",
       "      <td>3100412879</td>\n",
       "      <td>finite diff</td>\n",
       "      <td>0</td>\n",
       "    </tr>\n",
       "    <tr>\n",
       "      <th>2</th>\n",
       "      <td>0</td>\n",
       "      <td>3</td>\n",
       "      <td>3</td>\n",
       "      <td>50</td>\n",
       "      <td>500</td>\n",
       "      <td>227.280267</td>\n",
       "      <td>None</td>\n",
       "      <td>0</td>\n",
       "      <td>0.160315</td>\n",
       "      <td>2619540997</td>\n",
       "      <td>3100412879</td>\n",
       "      <td>finite diff</td>\n",
       "      <td>0</td>\n",
       "    </tr>\n",
       "  </tbody>\n",
       "</table>\n",
       "</div>"
      ],
      "text/plain": [
       "   rep  latent_dim  embed_dim  timesteps    n       error ood_error  \\\n",
       "0    0           3          3         50    1  581.971017      None   \n",
       "1    0           3          3         50   50  261.495590      None   \n",
       "2    0           3          3         50  500  227.280267      None   \n",
       "\n",
       "   total_cost  duration  system_seed  model_seed           id  control_horizon  \n",
       "0           0  0.082506   2619540997  3100412879  finite diff                0  \n",
       "1           0  0.085139   2619540997  3100412879  finite diff                0  \n",
       "2           0  0.160315   2619540997  3100412879  finite diff                0  "
      ]
     },
     "execution_count": 146,
     "metadata": {},
     "output_type": "execute_result"
    }
   ],
   "source": [
    "fd = challenge.evaluate(SINDy, model_kwargs={\"differentiation_method\": ps.FiniteDifference()}, noisy=True, id=\"finite diff\")\n",
    "fd.head()"
   ]
  },
  {
   "cell_type": "code",
   "execution_count": 31,
   "id": "edf7b4419735aef5",
   "metadata": {
    "ExecuteTime": {
     "end_time": "2023-08-22T20:58:38.216421Z",
     "start_time": "2023-08-22T20:58:24.769388Z"
    },
    "collapsed": false
   },
   "outputs": [
    {
     "data": {
      "text/html": [
       "<div>\n",
       "<style scoped>\n",
       "    .dataframe tbody tr th:only-of-type {\n",
       "        vertical-align: middle;\n",
       "    }\n",
       "\n",
       "    .dataframe tbody tr th {\n",
       "        vertical-align: top;\n",
       "    }\n",
       "\n",
       "    .dataframe thead th {\n",
       "        text-align: right;\n",
       "    }\n",
       "</style>\n",
       "<table border=\"1\" class=\"dataframe\">\n",
       "  <thead>\n",
       "    <tr style=\"text-align: right;\">\n",
       "      <th></th>\n",
       "      <th>rep</th>\n",
       "      <th>n</th>\n",
       "      <th>latent_dim</th>\n",
       "      <th>embed_dim</th>\n",
       "      <th>timesteps</th>\n",
       "      <th>control_horizons</th>\n",
       "      <th>loss</th>\n",
       "      <th>total_cost</th>\n",
       "      <th>id</th>\n",
       "    </tr>\n",
       "  </thead>\n",
       "  <tbody>\n",
       "    <tr>\n",
       "      <th>0</th>\n",
       "      <td>0</td>\n",
       "      <td>1</td>\n",
       "      <td>3</td>\n",
       "      <td>3</td>\n",
       "      <td>50</td>\n",
       "      <td>0</td>\n",
       "      <td>17.952157</td>\n",
       "      <td>0</td>\n",
       "      <td>trend filtered</td>\n",
       "    </tr>\n",
       "  </tbody>\n",
       "</table>\n",
       "</div>"
      ],
      "text/plain": [
       "   rep  n  latent_dim  embed_dim  timesteps  control_horizons       loss   \n",
       "0    0  1           3          3         50                 0  17.952157  \\\n",
       "\n",
       "   total_cost              id  \n",
       "0           0  trend filtered  "
      ]
     },
     "execution_count": 31,
     "metadata": {},
     "output_type": "execute_result"
    }
   ],
   "source": [
    "tf = challenge.evaluate(SINDy, model_kwargs={\"differentiation_method\": ps.SINDyDerivative(kind='trend_filtered', order=0, alpha=1e-2)}, noisy=True, id=\"trend filtered\")\n",
    "tf.head()"
   ]
  },
  {
   "cell_type": "code",
   "execution_count": 32,
   "id": "71a520bd4e731175",
   "metadata": {
    "ExecuteTime": {
     "end_time": "2023-08-22T20:59:00.406600Z",
     "start_time": "2023-08-22T20:58:46.171574Z"
    },
    "collapsed": false
   },
   "outputs": [
    {
     "data": {
      "text/html": [
       "<div>\n",
       "<style scoped>\n",
       "    .dataframe tbody tr th:only-of-type {\n",
       "        vertical-align: middle;\n",
       "    }\n",
       "\n",
       "    .dataframe tbody tr th {\n",
       "        vertical-align: top;\n",
       "    }\n",
       "\n",
       "    .dataframe thead th {\n",
       "        text-align: right;\n",
       "    }\n",
       "</style>\n",
       "<table border=\"1\" class=\"dataframe\">\n",
       "  <thead>\n",
       "    <tr style=\"text-align: right;\">\n",
       "      <th></th>\n",
       "      <th>rep</th>\n",
       "      <th>n</th>\n",
       "      <th>latent_dim</th>\n",
       "      <th>embed_dim</th>\n",
       "      <th>timesteps</th>\n",
       "      <th>control_horizons</th>\n",
       "      <th>loss</th>\n",
       "      <th>total_cost</th>\n",
       "      <th>id</th>\n",
       "    </tr>\n",
       "  </thead>\n",
       "  <tbody>\n",
       "    <tr>\n",
       "      <th>0</th>\n",
       "      <td>0</td>\n",
       "      <td>1</td>\n",
       "      <td>3</td>\n",
       "      <td>3</td>\n",
       "      <td>50</td>\n",
       "      <td>0</td>\n",
       "      <td>0.628707</td>\n",
       "      <td>0</td>\n",
       "      <td>spline</td>\n",
       "    </tr>\n",
       "  </tbody>\n",
       "</table>\n",
       "</div>"
      ],
      "text/plain": [
       "   rep  n  latent_dim  embed_dim  timesteps  control_horizons      loss   \n",
       "0    0  1           3          3         50                 0  0.628707  \\\n",
       "\n",
       "   total_cost      id  \n",
       "0           0  spline  "
      ]
     },
     "execution_count": 32,
     "metadata": {},
     "output_type": "execute_result"
    }
   ],
   "source": [
    "spline = challenge.evaluate(SINDy, model_kwargs={\"differentiation_method\": ps.SINDyDerivative(kind='spline', s=1e-2)}, noisy=True, id=\"spline\")\n",
    "spline.head()"
   ]
  }
 ],
 "metadata": {
  "kernelspec": {
   "display_name": "Python 3.10.13 ('.venv': venv)",
   "language": "python",
   "name": "python3"
  },
  "language_info": {
   "codemirror_mode": {
    "name": "ipython",
    "version": 3
   },
   "file_extension": ".py",
   "mimetype": "text/x-python",
   "name": "python",
   "nbconvert_exporter": "python",
   "pygments_lexer": "ipython3",
   "version": "3.10.13"
  },
  "vscode": {
   "interpreter": {
    "hash": "3773aad5e061e19e4f842f01c74142b10fff2d671cff92ab74be7a021ba49549"
   }
  }
 },
 "nbformat": 4,
 "nbformat_minor": 5
}
