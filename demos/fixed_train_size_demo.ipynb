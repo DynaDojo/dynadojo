{
 "cells": [
  {
   "cell_type": "code",
   "execution_count": 1,
   "id": "initial_id",
   "metadata": {
    "collapsed": true,
    "ExecuteTime": {
     "end_time": "2023-08-21T20:03:39.565781Z",
     "start_time": "2023-08-21T20:03:39.534830Z"
    }
   },
   "outputs": [],
   "source": [
    "%load_ext autoreload\n",
    "%autoreload 2"
   ]
  },
  {
   "cell_type": "code",
   "execution_count": 22,
   "outputs": [],
   "source": [
    "from dynadojo.systems import LDSSystem\n",
    "from dynadojo.baselines import DNN\n",
    "from dynadojo.challenges import FixedTrainSize"
   ],
   "metadata": {
    "collapsed": false,
    "ExecuteTime": {
     "end_time": "2023-08-21T20:15:18.081207Z",
     "start_time": "2023-08-21T20:15:17.942839Z"
    }
   },
   "id": "bd2d09306bcd681e"
  },
  {
   "cell_type": "code",
   "execution_count": 26,
   "outputs": [
    {
     "name": "stdout",
     "output_type": "stream",
     "text": [
      "n=10, latent_dim=2, embed_dim=2, timesteps=50, control_horizons=0,  rep_id=0, id='LR'\n",
      "n=10, latent_dim=3, embed_dim=3, timesteps=50, control_horizons=0,  rep_id=0, id='LR'\n",
      "n=10, latent_dim=4, embed_dim=4, timesteps=50, control_horizons=0,  rep_id=0, id='LR'\n",
      "n=10, latent_dim=5, embed_dim=5, timesteps=50, control_horizons=0,  rep_id=0, id='LR'\n",
      "n=100, latent_dim=2, embed_dim=2, timesteps=50, control_horizons=0,  rep_id=1, id='linear network'\n",
      "n=100, latent_dim=3, embed_dim=3, timesteps=50, control_horizons=0,  rep_id=1, id='linear network'\n",
      "n=100, latent_dim=4, embed_dim=4, timesteps=50, control_horizons=0,  rep_id=1, id='linear network'\n",
      "n=100, latent_dim=5, embed_dim=5, timesteps=50, control_horizons=0,  rep_id=1, id='linear network'\n",
      "n=100, latent_dim=2, embed_dim=2, timesteps=50, control_horizons=0,  rep_id=6, id='linear network'\n",
      "n=100, latent_dim=3, embed_dim=3, timesteps=50, control_horizons=0,  rep_id=6, id='linear network'\n",
      "n=100, latent_dim=4, embed_dim=4, timesteps=50, control_horizons=0,  rep_id=6, id='linear network'\n",
      "n=100, latent_dim=5, embed_dim=5, timesteps=50, control_horizons=0,  rep_id=6, id='linear network'\n",
      "n=100, latent_dim=2, embed_dim=2, timesteps=50, control_horizons=0,  rep_id=0, id='linear network'\n",
      "n=100, latent_dim=3, embed_dim=3, timesteps=50, control_horizons=0,  rep_id=0, id='linear network'\n",
      "n=100, latent_dim=4, embed_dim=4, timesteps=50, control_horizons=0,  rep_id=0, id='linear network'\n",
      "n=100, latent_dim=5, embed_dim=5, timesteps=50, control_horizons=0,  rep_id=0, id='linear network'\n",
      "n=10, latent_dim=2, embed_dim=2, timesteps=50, control_horizons=0,  rep_id=2, id='LR'\n",
      "n=10, latent_dim=3, embed_dim=3, timesteps=50, control_horizons=0,  rep_id=2, id='LR'\n",
      "n=10, latent_dim=4, embed_dim=4, timesteps=50, control_horizons=0,  rep_id=2, id='LR'\n",
      "n=10, latent_dim=5, embed_dim=5, timesteps=50, control_horizons=0,  rep_id=2, id='LR'\n",
      "n=100, latent_dim=2, embed_dim=2, timesteps=50, control_horizons=0,  rep_id=2, id='linear network'\n",
      "n=100, latent_dim=3, embed_dim=3, timesteps=50, control_horizons=0,  rep_id=2, id='linear network'\n",
      "n=100, latent_dim=4, embed_dim=4, timesteps=50, control_horizons=0,  rep_id=2, id='linear network'\n",
      "n=100, latent_dim=5, embed_dim=5, timesteps=50, control_horizons=0,  rep_id=2, id='linear network'\n",
      "n=100, latent_dim=2, embed_dim=2, timesteps=50, control_horizons=0,  rep_id=5, id='linear network'\n",
      "n=100, latent_dim=3, embed_dim=3, timesteps=50, control_horizons=0,  rep_id=5, id='linear network'\n",
      "n=100, latent_dim=4, embed_dim=4, timesteps=50, control_horizons=0,  rep_id=5, id='linear network'\n",
      "n=100, latent_dim=5, embed_dim=5, timesteps=50, control_horizons=0,  rep_id=5, id='linear network'\n",
      "n=100, latent_dim=2, embed_dim=2, timesteps=50, control_horizons=0,  rep_id=1, id='linear network'\n",
      "n=100, latent_dim=3, embed_dim=3, timesteps=50, control_horizons=0,  rep_id=1, id='linear network'\n",
      "n=100, latent_dim=4, embed_dim=4, timesteps=50, control_horizons=0,  rep_id=1, id='linear network'\n",
      "n=100, latent_dim=5, embed_dim=5, timesteps=50, control_horizons=0,  rep_id=1, id='linear network'\n"
     ]
    }
   ],
   "source": [
    "challenge = FixedTrainSize(\n",
    "    n=100,\n",
    "    L=[2, 3, 4, 5],\n",
    "    E=None,\n",
    "    T=[50],\n",
    "    control_horizons=0,\n",
    "    max_control_cost_per_dim=0,\n",
    "    system_cls=LDSSystem,\n",
    "    reps=10,\n",
    "    test_examples=50,\n",
    "    test_timesteps=50,\n",
    ")\n",
    "data = challenge.evaluate(DNN, id=\"linear network\", noisy=True)"
   ],
   "metadata": {
    "collapsed": false,
    "ExecuteTime": {
     "end_time": "2023-08-21T20:18:33.633512Z",
     "start_time": "2023-08-21T20:17:12.403499Z"
    }
   },
   "id": "1be70a123eefda94"
  },
  {
   "cell_type": "code",
   "execution_count": 27,
   "outputs": [
    {
     "data": {
      "text/plain": "<Figure size 640x480 with 0 Axes>"
     },
     "metadata": {},
     "output_type": "display_data"
    },
    {
     "data": {
      "text/plain": "<Figure size 650.125x500 with 1 Axes>",
      "image/png": "[encoded data removed]"
     },
     "metadata": {},
     "output_type": "display_data"
    }
   ],
   "source": [
    "challenge.plot(data)"
   ],
   "metadata": {
    "collapsed": false,
    "ExecuteTime": {
     "end_time": "2023-08-21T20:23:56.263613Z",
     "start_time": "2023-08-21T20:23:55.628847Z"
    }
   },
   "id": "e938b6dd641ca348"
  }
 ],
 "metadata": {
  "kernelspec": {
   "display_name": "Python 3",
   "language": "python",
   "name": "python3"
  },
  "language_info": {
   "codemirror_mode": {
    "name": "ipython",
    "version": 2
   },
   "file_extension": ".py",
   "mimetype": "text/x-python",
   "name": "python",
   "nbconvert_exporter": "python",
   "pygments_lexer": "ipython2",
   "version": "2.7.6"
  }
 },
 "nbformat": 4,
 "nbformat_minor": 5
}
