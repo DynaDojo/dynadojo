{
 "cells": [
  {
   "cell_type": "code",
   "execution_count": 1,
   "metadata": {
    "ExecuteTime": {
     "end_time": "2024-01-06T21:12:45.826829Z",
     "start_time": "2024-01-06T21:12:45.795542Z"
    },
    "collapsed": true
   },
   "outputs": [],
   "source": [
    "%load_ext autoreload\n",
    "%autoreload 2"
   ]
  },
  {
   "cell_type": "code",
   "execution_count": 2,
   "metadata": {
    "ExecuteTime": {
     "end_time": "2024-01-06T21:12:46.450389Z",
     "start_time": "2024-01-06T21:12:45.828908Z"
    },
    "collapsed": false
   },
   "outputs": [],
   "source": [
    "from dynadojo.systems.ca import CASystem\n",
    "from dynadojo.wrappers import SystemChecker\n",
    "from dynadojo.utils.ca import plot"
   ]
  },
  {
   "cell_type": "code",
   "execution_count": 3,
   "metadata": {
    "ExecuteTime": {
     "end_time": "2024-01-06T21:12:47.507194Z",
     "start_time": "2024-01-06T21:12:46.453551Z"
    },
    "collapsed": false
   },
   "outputs": [
    {
     "data": {
      "image/png": "[encoded data removed]",
      "text/plain": [
       "<Figure size 640x480 with 1 Axes>"
      ]
     },
     "metadata": {},
     "output_type": "display_data"
    }
   ],
   "source": [
    "latent_dim = 3\n",
    "embed_dim = 64\n",
    "timesteps = 30\n",
    "n = 1\n",
    "system = SystemChecker(CASystem(latent_dim, embed_dim, seed=1))\n",
    "x0 = system.make_init_conds(n=n)\n",
    "x = system.make_data(x0, timesteps=timesteps)\n",
    "plot([x], labels=[\"X\"])"
   ]
  },
  {
   "cell_type": "code",
   "execution_count": 4,
   "metadata": {
    "ExecuteTime": {
     "end_time": "2024-01-06T21:34:18.065659Z",
     "start_time": "2024-01-06T21:34:12.082593Z"
    },
    "collapsed": false
   },
   "outputs": [
    {
     "ename": "TypeError",
     "evalue": "FixedComplexity.__init__() got an unexpected keyword argument 'reps'",
     "output_type": "error",
     "traceback": [
      "\u001b[0;31m---------------------------------------------------------------------------\u001b[0m",
      "\u001b[0;31mTypeError\u001b[0m                                 Traceback (most recent call last)",
      "Cell \u001b[0;32mIn[4], line 4\u001b[0m\n\u001b[1;32m      1\u001b[0m \u001b[38;5;28;01mfrom\u001b[39;00m \u001b[38;5;21;01mdynadojo\u001b[39;00m\u001b[38;5;21;01m.\u001b[39;00m\u001b[38;5;21;01mchallenges\u001b[39;00m \u001b[38;5;28;01mimport\u001b[39;00m FixedComplexity\n\u001b[1;32m      2\u001b[0m \u001b[38;5;28;01mfrom\u001b[39;00m \u001b[38;5;21;01mdynadojo\u001b[39;00m\u001b[38;5;21;01m.\u001b[39;00m\u001b[38;5;21;01mbaselines\u001b[39;00m\u001b[38;5;21;01m.\u001b[39;00m\u001b[38;5;21;01mcnn\u001b[39;00m \u001b[38;5;28;01mimport\u001b[39;00m CNN\n\u001b[0;32m----> 4\u001b[0m challenge \u001b[38;5;241m=\u001b[39m \u001b[43mFixedComplexity\u001b[49m\u001b[43m(\u001b[49m\u001b[43ml\u001b[49m\u001b[38;5;241;43m=\u001b[39;49m\u001b[38;5;241;43m2\u001b[39;49m\u001b[43m,\u001b[49m\u001b[43m \u001b[49m\u001b[43me\u001b[49m\u001b[38;5;241;43m=\u001b[39;49m\u001b[38;5;241;43m64\u001b[39;49m\u001b[43m,\u001b[49m\u001b[43m \u001b[49m\u001b[43mt\u001b[49m\u001b[38;5;241;43m=\u001b[39;49m\u001b[38;5;241;43m10\u001b[39;49m\u001b[43m,\u001b[49m\u001b[43m \u001b[49m\u001b[43mN\u001b[49m\u001b[38;5;241;43m=\u001b[39;49m\u001b[43m[\u001b[49m\u001b[38;5;241;43m10\u001b[39;49m\u001b[43m,\u001b[49m\u001b[43m \u001b[49m\u001b[38;5;241;43m20\u001b[39;49m\u001b[43m,\u001b[49m\u001b[43m \u001b[49m\u001b[38;5;241;43m30\u001b[39;49m\u001b[43m]\u001b[49m\u001b[43m,\u001b[49m\u001b[43m \u001b[49m\u001b[43mreps\u001b[49m\u001b[38;5;241;43m=\u001b[39;49m\u001b[38;5;241;43m3\u001b[39;49m\u001b[43m,\u001b[49m\u001b[43m \u001b[49m\u001b[43msystem_cls\u001b[49m\u001b[38;5;241;43m=\u001b[39;49m\u001b[43mCASystem\u001b[49m\u001b[43m,\u001b[49m\u001b[43m \u001b[49m\u001b[43mtest_examples\u001b[49m\u001b[38;5;241;43m=\u001b[39;49m\u001b[38;5;241;43m1\u001b[39;49m\u001b[43m,\u001b[49m\u001b[43m \u001b[49m\u001b[43mtest_timesteps\u001b[49m\u001b[38;5;241;43m=\u001b[39;49m\u001b[38;5;241;43m5\u001b[39;49m\u001b[43m)\u001b[49m\n\u001b[1;32m      5\u001b[0m data \u001b[38;5;241m=\u001b[39m challenge\u001b[38;5;241m.\u001b[39mevaluate(algo_cls\u001b[38;5;241m=\u001b[39mCNN)\n\u001b[1;32m      6\u001b[0m challenge\u001b[38;5;241m.\u001b[39mplot(data)\n",
      "\u001b[0;31mTypeError\u001b[0m: FixedComplexity.__init__() got an unexpected keyword argument 'reps'"
     ]
    }
   ],
   "source": [
    "from dynadojo.challenges import FixedComplexity\n",
    "from dynadojo.baselines.cnn import CNN\n",
    "\n",
    "challenge = FixedComplexity(l=2, e=64, t=10, N=[10, 20, 30], reps=3, system_cls=CASystem, test_examples=1, test_timesteps=5)\n",
    "data = challenge.evaluate(algo_cls=CNN)\n",
    "challenge.plot(data)"
   ]
  }
 ],
 "metadata": {
  "kernelspec": {
   "display_name": "Python 3.10.13 ('.venv': pipenv)",
   "language": "python",
   "name": "python3"
  },
  "language_info": {
   "codemirror_mode": {
    "name": "ipython",
    "version": 3
   },
   "file_extension": ".py",
   "mimetype": "text/x-python",
   "name": "python",
   "nbconvert_exporter": "python",
   "pygments_lexer": "ipython3",
   "version": "3.10.14"
  },
  "vscode": {
   "interpreter": {
    "hash": "3773aad5e061e19e4f842f01c74142b10fff2d671cff92ab74be7a021ba49549"
   }
  }
 },
 "nbformat": 4,
 "nbformat_minor": 0
}
