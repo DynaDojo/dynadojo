{
 "cells": [
  {
   "cell_type": "code",
   "execution_count": 1,
   "id": "initial_id",
   "metadata": {
    "ExecuteTime": {
     "end_time": "2023-08-21T18:48:14.236478Z",
     "start_time": "2023-08-21T18:48:14.098840Z"
    },
    "collapsed": true
   },
   "outputs": [],
   "source": [
    "%load_ext autoreload\n",
    "%autoreload 2"
   ]
  },
  {
   "cell_type": "code",
   "execution_count": 2,
   "id": "642cb756de868a5f",
   "metadata": {
    "ExecuteTime": {
     "end_time": "2023-08-21T18:53:41.412867Z",
     "start_time": "2023-08-21T18:53:41.264637Z"
    },
    "collapsed": false
   },
   "outputs": [
    {
     "name": "stderr",
     "output_type": "stream",
     "text": [
      "2023-08-22 17:01:02.452978: I tensorflow/core/platform/cpu_feature_guard.cc:182] This TensorFlow binary is optimized to use available CPU instructions in performance-critical operations.\n",
      "To enable the following instructions: AVX2 FMA, in other operations, rebuild TensorFlow with the appropriate compiler flags.\n"
     ]
    }
   ],
   "source": [
    "from dynadojo.systems import LDSSystem\n",
    "from dynadojo.baselines import LinearRegression, DNN\n",
    "from dynadojo.challenges import FixedComplexity\n",
    "import pandas as pd"
   ]
  },
  {
   "cell_type": "code",
   "execution_count": 6,
   "id": "5de468b689a386cc",
   "metadata": {
    "ExecuteTime": {
     "end_time": "2023-08-21T18:58:00.587341Z",
     "start_time": "2023-08-21T18:54:54.952458Z"
    },
    "collapsed": false
   },
   "outputs": [
    {
     "name": "stdout",
     "output_type": "stream",
     "text": [
      "n=10, latent_dim=5, embed_dim=5, timesteps=50, control_horizons=0,  rep_id=0, id='linear regression'\n",
      "n=10, latent_dim=5, embed_dim=5, timesteps=50, control_horizons=0,  rep_id=1, id='linear regression'\n",
      "n=10, latent_dim=5, embed_dim=5, timesteps=50, control_horizons=0,  rep_id=2, id='linear regression'\n",
      "n=10, latent_dim=5, embed_dim=5, timesteps=50, control_horizons=0,  rep_id=3, id='linear regression'\n",
      "n=50, latent_dim=5, embed_dim=5, timesteps=50, control_horizons=0,  rep_id=1, id='linear regression'\n",
      "n=50, latent_dim=5, embed_dim=5, timesteps=50, control_horizons=0,  rep_id=2, id='linear regression'\n",
      "n=50, latent_dim=5, embed_dim=5, timesteps=50, control_horizons=0,  rep_id=3, id='linear regression'\n",
      "n=50, latent_dim=5, embed_dim=5, timesteps=50, control_horizons=0,  rep_id=0, id='linear regression'\n",
      "n=100, latent_dim=5, embed_dim=5, timesteps=50, control_horizons=0,  rep_id=1, id='linear regression'\n",
      "n=100, latent_dim=5, embed_dim=5, timesteps=50, control_horizons=0,  rep_id=2, id='linear regression'\n",
      "n=100, latent_dim=5, embed_dim=5, timesteps=50, control_horizons=0,  rep_id=3, id='linear regression'\n",
      "n=100, latent_dim=5, embed_dim=5, timesteps=50, control_horizons=0,  rep_id=0, id='linear regression'\n",
      "n=500, latent_dim=5, embed_dim=5, timesteps=50, control_horizons=0,  rep_id=1, id='linear regression'\n",
      "n=500, latent_dim=5, embed_dim=5, timesteps=50, control_horizons=0,  rep_id=3, id='linear regression'\n",
      "n=500, latent_dim=5, embed_dim=5, timesteps=50, control_horizons=0,  rep_id=2, id='linear regression'\n",
      "n=500, latent_dim=5, embed_dim=5, timesteps=50, control_horizons=0,  rep_id=0, id='linear regression'\n",
      "n=1000, latent_dim=5, embed_dim=5, timesteps=50, control_horizons=0,  rep_id=1, id='linear regression'\n",
      "n=1000, latent_dim=5, embed_dim=5, timesteps=50, control_horizons=0,  rep_id=2, id='linear regression'\n",
      "n=1000, latent_dim=5, embed_dim=5, timesteps=50, control_horizons=0,  rep_id=3, id='linear regression'\n",
      "n=1000, latent_dim=5, embed_dim=5, timesteps=50, control_horizons=0,  rep_id=0, id='linear regression'\n",
      "n=10, latent_dim=5, embed_dim=5, timesteps=50, control_horizons=0,  rep_id=4, id='linear regression'\n",
      "n=10, latent_dim=5, embed_dim=5, timesteps=50, control_horizons=0,  rep_id=5, id='linear regression'\n",
      "n=10, latent_dim=5, embed_dim=5, timesteps=50, control_horizons=0,  rep_id=6, id='linear regression'\n",
      "n=50, latent_dim=5, embed_dim=5, timesteps=50, control_horizons=0,  rep_id=4, id='linear regression'\n",
      "n=50, latent_dim=5, embed_dim=5, timesteps=50, control_horizons=0,  rep_id=5, id='linear regression'\n",
      "n=50, latent_dim=5, embed_dim=5, timesteps=50, control_horizons=0,  rep_id=6, id='linear regression'\n",
      "n=100, latent_dim=5, embed_dim=5, timesteps=50, control_horizons=0,  rep_id=4, id='linear regression'\n",
      "n=10, latent_dim=5, embed_dim=5, timesteps=50, control_horizons=0,  rep_id=7, id='linear regression'\n",
      "n=100, latent_dim=5, embed_dim=5, timesteps=50, control_horizons=0,  rep_id=5, id='linear regression'\n",
      "n=50, latent_dim=5, embed_dim=5, timesteps=50, control_horizons=0,  rep_id=7, id='linear regression'\n",
      "n=100, latent_dim=5, embed_dim=5, timesteps=50, control_horizons=0,  rep_id=6, id='linear regression'\n",
      "n=500, latent_dim=5, embed_dim=5, timesteps=50, control_horizons=0,  rep_id=4, id='linear regression'\n",
      "n=100, latent_dim=5, embed_dim=5, timesteps=50, control_horizons=0,  rep_id=7, id='linear regression'\n",
      "n=500, latent_dim=5, embed_dim=5, timesteps=50, control_horizons=0,  rep_id=5, id='linear regression'\n",
      "n=500, latent_dim=5, embed_dim=5, timesteps=50, control_horizons=0,  rep_id=6, id='linear regression'\n",
      "n=500, latent_dim=5, embed_dim=5, timesteps=50, control_horizons=0,  rep_id=7, id='linear regression'\n",
      "n=1000, latent_dim=5, embed_dim=5, timesteps=50, control_horizons=0,  rep_id=4, id='linear regression'\n",
      "n=1000, latent_dim=5, embed_dim=5, timesteps=50, control_horizons=0,  rep_id=5, id='linear regression'\n",
      "n=1000, latent_dim=5, embed_dim=5, timesteps=50, control_horizons=0,  rep_id=7, id='linear regression'\n",
      "n=1000, latent_dim=5, embed_dim=5, timesteps=50, control_horizons=0,  rep_id=6, id='linear regression'\n",
      "n=10, latent_dim=5, embed_dim=5, timesteps=50, control_horizons=0,  rep_id=8, id='linear regression'\n",
      "n=50, latent_dim=5, embed_dim=5, timesteps=50, control_horizons=0,  rep_id=8, id='linear regression'\n",
      "n=10, latent_dim=5, embed_dim=5, timesteps=50, control_horizons=0,  rep_id=9, id='linear regression'\n",
      "n=100, latent_dim=5, embed_dim=5, timesteps=50, control_horizons=0,  rep_id=8, id='linear regression'\n",
      "n=50, latent_dim=5, embed_dim=5, timesteps=50, control_horizons=0,  rep_id=9, id='linear regression'\n",
      "n=100, latent_dim=5, embed_dim=5, timesteps=50, control_horizons=0,  rep_id=9, id='linear regression'\n",
      "n=500, latent_dim=5, embed_dim=5, timesteps=50, control_horizons=0,  rep_id=8, id='linear regression'\n",
      "n=500, latent_dim=5, embed_dim=5, timesteps=50, control_horizons=0,  rep_id=9, id='linear regression'\n",
      "n=1000, latent_dim=5, embed_dim=5, timesteps=50, control_horizons=0,  rep_id=8, id='linear regression'\n",
      "n=1000, latent_dim=5, embed_dim=5, timesteps=50, control_horizons=0,  rep_id=9, id='linear regression'\n",
      "n=10, latent_dim=5, embed_dim=5, timesteps=50, control_horizons=0,  rep_id=0, id='nonlinear network'\n",
      "n=10, latent_dim=5, embed_dim=5, timesteps=50, control_horizons=0,  rep_id=1, id='nonlinear network'\n",
      "n=10, latent_dim=5, embed_dim=5, timesteps=50, control_horizons=0,  rep_id=2, id='nonlinear network'\n",
      "n=10, latent_dim=5, embed_dim=5, timesteps=50, control_horizons=0,  rep_id=3, id='nonlinear network'\n",
      "n=50, latent_dim=5, embed_dim=5, timesteps=50, control_horizons=0,  rep_id=3, id='nonlinear network'\n",
      "n=50, latent_dim=5, embed_dim=5, timesteps=50, control_horizons=0,  rep_id=0, id='nonlinear network'\n",
      "n=50, latent_dim=5, embed_dim=5, timesteps=50, control_horizons=0,  rep_id=2, id='nonlinear network'\n",
      "n=50, latent_dim=5, embed_dim=5, timesteps=50, control_horizons=0,  rep_id=1, id='nonlinear network'\n",
      "n=100, latent_dim=5, embed_dim=5, timesteps=50, control_horizons=0,  rep_id=0, id='nonlinear network'\n",
      "n=100, latent_dim=5, embed_dim=5, timesteps=50, control_horizons=0,  rep_id=2, id='nonlinear network'\n",
      "n=100, latent_dim=5, embed_dim=5, timesteps=50, control_horizons=0,  rep_id=1, id='nonlinear network'\n",
      "n=100, latent_dim=5, embed_dim=5, timesteps=50, control_horizons=0,  rep_id=3, id='nonlinear network'\n",
      "n=500, latent_dim=5, embed_dim=5, timesteps=50, control_horizons=0,  rep_id=0, id='nonlinear network'\n",
      "n=500, latent_dim=5, embed_dim=5, timesteps=50, control_horizons=0,  rep_id=2, id='nonlinear network'\n",
      "n=500, latent_dim=5, embed_dim=5, timesteps=50, control_horizons=0,  rep_id=1, id='nonlinear network'\n",
      "n=500, latent_dim=5, embed_dim=5, timesteps=50, control_horizons=0,  rep_id=3, id='nonlinear network'\n",
      "n=1000, latent_dim=5, embed_dim=5, timesteps=50, control_horizons=0,  rep_id=0, id='nonlinear network'\n",
      "n=1000, latent_dim=5, embed_dim=5, timesteps=50, control_horizons=0,  rep_id=2, id='nonlinear network'\n",
      "n=1000, latent_dim=5, embed_dim=5, timesteps=50, control_horizons=0,  rep_id=3, id='nonlinear network'\n",
      "n=1000, latent_dim=5, embed_dim=5, timesteps=50, control_horizons=0,  rep_id=1, id='nonlinear network'\n",
      "n=10, latent_dim=5, embed_dim=5, timesteps=50, control_horizons=0,  rep_id=4, id='nonlinear network'\n",
      "n=10, latent_dim=5, embed_dim=5, timesteps=50, control_horizons=0,  rep_id=5, id='nonlinear network'\n",
      "n=10, latent_dim=5, embed_dim=5, timesteps=50, control_horizons=0,  rep_id=6, id='nonlinear network'\n",
      "n=10, latent_dim=5, embed_dim=5, timesteps=50, control_horizons=0,  rep_id=7, id='nonlinear network'\n",
      "n=50, latent_dim=5, embed_dim=5, timesteps=50, control_horizons=0,  rep_id=4, id='nonlinear network'\n",
      "n=50, latent_dim=5, embed_dim=5, timesteps=50, control_horizons=0,  rep_id=6, id='nonlinear network'\n",
      "n=50, latent_dim=5, embed_dim=5, timesteps=50, control_horizons=0,  rep_id=5, id='nonlinear network'\n",
      "n=50, latent_dim=5, embed_dim=5, timesteps=50, control_horizons=0,  rep_id=7, id='nonlinear network'\n",
      "n=100, latent_dim=5, embed_dim=5, timesteps=50, control_horizons=0,  rep_id=4, id='nonlinear network'\n",
      "n=100, latent_dim=5, embed_dim=5, timesteps=50, control_horizons=0,  rep_id=6, id='nonlinear network'\n",
      "n=100, latent_dim=5, embed_dim=5, timesteps=50, control_horizons=0,  rep_id=5, id='nonlinear network'\n",
      "n=100, latent_dim=5, embed_dim=5, timesteps=50, control_horizons=0,  rep_id=7, id='nonlinear network'\n",
      "n=500, latent_dim=5, embed_dim=5, timesteps=50, control_horizons=0,  rep_id=6, id='nonlinear network'\n",
      "n=500, latent_dim=5, embed_dim=5, timesteps=50, control_horizons=0,  rep_id=4, id='nonlinear network'\n",
      "n=500, latent_dim=5, embed_dim=5, timesteps=50, control_horizons=0,  rep_id=7, id='nonlinear network'\n",
      "n=500, latent_dim=5, embed_dim=5, timesteps=50, control_horizons=0,  rep_id=5, id='nonlinear network'\n",
      "n=1000, latent_dim=5, embed_dim=5, timesteps=50, control_horizons=0,  rep_id=6, id='nonlinear network'\n",
      "n=1000, latent_dim=5, embed_dim=5, timesteps=50, control_horizons=0,  rep_id=4, id='nonlinear network'\n",
      "n=1000, latent_dim=5, embed_dim=5, timesteps=50, control_horizons=0,  rep_id=7, id='nonlinear network'\n",
      "n=1000, latent_dim=5, embed_dim=5, timesteps=50, control_horizons=0,  rep_id=5, id='nonlinear network'\n",
      "n=10, latent_dim=5, embed_dim=5, timesteps=50, control_horizons=0,  rep_id=8, id='nonlinear network'\n",
      "n=10, latent_dim=5, embed_dim=5, timesteps=50, control_horizons=0,  rep_id=9, id='nonlinear network'\n",
      "n=50, latent_dim=5, embed_dim=5, timesteps=50, control_horizons=0,  rep_id=8, id='nonlinear network'\n",
      "n=50, latent_dim=5, embed_dim=5, timesteps=50, control_horizons=0,  rep_id=9, id='nonlinear network'\n",
      "n=100, latent_dim=5, embed_dim=5, timesteps=50, control_horizons=0,  rep_id=8, id='nonlinear network'\n",
      "n=100, latent_dim=5, embed_dim=5, timesteps=50, control_horizons=0,  rep_id=9, id='nonlinear network'\n",
      "n=500, latent_dim=5, embed_dim=5, timesteps=50, control_horizons=0,  rep_id=8, id='nonlinear network'\n",
      "n=500, latent_dim=5, embed_dim=5, timesteps=50, control_horizons=0,  rep_id=9, id='nonlinear network'\n",
      "n=1000, latent_dim=5, embed_dim=5, timesteps=50, control_horizons=0,  rep_id=8, id='nonlinear network'\n",
      "n=1000, latent_dim=5, embed_dim=5, timesteps=50, control_horizons=0,  rep_id=9, id='nonlinear network'\n",
      "n=10, latent_dim=5, embed_dim=5, timesteps=50, control_horizons=0,  rep_id=1, id='linear network'\n",
      "n=10, latent_dim=5, embed_dim=5, timesteps=50, control_horizons=0,  rep_id=2, id='linear network'\n",
      "n=10, latent_dim=5, embed_dim=5, timesteps=50, control_horizons=0,  rep_id=0, id='linear network'\n",
      "n=10, latent_dim=5, embed_dim=5, timesteps=50, control_horizons=0,  rep_id=3, id='linear network'\n",
      "n=50, latent_dim=5, embed_dim=5, timesteps=50, control_horizons=0,  rep_id=2, id='linear network'\n",
      "n=50, latent_dim=5, embed_dim=5, timesteps=50, control_horizons=0,  rep_id=1, id='linear network'\n",
      "n=50, latent_dim=5, embed_dim=5, timesteps=50, control_horizons=0,  rep_id=0, id='linear network'\n",
      "n=50, latent_dim=5, embed_dim=5, timesteps=50, control_horizons=0,  rep_id=3, id='linear network'\n",
      "n=100, latent_dim=5, embed_dim=5, timesteps=50, control_horizons=0,  rep_id=0, id='linear network'\n",
      "n=100, latent_dim=5, embed_dim=5, timesteps=50, control_horizons=0,  rep_id=2, id='linear network'\n",
      "n=100, latent_dim=5, embed_dim=5, timesteps=50, control_horizons=0,  rep_id=3, id='linear network'\n",
      "n=100, latent_dim=5, embed_dim=5, timesteps=50, control_horizons=0,  rep_id=1, id='linear network'\n",
      "n=500, latent_dim=5, embed_dim=5, timesteps=50, control_horizons=0,  rep_id=0, id='linear network'\n",
      "n=500, latent_dim=5, embed_dim=5, timesteps=50, control_horizons=0,  rep_id=2, id='linear network'\n",
      "n=500, latent_dim=5, embed_dim=5, timesteps=50, control_horizons=0,  rep_id=3, id='linear network'\n",
      "n=500, latent_dim=5, embed_dim=5, timesteps=50, control_horizons=0,  rep_id=1, id='linear network'\n",
      "n=1000, latent_dim=5, embed_dim=5, timesteps=50, control_horizons=0,  rep_id=0, id='linear network'\n",
      "n=1000, latent_dim=5, embed_dim=5, timesteps=50, control_horizons=0,  rep_id=2, id='linear network'\n",
      "n=1000, latent_dim=5, embed_dim=5, timesteps=50, control_horizons=0,  rep_id=3, id='linear network'\n",
      "n=1000, latent_dim=5, embed_dim=5, timesteps=50, control_horizons=0,  rep_id=1, id='linear network'\n",
      "n=10, latent_dim=5, embed_dim=5, timesteps=50, control_horizons=0,  rep_id=4, id='linear network'\n",
      "n=10, latent_dim=5, embed_dim=5, timesteps=50, control_horizons=0,  rep_id=5, id='linear network'\n",
      "n=10, latent_dim=5, embed_dim=5, timesteps=50, control_horizons=0,  rep_id=6, id='linear network'\n",
      "n=10, latent_dim=5, embed_dim=5, timesteps=50, control_horizons=0,  rep_id=7, id='linear network'\n",
      "n=50, latent_dim=5, embed_dim=5, timesteps=50, control_horizons=0,  rep_id=4, id='linear network'\n",
      "n=50, latent_dim=5, embed_dim=5, timesteps=50, control_horizons=0,  rep_id=5, id='linear network'\n",
      "n=50, latent_dim=5, embed_dim=5, timesteps=50, control_horizons=0,  rep_id=6, id='linear network'\n",
      "n=50, latent_dim=5, embed_dim=5, timesteps=50, control_horizons=0,  rep_id=7, id='linear network'\n",
      "n=100, latent_dim=5, embed_dim=5, timesteps=50, control_horizons=0,  rep_id=4, id='linear network'\n",
      "n=100, latent_dim=5, embed_dim=5, timesteps=50, control_horizons=0,  rep_id=5, id='linear network'\n",
      "n=100, latent_dim=5, embed_dim=5, timesteps=50, control_horizons=0,  rep_id=6, id='linear network'\n",
      "n=100, latent_dim=5, embed_dim=5, timesteps=50, control_horizons=0,  rep_id=7, id='linear network'\n",
      "n=500, latent_dim=5, embed_dim=5, timesteps=50, control_horizons=0,  rep_id=4, id='linear network'\n",
      "n=500, latent_dim=5, embed_dim=5, timesteps=50, control_horizons=0,  rep_id=5, id='linear network'\n",
      "n=500, latent_dim=5, embed_dim=5, timesteps=50, control_horizons=0,  rep_id=6, id='linear network'\n",
      "n=500, latent_dim=5, embed_dim=5, timesteps=50, control_horizons=0,  rep_id=7, id='linear network'\n",
      "n=1000, latent_dim=5, embed_dim=5, timesteps=50, control_horizons=0,  rep_id=4, id='linear network'\n",
      "n=1000, latent_dim=5, embed_dim=5, timesteps=50, control_horizons=0,  rep_id=5, id='linear network'\n",
      "n=1000, latent_dim=5, embed_dim=5, timesteps=50, control_horizons=0,  rep_id=6, id='linear network'\n",
      "n=1000, latent_dim=5, embed_dim=5, timesteps=50, control_horizons=0,  rep_id=7, id='linear network'\n",
      "n=10, latent_dim=5, embed_dim=5, timesteps=50, control_horizons=0,  rep_id=8, id='linear network'\n",
      "n=10, latent_dim=5, embed_dim=5, timesteps=50, control_horizons=0,  rep_id=9, id='linear network'\n",
      "n=50, latent_dim=5, embed_dim=5, timesteps=50, control_horizons=0,  rep_id=8, id='linear network'\n",
      "n=50, latent_dim=5, embed_dim=5, timesteps=50, control_horizons=0,  rep_id=9, id='linear network'\n",
      "n=100, latent_dim=5, embed_dim=5, timesteps=50, control_horizons=0,  rep_id=8, id='linear network'\n",
      "n=100, latent_dim=5, embed_dim=5, timesteps=50, control_horizons=0,  rep_id=9, id='linear network'\n",
      "n=500, latent_dim=5, embed_dim=5, timesteps=50, control_horizons=0,  rep_id=8, id='linear network'\n",
      "n=500, latent_dim=5, embed_dim=5, timesteps=50, control_horizons=0,  rep_id=9, id='linear network'\n",
      "n=1000, latent_dim=5, embed_dim=5, timesteps=50, control_horizons=0,  rep_id=8, id='linear network'\n",
      "n=1000, latent_dim=5, embed_dim=5, timesteps=50, control_horizons=0,  rep_id=9, id='linear network'\n"
     ]
    }
   ],
   "source": [
    "challenge = FixedComplexity(\n",
    "    N=[10, 50, 100, 500, 1000],\n",
    "    l=5,\n",
    "    e=5,\n",
    "    t=50,\n",
    "    control_horizons=0,\n",
    "    max_control_cost_per_dim=0,\n",
    "    system_cls=LDSSystem,\n",
    "    reps=10,\n",
    "    test_examples=50,\n",
    "    test_timesteps=50,\n",
    ")\n",
    "data1 = challenge.evaluate(LinearRegression, id=\"linear regression\")\n",
    "data2 = challenge.evaluate(DNN, model_kwargs={\"activation\": \"relu\"}, fit_kwargs={\"epochs\": 20}, id=\"nonlinear network\")\n",
    "data3 = challenge.evaluate(DNN, fit_kwargs={\"epochs\": 20}, id=\"linear network\")"
   ]
  },
  {
   "cell_type": "code",
   "execution_count": 26,
   "id": "4ff94c4e94506a3e",
   "metadata": {
    "ExecuteTime": {
     "end_time": "2023-08-21T18:59:25.803111Z",
     "start_time": "2023-08-21T18:59:25.636835Z"
    },
    "collapsed": false
   },
   "outputs": [
    {
     "data": {
      "text/html": [
       "<div>\n",
       "<style scoped>\n",
       "    .dataframe tbody tr th:only-of-type {\n",
       "        vertical-align: middle;\n",
       "    }\n",
       "\n",
       "    .dataframe tbody tr th {\n",
       "        vertical-align: top;\n",
       "    }\n",
       "\n",
       "    .dataframe thead th {\n",
       "        text-align: right;\n",
       "    }\n",
       "</style>\n",
       "<table border=\"1\" class=\"dataframe\">\n",
       "  <thead>\n",
       "    <tr style=\"text-align: right;\">\n",
       "      <th></th>\n",
       "      <th>rep</th>\n",
       "      <th>n</th>\n",
       "      <th>latent_dim</th>\n",
       "      <th>embed_dim</th>\n",
       "      <th>timesteps</th>\n",
       "      <th>control_horizons</th>\n",
       "      <th>error</th>\n",
       "      <th>total_cost</th>\n",
       "      <th>id</th>\n",
       "    </tr>\n",
       "  </thead>\n",
       "  <tbody>\n",
       "    <tr>\n",
       "      <th>0</th>\n",
       "      <td>0</td>\n",
       "      <td>10</td>\n",
       "      <td>5</td>\n",
       "      <td>5</td>\n",
       "      <td>50</td>\n",
       "      <td>0</td>\n",
       "      <td>2.641685e-08</td>\n",
       "      <td>0</td>\n",
       "      <td>linear regression</td>\n",
       "    </tr>\n",
       "    <tr>\n",
       "      <th>1</th>\n",
       "      <td>0</td>\n",
       "      <td>50</td>\n",
       "      <td>5</td>\n",
       "      <td>5</td>\n",
       "      <td>50</td>\n",
       "      <td>0</td>\n",
       "      <td>3.600458e-08</td>\n",
       "      <td>0</td>\n",
       "      <td>linear regression</td>\n",
       "    </tr>\n",
       "    <tr>\n",
       "      <th>2</th>\n",
       "      <td>0</td>\n",
       "      <td>100</td>\n",
       "      <td>5</td>\n",
       "      <td>5</td>\n",
       "      <td>50</td>\n",
       "      <td>0</td>\n",
       "      <td>4.639788e-08</td>\n",
       "      <td>0</td>\n",
       "      <td>linear regression</td>\n",
       "    </tr>\n",
       "    <tr>\n",
       "      <th>3</th>\n",
       "      <td>0</td>\n",
       "      <td>500</td>\n",
       "      <td>5</td>\n",
       "      <td>5</td>\n",
       "      <td>50</td>\n",
       "      <td>0</td>\n",
       "      <td>2.845413e-08</td>\n",
       "      <td>0</td>\n",
       "      <td>linear regression</td>\n",
       "    </tr>\n",
       "    <tr>\n",
       "      <th>4</th>\n",
       "      <td>0</td>\n",
       "      <td>1000</td>\n",
       "      <td>5</td>\n",
       "      <td>5</td>\n",
       "      <td>50</td>\n",
       "      <td>0</td>\n",
       "      <td>2.244216e-08</td>\n",
       "      <td>0</td>\n",
       "      <td>linear regression</td>\n",
       "    </tr>\n",
       "  </tbody>\n",
       "</table>\n",
       "</div>"
      ],
      "text/plain": [
       "   rep     n  latent_dim  embed_dim  timesteps  control_horizons   \n",
       "0    0    10           5          5         50                 0  \\\n",
       "1    0    50           5          5         50                 0   \n",
       "2    0   100           5          5         50                 0   \n",
       "3    0   500           5          5         50                 0   \n",
       "4    0  1000           5          5         50                 0   \n",
       "\n",
       "          error  total_cost                 id  \n",
       "0  2.641685e-08           0  linear regression  \n",
       "1  3.600458e-08           0  linear regression  \n",
       "2  4.639788e-08           0  linear regression  \n",
       "3  2.845413e-08           0  linear regression  \n",
       "4  2.244216e-08           0  linear regression  "
      ]
     },
     "execution_count": 26,
     "metadata": {},
     "output_type": "execute_result"
    }
   ],
   "source": [
    "data = pd.concat((data1, data2, data3))\n",
    "data.head()"
   ]
  },
  {
   "cell_type": "code",
   "execution_count": 24,
   "id": "8e582990db06ee8",
   "metadata": {
    "ExecuteTime": {
     "end_time": "2023-08-21T18:59:31.055214Z",
     "start_time": "2023-08-21T18:59:30.389089Z"
    },
    "collapsed": false
   },
   "outputs": [
    {
     "data": {
      "text/plain": [
       "<Figure size 640x480 with 0 Axes>"
      ]
     },
     "metadata": {},
     "output_type": "display_data"
    },
    {
     "data": {
      "image/png": "[encoded data removed]",
      "text/plain": [
       "<Figure size 675.625x500 with 1 Axes>"
      ]
     },
     "metadata": {},
     "output_type": "display_data"
    }
   ],
   "source": [
    "challenge.plot(data)"
   ]
  }
 ],
 "metadata": {
  "kernelspec": {
   "display_name": "Python 3",
   "language": "python",
   "name": "python3"
  },
  "language_info": {
   "codemirror_mode": {
    "name": "ipython",
    "version": 3
   },
   "file_extension": ".py",
   "mimetype": "text/x-python",
   "name": "python",
   "nbconvert_exporter": "python",
   "pygments_lexer": "ipython3",
   "version": "3.10.10"
  }
 },
 "nbformat": 4,
 "nbformat_minor": 5
}
