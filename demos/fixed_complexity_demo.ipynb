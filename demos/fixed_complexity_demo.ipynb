{
 "cells": [
  {
   "cell_type": "code",
   "execution_count": 4,
   "id": "initial_id",
   "metadata": {
    "ExecuteTime": {
     "end_time": "2023-08-21T18:48:14.236478Z",
     "start_time": "2023-08-21T18:48:14.098840Z"
    },
    "collapsed": true
   },
   "outputs": [
    {
     "name": "stdout",
     "output_type": "stream",
     "text": [
      "The autoreload extension is already loaded. To reload it, use:\n",
      "  %reload_ext autoreload\n"
     ]
    }
   ],
   "source": [
    "%load_ext autoreload\n",
    "%autoreload 2"
   ]
  },
  {
   "cell_type": "code",
   "execution_count": 5,
   "id": "642cb756de868a5f",
   "metadata": {
    "ExecuteTime": {
     "end_time": "2023-08-21T18:53:41.412867Z",
     "start_time": "2023-08-21T18:53:41.264637Z"
    },
    "collapsed": false
   },
   "outputs": [],
   "source": [
    "from dynadojo.systems.lds import LDSystem\n",
    "from dynadojo.baselines.lr import LinearRegression\n",
    "from dynadojo.baselines.dnn import DNN\n",
    "from dynadojo.challenges import FixedComplexity\n",
    "import pandas as pd"
   ]
  },
  {
   "cell_type": "code",
   "execution_count": 6,
   "id": "5de468b689a386cc",
   "metadata": {
    "ExecuteTime": {
     "end_time": "2023-08-21T18:58:00.587341Z",
     "start_time": "2023-08-21T18:54:54.952458Z"
    },
    "collapsed": false
   },
   "outputs": [
    {
     "name": "stderr",
     "output_type": "stream",
     "text": [
      "WARNING:root:Running systems in parallel. num_parallel_cpu=-1\n",
      "WARNING:root:Running systems in parallel. num_parallel_cpu=-1\n",
      "/Users/ngan/playground/DynaDojo/.venv/lib/python3.10/site-packages/joblib/externals/loky/process_executor.py:752: UserWarning: A worker stopped while some jobs were given to the executor. This can be caused by a too short worker timeout or by a memory leak.\n",
      "  warnings.warn(\n",
      "/Users/ngan/playground/DynaDojo/.venv/lib/python3.10/site-packages/joblib/externals/loky/process_executor.py:752: UserWarning: A worker stopped while some jobs were given to the executor. This can be caused by a too short worker timeout or by a memory leak.\n",
      "  warnings.warn(\n",
      "WARNING:root:Running systems in parallel. num_parallel_cpu=-1\n"
     ]
    }
   ],
   "source": [
    "challenge = FixedComplexity(\n",
    "    N=[10, 50, 100, 500, 1000],\n",
    "    l=5,\n",
    "    e=5,\n",
    "    t=50,\n",
    "    control_horizons=0,\n",
    "    max_control_cost_per_dim=0,\n",
    "    system_cls=LDSystem,\n",
    "    trials=10,\n",
    "    test_examples=50,\n",
    "    test_timesteps=50,\n",
    ")\n",
    "data1 = challenge.evaluate(LinearRegression, id=\"linear regression\")\n",
    "data2 = challenge.evaluate(DNN, algo_kwargs={\"activation\": \"relu\"}, fit_kwargs={\"epochs\": 20}, id=\"nonlinear network\")\n",
    "data3 = challenge.evaluate(DNN, fit_kwargs={\"epochs\": 20}, id=\"linear network\")"
   ]
  },
  {
   "cell_type": "code",
   "execution_count": 7,
   "id": "4ff94c4e94506a3e",
   "metadata": {
    "ExecuteTime": {
     "end_time": "2023-08-21T18:59:25.803111Z",
     "start_time": "2023-08-21T18:59:25.636835Z"
    },
    "collapsed": false
   },
   "outputs": [
    {
     "data": {
      "text/html": [
       "<div>\n",
       "<style scoped>\n",
       "    .dataframe tbody tr th:only-of-type {\n",
       "        vertical-align: middle;\n",
       "    }\n",
       "\n",
       "    .dataframe tbody tr th {\n",
       "        vertical-align: top;\n",
       "    }\n",
       "\n",
       "    .dataframe thead th {\n",
       "        text-align: right;\n",
       "    }\n",
       "</style>\n",
       "<table border=\"1\" class=\"dataframe\">\n",
       "  <thead>\n",
       "    <tr style=\"text-align: right;\">\n",
       "      <th></th>\n",
       "      <th>job_id</th>\n",
       "      <th>trial</th>\n",
       "      <th>latent_dim</th>\n",
       "      <th>embed_dim</th>\n",
       "      <th>timesteps</th>\n",
       "      <th>n</th>\n",
       "      <th>error</th>\n",
       "      <th>ood_error</th>\n",
       "      <th>total_cost</th>\n",
       "      <th>duration</th>\n",
       "      <th>system_seed</th>\n",
       "      <th>algo_seed</th>\n",
       "      <th>id</th>\n",
       "    </tr>\n",
       "  </thead>\n",
       "  <tbody>\n",
       "    <tr>\n",
       "      <th>0</th>\n",
       "      <td>0</td>\n",
       "      <td>1</td>\n",
       "      <td>5</td>\n",
       "      <td>5</td>\n",
       "      <td>50</td>\n",
       "      <td>10</td>\n",
       "      <td>3.150268e-14</td>\n",
       "      <td>None</td>\n",
       "      <td>0</td>\n",
       "      <td>0.000565</td>\n",
       "      <td>1997345670</td>\n",
       "      <td>2698294582</td>\n",
       "      <td>linear regression</td>\n",
       "    </tr>\n",
       "    <tr>\n",
       "      <th>1</th>\n",
       "      <td>0</td>\n",
       "      <td>1</td>\n",
       "      <td>5</td>\n",
       "      <td>5</td>\n",
       "      <td>50</td>\n",
       "      <td>50</td>\n",
       "      <td>1.130690e-13</td>\n",
       "      <td>None</td>\n",
       "      <td>0</td>\n",
       "      <td>0.000589</td>\n",
       "      <td>1997345670</td>\n",
       "      <td>2698294582</td>\n",
       "      <td>linear regression</td>\n",
       "    </tr>\n",
       "    <tr>\n",
       "      <th>2</th>\n",
       "      <td>0</td>\n",
       "      <td>1</td>\n",
       "      <td>5</td>\n",
       "      <td>5</td>\n",
       "      <td>50</td>\n",
       "      <td>100</td>\n",
       "      <td>1.285001e-13</td>\n",
       "      <td>None</td>\n",
       "      <td>0</td>\n",
       "      <td>0.000799</td>\n",
       "      <td>1997345670</td>\n",
       "      <td>2698294582</td>\n",
       "      <td>linear regression</td>\n",
       "    </tr>\n",
       "    <tr>\n",
       "      <th>3</th>\n",
       "      <td>0</td>\n",
       "      <td>1</td>\n",
       "      <td>5</td>\n",
       "      <td>5</td>\n",
       "      <td>50</td>\n",
       "      <td>500</td>\n",
       "      <td>1.152419e-13</td>\n",
       "      <td>None</td>\n",
       "      <td>0</td>\n",
       "      <td>0.002989</td>\n",
       "      <td>1997345670</td>\n",
       "      <td>2698294582</td>\n",
       "      <td>linear regression</td>\n",
       "    </tr>\n",
       "    <tr>\n",
       "      <th>4</th>\n",
       "      <td>0</td>\n",
       "      <td>1</td>\n",
       "      <td>5</td>\n",
       "      <td>5</td>\n",
       "      <td>50</td>\n",
       "      <td>1000</td>\n",
       "      <td>1.137813e-13</td>\n",
       "      <td>None</td>\n",
       "      <td>0</td>\n",
       "      <td>0.008143</td>\n",
       "      <td>1997345670</td>\n",
       "      <td>2698294582</td>\n",
       "      <td>linear regression</td>\n",
       "    </tr>\n",
       "  </tbody>\n",
       "</table>\n",
       "</div>"
      ],
      "text/plain": [
       "   job_id  trial  latent_dim  embed_dim  timesteps     n         error  \\\n",
       "0       0      1           5          5         50    10  3.150268e-14   \n",
       "1       0      1           5          5         50    50  1.130690e-13   \n",
       "2       0      1           5          5         50   100  1.285001e-13   \n",
       "3       0      1           5          5         50   500  1.152419e-13   \n",
       "4       0      1           5          5         50  1000  1.137813e-13   \n",
       "\n",
       "  ood_error  total_cost  duration  system_seed   algo_seed                 id  \n",
       "0      None           0  0.000565   1997345670  2698294582  linear regression  \n",
       "1      None           0  0.000589   1997345670  2698294582  linear regression  \n",
       "2      None           0  0.000799   1997345670  2698294582  linear regression  \n",
       "3      None           0  0.002989   1997345670  2698294582  linear regression  \n",
       "4      None           0  0.008143   1997345670  2698294582  linear regression  "
      ]
     },
     "execution_count": 7,
     "metadata": {},
     "output_type": "execute_result"
    }
   ],
   "source": [
    "data = pd.concat((data1, data2, data3))\n",
    "data.head()"
   ]
  },
  {
   "cell_type": "code",
   "execution_count": 8,
   "id": "8e582990db06ee8",
   "metadata": {
    "ExecuteTime": {
     "end_time": "2023-08-21T18:59:31.055214Z",
     "start_time": "2023-08-21T18:59:30.389089Z"
    },
    "collapsed": false
   },
   "outputs": [
    {
     "data": {
      "image/png": "[encoded data removed]",
      "text/plain": [
       "<Figure size 640x480 with 1 Axes>"
      ]
     },
     "metadata": {},
     "output_type": "display_data"
    },
    {
     "data": {
      "text/plain": [
       "<Axes: title={'center': 'Fixed Complexity, latent=5'}, xlabel='$n$', ylabel='$\\\\mathcal{E}$'>"
      ]
     },
     "execution_count": 8,
     "metadata": {},
     "output_type": "execute_result"
    }
   ],
   "source": [
    "challenge.plot(data)"
   ]
  }
 ],
 "metadata": {
  "kernelspec": {
   "display_name": "Python 3",
   "language": "python",
   "name": "python3"
  },
  "language_info": {
   "codemirror_mode": {
    "name": "ipython",
    "version": 3
   },
   "file_extension": ".py",
   "mimetype": "text/x-python",
   "name": "python",
   "nbconvert_exporter": "python",
   "pygments_lexer": "ipython3",
   "version": "3.10.13"
  }
 },
 "nbformat": 4,
 "nbformat_minor": 5
}
