{
 "cells": [
  {
   "cell_type": "code",
   "execution_count": 1,
   "id": "initial_id",
   "metadata": {
    "collapsed": true,
    "ExecuteTime": {
     "end_time": "2023-08-21T19:04:16.585656Z",
     "start_time": "2023-08-21T19:04:16.529834Z"
    }
   },
   "outputs": [],
   "source": [
    "%load_ext autoreload\n",
    "%autoreload 2"
   ]
  },
  {
   "cell_type": "code",
   "execution_count": 2,
   "outputs": [
    {
     "name": "stderr",
     "output_type": "stream",
     "text": [
      "2023-08-21 12:04:23.350903: I tensorflow/core/platform/cpu_feature_guard.cc:182] This TensorFlow binary is optimized to use available CPU instructions in performance-critical operations.\n",
      "To enable the following instructions: AVX2 AVX512F AVX512_VNNI FMA, in other operations, rebuild TensorFlow with the appropriate compiler flags.\n"
     ]
    }
   ],
   "source": [
    "from dynadojo.systems import CASystem\n",
    "from dynadojo.baselines import LowestPossibleRadius\n",
    "from dynadojo.challenges import FixedError"
   ],
   "metadata": {
    "collapsed": false,
    "ExecuteTime": {
     "end_time": "2023-08-21T19:04:26.007751Z",
     "start_time": "2023-08-21T19:04:16.589955Z"
    }
   },
   "id": "4cecfd444198cd6a"
  },
  {
   "cell_type": "code",
   "execution_count": 4,
   "outputs": [
    {
     "name": "stdout",
     "output_type": "stream",
     "text": [
      "latent_dim=2, embed_dim=2, timesteps=10, control_horizons=0, rep_id=0, id='LPR'\n",
      "latent_dim=2, embed_dim=2, timesteps=10, control_horizons=0, rep_id=1, id='LPR'\n",
      "latent_dim=2, embed_dim=2, timesteps=10, control_horizons=0, rep_id=2, id='LPR'\n",
      "latent_dim=2, embed_dim=2, timesteps=10, control_horizons=0, rep_id=3, id='LPR'\n",
      "latent_dim=2, embed_dim=2, timesteps=10, control_horizons=0, rep_id=4, id='LPR'\n",
      "latent_dim=2, embed_dim=2, timesteps=10, control_horizons=0, rep_id=5, id='LPR'\n",
      "latent_dim=2, embed_dim=2, timesteps=10, control_horizons=0, rep_id=6, id='LPR'\n",
      "latent_dim=2, embed_dim=2, timesteps=10, control_horizons=0, rep_id=7, id='LPR'\n",
      "latent_dim=2, embed_dim=2, timesteps=10, control_horizons=0, rep_id=8, id='LPR'\n",
      "latent_dim=2, embed_dim=2, timesteps=10, control_horizons=0, rep_id=9, id='LPR'\n",
      "latent_dim=3, embed_dim=3, timesteps=10, control_horizons=0, rep_id=0, id='LPR'\n",
      "latent_dim=3, embed_dim=3, timesteps=10, control_horizons=0, rep_id=1, id='LPR'\n",
      "latent_dim=3, embed_dim=3, timesteps=10, control_horizons=0, rep_id=2, id='LPR'\n",
      "latent_dim=3, embed_dim=3, timesteps=10, control_horizons=0, rep_id=3, id='LPR'\n",
      "latent_dim=3, embed_dim=3, timesteps=10, control_horizons=0, rep_id=4, id='LPR'\n",
      "latent_dim=3, embed_dim=3, timesteps=10, control_horizons=0, rep_id=5, id='LPR'\n",
      "latent_dim=3, embed_dim=3, timesteps=10, control_horizons=0, rep_id=6, id='LPR'\n",
      "latent_dim=3, embed_dim=3, timesteps=10, control_horizons=0, rep_id=7, id='LPR'\n",
      "latent_dim=3, embed_dim=3, timesteps=10, control_horizons=0, rep_id=8, id='LPR'\n",
      "latent_dim=3, embed_dim=3, timesteps=10, control_horizons=0, rep_id=9, id='LPR'\n",
      "latent_dim=4, embed_dim=4, timesteps=10, control_horizons=0, rep_id=0, id='LPR'\n",
      "latent_dim=4, embed_dim=4, timesteps=10, control_horizons=0, rep_id=1, id='LPR'\n",
      "latent_dim=4, embed_dim=4, timesteps=10, control_horizons=0, rep_id=2, id='LPR'\n",
      "latent_dim=4, embed_dim=4, timesteps=10, control_horizons=0, rep_id=3, id='LPR'\n",
      "latent_dim=4, embed_dim=4, timesteps=10, control_horizons=0, rep_id=4, id='LPR'\n",
      "latent_dim=4, embed_dim=4, timesteps=10, control_horizons=0, rep_id=5, id='LPR'\n",
      "latent_dim=4, embed_dim=4, timesteps=10, control_horizons=0, rep_id=6, id='LPR'\n",
      "latent_dim=4, embed_dim=4, timesteps=10, control_horizons=0, rep_id=7, id='LPR'\n",
      "latent_dim=4, embed_dim=4, timesteps=10, control_horizons=0, rep_id=8, id='LPR'\n",
      "latent_dim=4, embed_dim=4, timesteps=10, control_horizons=0, rep_id=9, id='LPR'\n"
     ]
    }
   ],
   "source": [
    "challenge = FixedError(\n",
    "    target_loss=0,\n",
    "    L=[2, 3, 4],\n",
    "    t=10,\n",
    "    control_horizons=0,\n",
    "    max_control_cost_per_dim=0,\n",
    "    system_cls=CASystem,\n",
    "    reps=10,\n",
    "    test_examples=50,\n",
    "    test_timesteps=50,\n",
    ")\n",
    "data = challenge.evaluate(LowestPossibleRadius, id=\"LPR\")"
   ],
   "metadata": {
    "collapsed": false,
    "ExecuteTime": {
     "end_time": "2023-08-21T19:08:40.638216Z",
     "start_time": "2023-08-21T19:08:12.623783Z"
    }
   },
   "id": "77155deca11b5cf2"
  },
  {
   "cell_type": "code",
   "execution_count": 5,
   "outputs": [
    {
     "data": {
      "text/plain": "<Figure size 640x480 with 0 Axes>"
     },
     "metadata": {},
     "output_type": "display_data"
    },
    {
     "data": {
      "text/plain": "<Figure size 584.625x500 with 1 Axes>",
      "image/png": "[encoded data removed]"
     },
     "metadata": {},
     "output_type": "display_data"
    }
   ],
   "source": [
    "challenge.plot(data)"
   ],
   "metadata": {
    "collapsed": false,
    "ExecuteTime": {
     "end_time": "2023-08-21T19:08:46.096458Z",
     "start_time": "2023-08-21T19:08:45.088781Z"
    }
   },
   "id": "16e09e98eff1dcbc"
  }
 ],
 "metadata": {
  "kernelspec": {
   "display_name": "Python 3",
   "language": "python",
   "name": "python3"
  },
  "language_info": {
   "codemirror_mode": {
    "name": "ipython",
    "version": 2
   },
   "file_extension": ".py",
   "mimetype": "text/x-python",
   "name": "python",
   "nbconvert_exporter": "python",
   "pygments_lexer": "ipython2",
   "version": "2.7.6"
  }
 },
 "nbformat": 4,
 "nbformat_minor": 5
}
