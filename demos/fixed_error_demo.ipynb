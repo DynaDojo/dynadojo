{
 "cells": [
  {
   "cell_type": "code",
   "execution_count": 1,
   "id": "initial_id",
   "metadata": {
    "ExecuteTime": {
     "end_time": "2023-08-21T19:04:16.585656Z",
     "start_time": "2023-08-21T19:04:16.529834Z"
    },
    "collapsed": true
   },
   "outputs": [],
   "source": [
    "%load_ext autoreload\n",
    "%autoreload 2"
   ]
  },
  {
   "cell_type": "code",
   "execution_count": 2,
   "id": "4cecfd444198cd6a",
   "metadata": {
    "ExecuteTime": {
     "end_time": "2023-08-21T19:04:26.007751Z",
     "start_time": "2023-08-21T19:04:16.589955Z"
    },
    "collapsed": false
   },
   "outputs": [
    {
     "name": "stderr",
     "output_type": "stream",
     "text": [
      "2023-08-22 17:06:15.701316: I tensorflow/core/platform/cpu_feature_guard.cc:182] This TensorFlow binary is optimized to use available CPU instructions in performance-critical operations.\n",
      "To enable the following instructions: AVX2 FMA, in other operations, rebuild TensorFlow with the appropriate compiler flags.\n"
     ]
    }
   ],
   "source": [
    "from dynadojo.systems import CASystem\n",
    "from dynadojo.baselines import LowestPossibleRadius\n",
    "from dynadojo.challenges import FixedError"
   ]
  },
  {
   "cell_type": "code",
   "execution_count": 5,
   "id": "77155deca11b5cf2",
   "metadata": {
    "ExecuteTime": {
     "end_time": "2023-08-21T19:08:40.638216Z",
     "start_time": "2023-08-21T19:08:12.623783Z"
    },
    "collapsed": false
   },
   "outputs": [
    {
     "name": "stdout",
     "output_type": "stream",
     "text": [
      "latent_dim=2, embed_dim=2, timesteps=10, control_horizons=0, rep_id=0, id='LPR'\n",
      "latent_dim=2, embed_dim=2, timesteps=10, control_horizons=0, rep_id=1, id='LPR'\n",
      "latent_dim=2, embed_dim=2, timesteps=10, control_horizons=0, rep_id=2, id='LPR'\n",
      "latent_dim=2, embed_dim=2, timesteps=10, control_horizons=0, rep_id=3, id='LPR'\n",
      "latent_dim=2, embed_dim=2, timesteps=10, control_horizons=0, rep_id=4, id='LPR'\n",
      "latent_dim=2, embed_dim=2, timesteps=10, control_horizons=0, rep_id=5, id='LPR'\n",
      "latent_dim=2, embed_dim=2, timesteps=10, control_horizons=0, rep_id=6, id='LPR'\n",
      "latent_dim=2, embed_dim=2, timesteps=10, control_horizons=0, rep_id=7, id='LPR'\n",
      "latent_dim=2, embed_dim=2, timesteps=10, control_horizons=0, rep_id=8, id='LPR'\n",
      "latent_dim=2, embed_dim=2, timesteps=10, control_horizons=0, rep_id=9, id='LPR'\n",
      "latent_dim=3, embed_dim=3, timesteps=10, control_horizons=0, rep_id=0, id='LPR'\n",
      "latent_dim=3, embed_dim=3, timesteps=10, control_horizons=0, rep_id=1, id='LPR'\n",
      "latent_dim=3, embed_dim=3, timesteps=10, control_horizons=0, rep_id=2, id='LPR'\n",
      "latent_dim=3, embed_dim=3, timesteps=10, control_horizons=0, rep_id=3, id='LPR'\n",
      "latent_dim=3, embed_dim=3, timesteps=10, control_horizons=0, rep_id=4, id='LPR'\n",
      "latent_dim=3, embed_dim=3, timesteps=10, control_horizons=0, rep_id=5, id='LPR'\n",
      "latent_dim=3, embed_dim=3, timesteps=10, control_horizons=0, rep_id=6, id='LPR'\n",
      "latent_dim=3, embed_dim=3, timesteps=10, control_horizons=0, rep_id=7, id='LPR'\n",
      "latent_dim=3, embed_dim=3, timesteps=10, control_horizons=0, rep_id=8, id='LPR'\n",
      "latent_dim=3, embed_dim=3, timesteps=10, control_horizons=0, rep_id=9, id='LPR'\n",
      "latent_dim=4, embed_dim=4, timesteps=10, control_horizons=0, rep_id=0, id='LPR'\n",
      "latent_dim=4, embed_dim=4, timesteps=10, control_horizons=0, rep_id=1, id='LPR'\n",
      "latent_dim=4, embed_dim=4, timesteps=10, control_horizons=0, rep_id=2, id='LPR'\n",
      "latent_dim=4, embed_dim=4, timesteps=10, control_horizons=0, rep_id=3, id='LPR'\n",
      "latent_dim=4, embed_dim=4, timesteps=10, control_horizons=0, rep_id=4, id='LPR'\n",
      "latent_dim=4, embed_dim=4, timesteps=10, control_horizons=0, rep_id=5, id='LPR'\n",
      "latent_dim=4, embed_dim=4, timesteps=10, control_horizons=0, rep_id=6, id='LPR'\n",
      "latent_dim=4, embed_dim=4, timesteps=10, control_horizons=0, rep_id=7, id='LPR'\n",
      "latent_dim=4, embed_dim=4, timesteps=10, control_horizons=0, rep_id=8, id='LPR'\n",
      "latent_dim=4, embed_dim=4, timesteps=10, control_horizons=0, rep_id=9, id='LPR'\n",
      "latent_dim=5, embed_dim=5, timesteps=10, control_horizons=0, rep_id=0, id='LPR'\n",
      "latent_dim=5, embed_dim=5, timesteps=10, control_horizons=0, rep_id=1, id='LPR'\n",
      "latent_dim=5, embed_dim=5, timesteps=10, control_horizons=0, rep_id=2, id='LPR'\n",
      "latent_dim=5, embed_dim=5, timesteps=10, control_horizons=0, rep_id=3, id='LPR'\n",
      "latent_dim=5, embed_dim=5, timesteps=10, control_horizons=0, rep_id=4, id='LPR'\n",
      "latent_dim=5, embed_dim=5, timesteps=10, control_horizons=0, rep_id=5, id='LPR'\n",
      "latent_dim=5, embed_dim=5, timesteps=10, control_horizons=0, rep_id=6, id='LPR'\n",
      "latent_dim=5, embed_dim=5, timesteps=10, control_horizons=0, rep_id=7, id='LPR'\n",
      "latent_dim=5, embed_dim=5, timesteps=10, control_horizons=0, rep_id=8, id='LPR'\n",
      "latent_dim=5, embed_dim=5, timesteps=10, control_horizons=0, rep_id=9, id='LPR'\n",
      "latent_dim=6, embed_dim=6, timesteps=10, control_horizons=0, rep_id=0, id='LPR'\n",
      "latent_dim=6, embed_dim=6, timesteps=10, control_horizons=0, rep_id=1, id='LPR'\n",
      "latent_dim=6, embed_dim=6, timesteps=10, control_horizons=0, rep_id=2, id='LPR'\n",
      "latent_dim=6, embed_dim=6, timesteps=10, control_horizons=0, rep_id=3, id='LPR'\n",
      "latent_dim=6, embed_dim=6, timesteps=10, control_horizons=0, rep_id=4, id='LPR'\n",
      "latent_dim=6, embed_dim=6, timesteps=10, control_horizons=0, rep_id=5, id='LPR'\n",
      "latent_dim=6, embed_dim=6, timesteps=10, control_horizons=0, rep_id=6, id='LPR'\n",
      "latent_dim=6, embed_dim=6, timesteps=10, control_horizons=0, rep_id=7, id='LPR'\n",
      "latent_dim=6, embed_dim=6, timesteps=10, control_horizons=0, rep_id=8, id='LPR'\n",
      "latent_dim=6, embed_dim=6, timesteps=10, control_horizons=0, rep_id=9, id='LPR'\n",
      "latent_dim=7, embed_dim=7, timesteps=10, control_horizons=0, rep_id=0, id='LPR'\n",
      "latent_dim=7, embed_dim=7, timesteps=10, control_horizons=0, rep_id=1, id='LPR'\n",
      "latent_dim=7, embed_dim=7, timesteps=10, control_horizons=0, rep_id=2, id='LPR'\n",
      "latent_dim=7, embed_dim=7, timesteps=10, control_horizons=0, rep_id=3, id='LPR'\n",
      "latent_dim=7, embed_dim=7, timesteps=10, control_horizons=0, rep_id=4, id='LPR'\n",
      "latent_dim=7, embed_dim=7, timesteps=10, control_horizons=0, rep_id=5, id='LPR'\n",
      "latent_dim=7, embed_dim=7, timesteps=10, control_horizons=0, rep_id=6, id='LPR'\n",
      "latent_dim=7, embed_dim=7, timesteps=10, control_horizons=0, rep_id=7, id='LPR'\n",
      "latent_dim=7, embed_dim=7, timesteps=10, control_horizons=0, rep_id=8, id='LPR'\n",
      "latent_dim=7, embed_dim=7, timesteps=10, control_horizons=0, rep_id=9, id='LPR'\n"
     ]
    }
   ],
   "source": [
    "challenge = FixedError(\n",
    "    target_loss=0,\n",
    "    L=[2, 3, 4, 5, 6, 7],\n",
    "    t=10,\n",
    "    control_horizons=0,\n",
    "    max_control_cost_per_dim=0,\n",
    "    system_cls=CASystem,\n",
    "    reps=10,\n",
    "    test_examples=50,\n",
    "    test_timesteps=50,\n",
    ")\n",
    "data = challenge.evaluate(LowestPossibleRadius, id=\"LPR\")"
   ]
  },
  {
   "cell_type": "code",
   "execution_count": 7,
   "id": "5621f5ad",
   "metadata": {},
   "outputs": [
    {
     "data": {
      "text/html": [
       "<div>\n",
       "<style scoped>\n",
       "    .dataframe tbody tr th:only-of-type {\n",
       "        vertical-align: middle;\n",
       "    }\n",
       "\n",
       "    .dataframe tbody tr th {\n",
       "        vertical-align: top;\n",
       "    }\n",
       "\n",
       "    .dataframe thead th {\n",
       "        text-align: right;\n",
       "    }\n",
       "</style>\n",
       "<table border=\"1\" class=\"dataframe\">\n",
       "  <thead>\n",
       "    <tr style=\"text-align: right;\">\n",
       "      <th></th>\n",
       "      <th>rep</th>\n",
       "      <th>n</th>\n",
       "      <th>latent_dim</th>\n",
       "      <th>embed_dim</th>\n",
       "      <th>timesteps</th>\n",
       "      <th>control_horizons</th>\n",
       "      <th>error</th>\n",
       "      <th>total_cost</th>\n",
       "      <th>id</th>\n",
       "    </tr>\n",
       "  </thead>\n",
       "  <tbody>\n",
       "    <tr>\n",
       "      <th>0</th>\n",
       "      <td>0</td>\n",
       "      <td>1</td>\n",
       "      <td>2</td>\n",
       "      <td>2</td>\n",
       "      <td>10</td>\n",
       "      <td>0</td>\n",
       "      <td>0.2058</td>\n",
       "      <td>0</td>\n",
       "      <td>LPR</td>\n",
       "    </tr>\n",
       "    <tr>\n",
       "      <th>1</th>\n",
       "      <td>0</td>\n",
       "      <td>3</td>\n",
       "      <td>2</td>\n",
       "      <td>2</td>\n",
       "      <td>10</td>\n",
       "      <td>0</td>\n",
       "      <td>0.2058</td>\n",
       "      <td>0</td>\n",
       "      <td>LPR</td>\n",
       "    </tr>\n",
       "    <tr>\n",
       "      <th>2</th>\n",
       "      <td>0</td>\n",
       "      <td>7</td>\n",
       "      <td>2</td>\n",
       "      <td>2</td>\n",
       "      <td>10</td>\n",
       "      <td>0</td>\n",
       "      <td>0.0588</td>\n",
       "      <td>0</td>\n",
       "      <td>LPR</td>\n",
       "    </tr>\n",
       "    <tr>\n",
       "      <th>3</th>\n",
       "      <td>0</td>\n",
       "      <td>15</td>\n",
       "      <td>2</td>\n",
       "      <td>2</td>\n",
       "      <td>10</td>\n",
       "      <td>0</td>\n",
       "      <td>0.0588</td>\n",
       "      <td>0</td>\n",
       "      <td>LPR</td>\n",
       "    </tr>\n",
       "    <tr>\n",
       "      <th>4</th>\n",
       "      <td>0</td>\n",
       "      <td>31</td>\n",
       "      <td>2</td>\n",
       "      <td>2</td>\n",
       "      <td>10</td>\n",
       "      <td>0</td>\n",
       "      <td>0.0000</td>\n",
       "      <td>0</td>\n",
       "      <td>LPR</td>\n",
       "    </tr>\n",
       "  </tbody>\n",
       "</table>\n",
       "</div>"
      ],
      "text/plain": [
       "   rep   n  latent_dim  embed_dim  timesteps  control_horizons   error   \n",
       "0    0   1           2          2         10                 0  0.2058  \\\n",
       "1    0   3           2          2         10                 0  0.2058   \n",
       "2    0   7           2          2         10                 0  0.0588   \n",
       "3    0  15           2          2         10                 0  0.0588   \n",
       "4    0  31           2          2         10                 0  0.0000   \n",
       "\n",
       "   total_cost   id  \n",
       "0           0  LPR  \n",
       "1           0  LPR  \n",
       "2           0  LPR  \n",
       "3           0  LPR  \n",
       "4           0  LPR  "
      ]
     },
     "execution_count": 7,
     "metadata": {},
     "output_type": "execute_result"
    }
   ],
   "source": [
    "data.head()"
   ]
  },
  {
   "cell_type": "code",
   "execution_count": 8,
   "id": "16e09e98eff1dcbc",
   "metadata": {
    "ExecuteTime": {
     "end_time": "2023-08-21T19:08:46.096458Z",
     "start_time": "2023-08-21T19:08:45.088781Z"
    },
    "collapsed": false
   },
   "outputs": [
    {
     "data": {
      "text/plain": [
       "<Figure size 640x480 with 0 Axes>"
      ]
     },
     "metadata": {},
     "output_type": "display_data"
    },
    {
     "data": {
      "image/png": "[encoded data removed]",
      "text/plain": [
       "<Figure size 584.625x500 with 1 Axes>"
      ]
     },
     "metadata": {},
     "output_type": "display_data"
    }
   ],
   "source": [
    "challenge.plot(data)"
   ]
  }
 ],
 "metadata": {
  "kernelspec": {
   "display_name": "Python 3",
   "language": "python",
   "name": "python3"
  },
  "language_info": {
   "codemirror_mode": {
    "name": "ipython",
    "version": 3
   },
   "file_extension": ".py",
   "mimetype": "text/x-python",
   "name": "python",
   "nbconvert_exporter": "python",
   "pygments_lexer": "ipython3",
   "version": "3.10.10"
  }
 },
 "nbformat": 4,
 "nbformat_minor": 5
}
