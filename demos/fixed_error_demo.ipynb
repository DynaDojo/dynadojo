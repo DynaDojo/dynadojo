{
 "cells": [
  {
   "cell_type": "code",
   "execution_count": 1,
   "id": "initial_id",
   "metadata": {
    "ExecuteTime": {
     "end_time": "2023-08-21T19:04:16.585656Z",
     "start_time": "2023-08-21T19:04:16.529834Z"
    },
    "collapsed": true
   },
   "outputs": [],
   "source": [
    "%load_ext autoreload\n",
    "%autoreload 2"
   ]
  },
  {
   "cell_type": "code",
   "execution_count": 2,
   "id": "4cecfd444198cd6a",
   "metadata": {
    "ExecuteTime": {
     "end_time": "2023-08-21T19:04:26.007751Z",
     "start_time": "2023-08-21T19:04:16.589955Z"
    },
    "collapsed": false
   },
   "outputs": [],
   "source": [
    "from dynadojo.systems.ca import CASystem\n",
    "from dynadojo.baselines.lpr import LowestPossibleRadius\n",
    "from dynadojo.challenges import FixedError"
   ]
  },
  {
   "cell_type": "code",
   "execution_count": 3,
   "id": "e09c0d8b",
   "metadata": {},
   "outputs": [],
   "source": [
    "import logging\n",
    "logging.basicConfig(level=logging.INFO)"
   ]
  },
  {
   "cell_type": "code",
   "execution_count": 4,
   "id": "77155deca11b5cf2",
   "metadata": {
    "ExecuteTime": {
     "end_time": "2023-08-21T19:08:40.638216Z",
     "start_time": "2023-08-21T19:08:12.623783Z"
    },
    "collapsed": false
   },
   "outputs": [
    {
     "name": "stderr",
     "output_type": "stream",
     "text": [
      "INFO:root:Created 60 jobs\n",
      "WARNING:root:Running systems in parallel. num_parallel_cpu=-1\n"
     ]
    },
    {
     "name": "stderr",
     "output_type": "stream",
     "text": [
      "INFO:root:ERROR TARGETED: job_id=0 | n_target=79, latent=2, embed=2, trial=1, seed=1083337427,2694000572\n",
      "INFO:root:ERROR TARGETED: job_id=1 | n_target=6, latent=3, embed=3, trial=1, seed=477623377,2148897050\n",
      "INFO:root:ERROR TARGETED: job_id=2 | n_target=48, latent=4, embed=4, trial=1, seed=3325642485,596078\n",
      "INFO:root:ERROR TARGETED: job_id=3 | n_target=26, latent=5, embed=5, trial=1, seed=1512110950,389708777\n",
      "INFO:root:ERROR TARGETED: job_id=4 | n_target=148, latent=6, embed=6, trial=1, seed=3931084277,866004470\n",
      "INFO:root:ERROR TARGETED: job_id=5 | n_target=45, latent=7, embed=7, trial=1, seed=2605960268,2244577445\n",
      "INFO:root:ERROR TARGETED: job_id=6 | n_target=38, latent=2, embed=2, trial=2, seed=50247446,349593570\n",
      "INFO:root:ERROR TARGETED: job_id=7 | n_target=1, latent=3, embed=3, trial=2, seed=235833258,1176307855\n",
      "INFO:root:ERROR TARGETED: job_id=8 | n_target=2, latent=4, embed=4, trial=2, seed=925002208,3053488815\n",
      "INFO:root:ERROR TARGETED: job_id=9 | n_target=72, latent=5, embed=5, trial=2, seed=2471385868,231105809\n",
      "INFO:root:ERROR TARGETED: job_id=10 | n_target=60, latent=6, embed=6, trial=2, seed=2668905065,1938068842\n",
      "INFO:root:ERROR TARGETED: job_id=11 | n_target=38, latent=7, embed=7, trial=2, seed=1459468932,740228141\n",
      "INFO:root:ERROR TARGETED: job_id=12 | n_target=20, latent=2, embed=2, trial=3, seed=3839683562,1151823482\n",
      "INFO:root:ERROR TARGETED: job_id=13 | n_target=3, latent=3, embed=3, trial=3, seed=4199416083,99807925\n",
      "INFO:root:ERROR TARGETED: job_id=14 | n_target=4, latent=4, embed=4, trial=3, seed=1212397080,151663328\n",
      "INFO:root:ERROR TARGETED: job_id=15 | n_target=28, latent=5, embed=5, trial=3, seed=2048414901,2734755631\n",
      "INFO:root:ERROR TARGETED: job_id=16 | n_target=69, latent=6, embed=6, trial=3, seed=2668298343,448340821\n",
      "INFO:root:ERROR TARGETED: job_id=17 | n_target=38, latent=7, embed=7, trial=3, seed=1287027951,1755525654\n",
      "INFO:root:ERROR TARGETED: job_id=18 | n_target=10, latent=2, embed=2, trial=4, seed=980243472,2446830153\n",
      "INFO:root:ERROR TARGETED: job_id=19 | n_target=7, latent=3, embed=3, trial=4, seed=2786600666,4228180111\n",
      "INFO:root:ERROR TARGETED: job_id=20 | n_target=4, latent=4, embed=4, trial=4, seed=1299025360,4098959913\n",
      "INFO:root:ERROR TARGETED: job_id=21 | n_target=87, latent=5, embed=5, trial=4, seed=1238147389,3409809722\n",
      "INFO:root:ERROR TARGETED: job_id=22 | n_target=27, latent=6, embed=6, trial=4, seed=2535072549,2058790847\n",
      "INFO:root:ERROR TARGETED: job_id=23 | n_target=109, latent=7, embed=7, trial=4, seed=2249569744,2964112721\n",
      "INFO:root:ERROR TARGETED: job_id=24 | n_target=29, latent=2, embed=2, trial=5, seed=2203601502,2587422545\n",
      "INFO:root:ERROR TARGETED: job_id=25 | n_target=1, latent=3, embed=3, trial=5, seed=1571129532,417914376\n",
      "INFO:root:ERROR TARGETED: job_id=26 | n_target=5, latent=4, embed=4, trial=5, seed=614059147,2980828149\n",
      "INFO:root:ERROR TARGETED: job_id=27 | n_target=53, latent=5, embed=5, trial=5, seed=1039034730,3796667476\n",
      "INFO:root:ERROR TARGETED: job_id=28 | n_target=193, latent=6, embed=6, trial=5, seed=1162891758,1340655597\n",
      "INFO:root:ERROR TARGETED: job_id=29 | n_target=47, latent=7, embed=7, trial=5, seed=2634407367,1276890498\n",
      "INFO:root:ERROR TARGETED: job_id=30 | n_target=1, latent=2, embed=2, trial=6, seed=1832856986,2244663064\n",
      "INFO:root:ERROR TARGETED: job_id=31 | n_target=1, latent=3, embed=3, trial=6, seed=3786173466,1025395396\n",
      "INFO:root:ERROR TARGETED: job_id=32 | n_target=26, latent=4, embed=4, trial=6, seed=2589500847,460193016\n",
      "INFO:root:ERROR TARGETED: job_id=33 | n_target=2, latent=5, embed=5, trial=6, seed=2812967563,3640921328\n",
      "INFO:root:ERROR TARGETED: job_id=34 | n_target=12, latent=6, embed=6, trial=6, seed=3250915888,2484812747\n",
      "INFO:root:ERROR TARGETED: job_id=35 | n_target=83, latent=7, embed=7, trial=6, seed=3005500950,3305404112\n",
      "INFO:root:ERROR TARGETED: job_id=36 | n_target=7, latent=2, embed=2, trial=7, seed=2043089247,1291947115\n",
      "INFO:root:ERROR TARGETED: job_id=37 | n_target=1, latent=3, embed=3, trial=7, seed=4263864772,637644924\n",
      "INFO:root:ERROR TARGETED: job_id=38 | n_target=357, latent=4, embed=4, trial=7, seed=742909137,712690006\n",
      "INFO:root:ERROR TARGETED: job_id=39 | n_target=8, latent=5, embed=5, trial=7, seed=1689506180,507463731\n",
      "INFO:root:ERROR TARGETED: job_id=40 | n_target=41, latent=6, embed=6, trial=7, seed=1594305173,1819704149\n",
      "INFO:root:ERROR TARGETED: job_id=41 | n_target=205, latent=7, embed=7, trial=7, seed=3299257314,1023354223\n",
      "INFO:root:ERROR TARGETED: job_id=42 | n_target=1, latent=2, embed=2, trial=8, seed=1921315106,3437027090\n",
      "INFO:root:ERROR TARGETED: job_id=43 | n_target=6, latent=3, embed=3, trial=8, seed=2858887454,1233266871\n",
      "INFO:root:ERROR TARGETED: job_id=44 | n_target=7, latent=4, embed=4, trial=8, seed=1570344254,1994417794\n",
      "INFO:root:ERROR TARGETED: job_id=45 | n_target=50, latent=5, embed=5, trial=8, seed=1774166924,262128711\n",
      "INFO:root:ERROR TARGETED: job_id=46 | n_target=442, latent=6, embed=6, trial=8, seed=4246128097,1607640704\n",
      "INFO:root:ERROR TARGETED: job_id=47 | n_target=174, latent=7, embed=7, trial=8, seed=3639354140,3129110420\n",
      "INFO:root:ERROR TARGETED: job_id=48 | n_target=3, latent=2, embed=2, trial=9, seed=2485713876,4142618304\n",
      "INFO:root:ERROR TARGETED: job_id=49 | n_target=6, latent=3, embed=3, trial=9, seed=3887070412,527001189\n",
      "INFO:root:ERROR TARGETED: job_id=50 | n_target=9, latent=4, embed=4, trial=9, seed=3936909794,2261370644\n",
      "INFO:root:ERROR TARGETED: job_id=51 | n_target=19, latent=5, embed=5, trial=9, seed=2005580400,415305766\n",
      "INFO:root:ERROR TARGETED: job_id=52 | n_target=20, latent=6, embed=6, trial=9, seed=1116526915,2606539472\n",
      "INFO:root:ERROR TARGETED: job_id=53 | n_target=14, latent=7, embed=7, trial=9, seed=798457105,2603347083\n",
      "INFO:root:ERROR TARGETED: job_id=54 | n_target=16, latent=2, embed=2, trial=10, seed=1195288309,3586170274\n",
      "INFO:root:ERROR TARGETED: job_id=55 | n_target=6, latent=3, embed=3, trial=10, seed=1115735679,2070999020\n",
      "INFO:root:ERROR TARGETED: job_id=56 | n_target=13, latent=4, embed=4, trial=10, seed=3347588621,3470095871\n",
      "INFO:root:ERROR TARGETED: job_id=57 | n_target=18, latent=5, embed=5, trial=10, seed=3128085417,3726350538\n",
      "INFO:root:ERROR TARGETED: job_id=58 | n_target=38, latent=6, embed=6, trial=10, seed=3646143393,2449038717\n",
      "INFO:root:ERROR TARGETED: job_id=59 | n_target=203, latent=7, embed=7, trial=10, seed=1851490624,1453627340\n"
     ]
    }
   ],
   "source": [
    "challenge = FixedError(\n",
    "    target_error=0,\n",
    "    L=[2, 3, 4, 5, 6, 7],\n",
    "    t=10,\n",
    "    control_horizons=0,\n",
    "    max_control_cost_per_dim=0,\n",
    "    system_cls=CASystem,\n",
    "    trials=10,\n",
    "    test_examples=50,\n",
    "    test_timesteps=50,\n",
    ")\n",
    "data = challenge.evaluate(LowestPossibleRadius, id=\"LPR\", num_parallel_cpu=-1)"
   ]
  },
  {
   "cell_type": "code",
   "execution_count": 5,
   "id": "5621f5ad",
   "metadata": {},
   "outputs": [
    {
     "data": {
      "text/html": [
       "<div>\n",
       "<style scoped>\n",
       "    .dataframe tbody tr th:only-of-type {\n",
       "        vertical-align: middle;\n",
       "    }\n",
       "\n",
       "    .dataframe tbody tr th {\n",
       "        vertical-align: top;\n",
       "    }\n",
       "\n",
       "    .dataframe thead th {\n",
       "        text-align: right;\n",
       "    }\n",
       "</style>\n",
       "<table border=\"1\" class=\"dataframe\">\n",
       "  <thead>\n",
       "    <tr style=\"text-align: right;\">\n",
       "      <th></th>\n",
       "      <th>job_id</th>\n",
       "      <th>trial</th>\n",
       "      <th>latent_dim</th>\n",
       "      <th>embed_dim</th>\n",
       "      <th>timesteps</th>\n",
       "      <th>n</th>\n",
       "      <th>error</th>\n",
       "      <th>ood_error</th>\n",
       "      <th>total_cost</th>\n",
       "      <th>duration</th>\n",
       "      <th>n_target</th>\n",
       "      <th>target_error</th>\n",
       "      <th>n_start</th>\n",
       "      <th>n_window</th>\n",
       "      <th>n_precision</th>\n",
       "      <th>n_max</th>\n",
       "      <th>system_seed</th>\n",
       "      <th>algo_seed</th>\n",
       "      <th>id</th>\n",
       "    </tr>\n",
       "  </thead>\n",
       "  <tbody>\n",
       "    <tr>\n",
       "      <th>0</th>\n",
       "      <td>0</td>\n",
       "      <td>1</td>\n",
       "      <td>2</td>\n",
       "      <td>2</td>\n",
       "      <td>10</td>\n",
       "      <td>1</td>\n",
       "      <td>0.0588</td>\n",
       "      <td>None</td>\n",
       "      <td>0</td>\n",
       "      <td>0.046371</td>\n",
       "      <td>79</td>\n",
       "      <td>0</td>\n",
       "      <td>1</td>\n",
       "      <td>1</td>\n",
       "      <td>0</td>\n",
       "      <td>10000</td>\n",
       "      <td>1083337427</td>\n",
       "      <td>2694000572</td>\n",
       "      <td>LPR</td>\n",
       "    </tr>\n",
       "    <tr>\n",
       "      <th>1</th>\n",
       "      <td>0</td>\n",
       "      <td>1</td>\n",
       "      <td>2</td>\n",
       "      <td>2</td>\n",
       "      <td>10</td>\n",
       "      <td>2</td>\n",
       "      <td>0.0588</td>\n",
       "      <td>None</td>\n",
       "      <td>0</td>\n",
       "      <td>0.035008</td>\n",
       "      <td>79</td>\n",
       "      <td>0</td>\n",
       "      <td>1</td>\n",
       "      <td>1</td>\n",
       "      <td>0</td>\n",
       "      <td>10000</td>\n",
       "      <td>1083337427</td>\n",
       "      <td>2694000572</td>\n",
       "      <td>LPR</td>\n",
       "    </tr>\n",
       "    <tr>\n",
       "      <th>2</th>\n",
       "      <td>0</td>\n",
       "      <td>1</td>\n",
       "      <td>2</td>\n",
       "      <td>2</td>\n",
       "      <td>10</td>\n",
       "      <td>4</td>\n",
       "      <td>0.0588</td>\n",
       "      <td>None</td>\n",
       "      <td>0</td>\n",
       "      <td>0.172153</td>\n",
       "      <td>79</td>\n",
       "      <td>0</td>\n",
       "      <td>1</td>\n",
       "      <td>1</td>\n",
       "      <td>0</td>\n",
       "      <td>10000</td>\n",
       "      <td>1083337427</td>\n",
       "      <td>2694000572</td>\n",
       "      <td>LPR</td>\n",
       "    </tr>\n",
       "    <tr>\n",
       "      <th>3</th>\n",
       "      <td>0</td>\n",
       "      <td>1</td>\n",
       "      <td>2</td>\n",
       "      <td>2</td>\n",
       "      <td>10</td>\n",
       "      <td>8</td>\n",
       "      <td>0.0588</td>\n",
       "      <td>None</td>\n",
       "      <td>0</td>\n",
       "      <td>0.082320</td>\n",
       "      <td>79</td>\n",
       "      <td>0</td>\n",
       "      <td>1</td>\n",
       "      <td>1</td>\n",
       "      <td>0</td>\n",
       "      <td>10000</td>\n",
       "      <td>1083337427</td>\n",
       "      <td>2694000572</td>\n",
       "      <td>LPR</td>\n",
       "    </tr>\n",
       "    <tr>\n",
       "      <th>4</th>\n",
       "      <td>0</td>\n",
       "      <td>1</td>\n",
       "      <td>2</td>\n",
       "      <td>2</td>\n",
       "      <td>10</td>\n",
       "      <td>16</td>\n",
       "      <td>0.0588</td>\n",
       "      <td>None</td>\n",
       "      <td>0</td>\n",
       "      <td>0.037895</td>\n",
       "      <td>79</td>\n",
       "      <td>0</td>\n",
       "      <td>1</td>\n",
       "      <td>1</td>\n",
       "      <td>0</td>\n",
       "      <td>10000</td>\n",
       "      <td>1083337427</td>\n",
       "      <td>2694000572</td>\n",
       "      <td>LPR</td>\n",
       "    </tr>\n",
       "  </tbody>\n",
       "</table>\n",
       "</div>"
      ],
      "text/plain": [
       "   job_id  trial  latent_dim  embed_dim  timesteps   n   error ood_error  \\\n",
       "0       0      1           2          2         10   1  0.0588      None   \n",
       "1       0      1           2          2         10   2  0.0588      None   \n",
       "2       0      1           2          2         10   4  0.0588      None   \n",
       "3       0      1           2          2         10   8  0.0588      None   \n",
       "4       0      1           2          2         10  16  0.0588      None   \n",
       "\n",
       "   total_cost  duration  n_target  target_error  n_start  n_window  \\\n",
       "0           0  0.046371        79             0        1         1   \n",
       "1           0  0.035008        79             0        1         1   \n",
       "2           0  0.172153        79             0        1         1   \n",
       "3           0  0.082320        79             0        1         1   \n",
       "4           0  0.037895        79             0        1         1   \n",
       "\n",
       "   n_precision  n_max  system_seed   algo_seed   id  \n",
       "0            0  10000   1083337427  2694000572  LPR  \n",
       "1            0  10000   1083337427  2694000572  LPR  \n",
       "2            0  10000   1083337427  2694000572  LPR  \n",
       "3            0  10000   1083337427  2694000572  LPR  \n",
       "4            0  10000   1083337427  2694000572  LPR  "
      ]
     },
     "execution_count": 5,
     "metadata": {},
     "output_type": "execute_result"
    }
   ],
   "source": [
    "data.head()"
   ]
  },
  {
   "cell_type": "code",
   "execution_count": 6,
   "id": "16e09e98eff1dcbc",
   "metadata": {
    "ExecuteTime": {
     "end_time": "2023-08-21T19:08:46.096458Z",
     "start_time": "2023-08-21T19:08:45.088781Z"
    },
    "collapsed": false
   },
   "outputs": [
    {
     "data": {
      "image/png": "[encoded data removed]",
      "text/plain": [
       "<Figure size 640x480 with 1 Axes>"
      ]
     },
     "metadata": {},
     "output_type": "display_data"
    },
    {
     "data": {
      "text/plain": [
       "<Axes: title={'center': 'Fixed Error'}, xlabel='$L$', ylabel='$n$'>"
      ]
     },
     "execution_count": 6,
     "metadata": {},
     "output_type": "execute_result"
    }
   ],
   "source": [
    "challenge.plot(data)"
   ]
  },
  {
   "cell_type": "code",
   "execution_count": null,
   "id": "5db1236c",
   "metadata": {},
   "outputs": [],
   "source": []
  }
 ],
 "metadata": {
  "kernelspec": {
   "display_name": "Python 3",
   "language": "python",
   "name": "python3"
  },
  "language_info": {
   "codemirror_mode": {
    "name": "ipython",
    "version": 3
   },
   "file_extension": ".py",
   "mimetype": "text/x-python",
   "name": "python",
   "nbconvert_exporter": "python",
   "pygments_lexer": "ipython3",
   "version": "3.10.13"
  }
 },
 "nbformat": 4,
 "nbformat_minor": 5
}
