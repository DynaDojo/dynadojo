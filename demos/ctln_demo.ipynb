{
 "cells": [
  {
   "cell_type": "code",
   "execution_count": 1,
   "metadata": {
    "ExecuteTime": {
     "end_time": "2023-08-21T00:28:06.989766Z",
     "start_time": "2023-08-21T00:28:06.938046Z"
    }
   },
   "outputs": [],
   "source": [
    "%load_ext autoreload\n",
    "%autoreload 2"
   ]
  },
  {
   "cell_type": "code",
   "execution_count": 2,
   "metadata": {
    "ExecuteTime": {
     "end_time": "2023-08-21T00:28:23.741448Z",
     "start_time": "2023-08-21T00:28:06.992815Z"
    }
   },
   "outputs": [
    {
     "name": "stderr",
     "output_type": "stream",
     "text": [
      "2023-08-20 17:28:19.539276: I tensorflow/core/platform/cpu_feature_guard.cc:182] This TensorFlow binary is optimized to use available CPU instructions in performance-critical operations.\n",
      "To enable the following instructions: AVX2 AVX512F AVX512_VNNI FMA, in other operations, rebuild TensorFlow with the appropriate compiler flags.\n"
     ]
    }
   ],
   "source": [
    "import dynadojo as dd\n",
    "import numpy as np"
   ]
  },
  {
   "cell_type": "code",
   "execution_count": 3,
   "metadata": {
    "ExecuteTime": {
     "end_time": "2023-08-21T00:28:24.236982Z",
     "start_time": "2023-08-21T00:28:23.741905Z"
    }
   },
   "outputs": [],
   "source": [
    "latent_dim = 100\n",
    "embed_dim = 100\n",
    "n = 100\n",
    "timesteps = 50\n",
    "system = dd.systems.CTLNSystem(latent_dim, embed_dim, p=0.5)\n",
    "x0 = system.make_init_conds(n)\n",
    "x = system.make_data(x0, control=np.zeros((n, timesteps, embed_dim)), timesteps=timesteps)"
   ]
  },
  {
   "cell_type": "code",
   "execution_count": 4,
   "metadata": {
    "ExecuteTime": {
     "end_time": "2023-08-21T00:30:33.515703Z",
     "start_time": "2023-08-21T00:28:24.243966Z"
    }
   },
   "outputs": [],
   "source": [
    "model = dd.baselines.AugODE(embed_dim, timesteps, max_control_cost=0)\n",
    "model.fit(x, epochs=1000)"
   ]
  },
  {
   "cell_type": "code",
   "execution_count": 5,
   "metadata": {
    "ExecuteTime": {
     "end_time": "2023-08-21T00:30:35.270737Z",
     "start_time": "2023-08-21T00:30:33.518132Z"
    }
   },
   "outputs": [
    {
     "ename": "TypeError",
     "evalue": "'AugODE' object is not callable",
     "output_type": "error",
     "traceback": [
      "\u001B[0;31m---------------------------------------------------------------------------\u001B[0m",
      "\u001B[0;31mTypeError\u001B[0m                                 Traceback (most recent call last)",
      "Cell \u001B[0;32mIn[5], line 1\u001B[0m\n\u001B[0;32m----> 1\u001B[0m x_pred \u001B[38;5;241m=\u001B[39m \u001B[43mmodel\u001B[49m\u001B[38;5;241;43m.\u001B[39;49m\u001B[43mpredict\u001B[49m\u001B[43m(\u001B[49m\u001B[43mx\u001B[49m\u001B[43m[\u001B[49m\u001B[43m:\u001B[49m\u001B[43m,\u001B[49m\u001B[43m \u001B[49m\u001B[38;5;241;43m0\u001B[39;49m\u001B[43m]\u001B[49m\u001B[43m,\u001B[49m\u001B[43m \u001B[49m\u001B[38;5;241;43m50\u001B[39;49m\u001B[43m)\u001B[49m\n\u001B[1;32m      2\u001B[0m system\u001B[38;5;241m.\u001B[39mcalc_error(x, x_pred)\n",
      "File \u001B[0;32m~/Documents/GitHub/DynaDojo/dynadojo/baselines/aug_ode.py:45\u001B[0m, in \u001B[0;36mAugODE.predict\u001B[0;34m(self, x0, timesteps)\u001B[0m\n\u001B[1;32m     43\u001B[0m x0 \u001B[38;5;241m=\u001B[39m torch\u001B[38;5;241m.\u001B[39mtensor(x0, dtype\u001B[38;5;241m=\u001B[39mtorch\u001B[38;5;241m.\u001B[39mfloat32)\n\u001B[1;32m     44\u001B[0m t \u001B[38;5;241m=\u001B[39m torch\u001B[38;5;241m.\u001B[39mlinspace(\u001B[38;5;241m0.0\u001B[39m, timesteps, timesteps)\n\u001B[0;32m---> 45\u001B[0m \u001B[38;5;28;01mreturn\u001B[39;00m \u001B[43modeint\u001B[49m\u001B[43m(\u001B[49m\u001B[38;5;28;43mself\u001B[39;49m\u001B[43m,\u001B[49m\u001B[43m \u001B[49m\u001B[43mx0\u001B[49m\u001B[43m,\u001B[49m\u001B[43m \u001B[49m\u001B[43mt\u001B[49m\u001B[43m)\u001B[49m\u001B[38;5;241m.\u001B[39mdetach()\u001B[38;5;241m.\u001B[39mnumpy()\n",
      "File \u001B[0;32m~/Documents/GitHub/DynaDojo/venv/lib/python3.10/site-packages/torchdiffeq/_impl/odeint.py:77\u001B[0m, in \u001B[0;36modeint\u001B[0;34m(func, y0, t, rtol, atol, method, options, event_fn)\u001B[0m\n\u001B[1;32m     74\u001B[0m solver \u001B[38;5;241m=\u001B[39m SOLVERS[method](func\u001B[38;5;241m=\u001B[39mfunc, y0\u001B[38;5;241m=\u001B[39my0, rtol\u001B[38;5;241m=\u001B[39mrtol, atol\u001B[38;5;241m=\u001B[39matol, \u001B[38;5;241m*\u001B[39m\u001B[38;5;241m*\u001B[39moptions)\n\u001B[1;32m     76\u001B[0m \u001B[38;5;28;01mif\u001B[39;00m event_fn \u001B[38;5;129;01mis\u001B[39;00m \u001B[38;5;28;01mNone\u001B[39;00m:\n\u001B[0;32m---> 77\u001B[0m     solution \u001B[38;5;241m=\u001B[39m \u001B[43msolver\u001B[49m\u001B[38;5;241;43m.\u001B[39;49m\u001B[43mintegrate\u001B[49m\u001B[43m(\u001B[49m\u001B[43mt\u001B[49m\u001B[43m)\u001B[49m\n\u001B[1;32m     78\u001B[0m \u001B[38;5;28;01melse\u001B[39;00m:\n\u001B[1;32m     79\u001B[0m     event_t, solution \u001B[38;5;241m=\u001B[39m solver\u001B[38;5;241m.\u001B[39mintegrate_until_event(t[\u001B[38;5;241m0\u001B[39m], event_fn)\n",
      "File \u001B[0;32m~/Documents/GitHub/DynaDojo/venv/lib/python3.10/site-packages/torchdiffeq/_impl/solvers.py:28\u001B[0m, in \u001B[0;36mAdaptiveStepsizeODESolver.integrate\u001B[0;34m(self, t)\u001B[0m\n\u001B[1;32m     26\u001B[0m solution[\u001B[38;5;241m0\u001B[39m] \u001B[38;5;241m=\u001B[39m \u001B[38;5;28mself\u001B[39m\u001B[38;5;241m.\u001B[39my0\n\u001B[1;32m     27\u001B[0m t \u001B[38;5;241m=\u001B[39m t\u001B[38;5;241m.\u001B[39mto(\u001B[38;5;28mself\u001B[39m\u001B[38;5;241m.\u001B[39mdtype)\n\u001B[0;32m---> 28\u001B[0m \u001B[38;5;28;43mself\u001B[39;49m\u001B[38;5;241;43m.\u001B[39;49m\u001B[43m_before_integrate\u001B[49m\u001B[43m(\u001B[49m\u001B[43mt\u001B[49m\u001B[43m)\u001B[49m\n\u001B[1;32m     29\u001B[0m \u001B[38;5;28;01mfor\u001B[39;00m i \u001B[38;5;129;01min\u001B[39;00m \u001B[38;5;28mrange\u001B[39m(\u001B[38;5;241m1\u001B[39m, \u001B[38;5;28mlen\u001B[39m(t)):\n\u001B[1;32m     30\u001B[0m     solution[i] \u001B[38;5;241m=\u001B[39m \u001B[38;5;28mself\u001B[39m\u001B[38;5;241m.\u001B[39m_advance(t[i])\n",
      "File \u001B[0;32m~/Documents/GitHub/DynaDojo/venv/lib/python3.10/site-packages/torchdiffeq/_impl/rk_common.py:161\u001B[0m, in \u001B[0;36mRKAdaptiveStepsizeODESolver._before_integrate\u001B[0;34m(self, t)\u001B[0m\n\u001B[1;32m    159\u001B[0m \u001B[38;5;28;01mdef\u001B[39;00m \u001B[38;5;21m_before_integrate\u001B[39m(\u001B[38;5;28mself\u001B[39m, t):\n\u001B[1;32m    160\u001B[0m     t0 \u001B[38;5;241m=\u001B[39m t[\u001B[38;5;241m0\u001B[39m]\n\u001B[0;32m--> 161\u001B[0m     f0 \u001B[38;5;241m=\u001B[39m \u001B[38;5;28;43mself\u001B[39;49m\u001B[38;5;241;43m.\u001B[39;49m\u001B[43mfunc\u001B[49m\u001B[43m(\u001B[49m\u001B[43mt\u001B[49m\u001B[43m[\u001B[49m\u001B[38;5;241;43m0\u001B[39;49m\u001B[43m]\u001B[49m\u001B[43m,\u001B[49m\u001B[43m \u001B[49m\u001B[38;5;28;43mself\u001B[39;49m\u001B[38;5;241;43m.\u001B[39;49m\u001B[43my0\u001B[49m\u001B[43m)\u001B[49m\n\u001B[1;32m    162\u001B[0m     \u001B[38;5;28;01mif\u001B[39;00m \u001B[38;5;28mself\u001B[39m\u001B[38;5;241m.\u001B[39mfirst_step \u001B[38;5;129;01mis\u001B[39;00m \u001B[38;5;28;01mNone\u001B[39;00m:\n\u001B[1;32m    163\u001B[0m         first_step \u001B[38;5;241m=\u001B[39m _select_initial_step(\u001B[38;5;28mself\u001B[39m\u001B[38;5;241m.\u001B[39mfunc, t[\u001B[38;5;241m0\u001B[39m], \u001B[38;5;28mself\u001B[39m\u001B[38;5;241m.\u001B[39my0, \u001B[38;5;28mself\u001B[39m\u001B[38;5;241m.\u001B[39morder \u001B[38;5;241m-\u001B[39m \u001B[38;5;241m1\u001B[39m, \u001B[38;5;28mself\u001B[39m\u001B[38;5;241m.\u001B[39mrtol, \u001B[38;5;28mself\u001B[39m\u001B[38;5;241m.\u001B[39matol,\n\u001B[1;32m    164\u001B[0m                                           \u001B[38;5;28mself\u001B[39m\u001B[38;5;241m.\u001B[39mnorm, f0\u001B[38;5;241m=\u001B[39mf0)\n",
      "File \u001B[0;32m~/Documents/GitHub/DynaDojo/venv/lib/python3.10/site-packages/torch/nn/modules/module.py:1501\u001B[0m, in \u001B[0;36mModule._call_impl\u001B[0;34m(self, *args, **kwargs)\u001B[0m\n\u001B[1;32m   1496\u001B[0m \u001B[38;5;66;03m# If we don't have any hooks, we want to skip the rest of the logic in\u001B[39;00m\n\u001B[1;32m   1497\u001B[0m \u001B[38;5;66;03m# this function, and just call forward.\u001B[39;00m\n\u001B[1;32m   1498\u001B[0m \u001B[38;5;28;01mif\u001B[39;00m \u001B[38;5;129;01mnot\u001B[39;00m (\u001B[38;5;28mself\u001B[39m\u001B[38;5;241m.\u001B[39m_backward_hooks \u001B[38;5;129;01mor\u001B[39;00m \u001B[38;5;28mself\u001B[39m\u001B[38;5;241m.\u001B[39m_backward_pre_hooks \u001B[38;5;129;01mor\u001B[39;00m \u001B[38;5;28mself\u001B[39m\u001B[38;5;241m.\u001B[39m_forward_hooks \u001B[38;5;129;01mor\u001B[39;00m \u001B[38;5;28mself\u001B[39m\u001B[38;5;241m.\u001B[39m_forward_pre_hooks\n\u001B[1;32m   1499\u001B[0m         \u001B[38;5;129;01mor\u001B[39;00m _global_backward_pre_hooks \u001B[38;5;129;01mor\u001B[39;00m _global_backward_hooks\n\u001B[1;32m   1500\u001B[0m         \u001B[38;5;129;01mor\u001B[39;00m _global_forward_hooks \u001B[38;5;129;01mor\u001B[39;00m _global_forward_pre_hooks):\n\u001B[0;32m-> 1501\u001B[0m     \u001B[38;5;28;01mreturn\u001B[39;00m \u001B[43mforward_call\u001B[49m\u001B[43m(\u001B[49m\u001B[38;5;241;43m*\u001B[39;49m\u001B[43margs\u001B[49m\u001B[43m,\u001B[49m\u001B[43m \u001B[49m\u001B[38;5;241;43m*\u001B[39;49m\u001B[38;5;241;43m*\u001B[39;49m\u001B[43mkwargs\u001B[49m\u001B[43m)\u001B[49m\n\u001B[1;32m   1502\u001B[0m \u001B[38;5;66;03m# Do not call functions when jit is used\u001B[39;00m\n\u001B[1;32m   1503\u001B[0m full_backward_hooks, non_full_backward_hooks \u001B[38;5;241m=\u001B[39m [], []\n",
      "File \u001B[0;32m~/Documents/GitHub/DynaDojo/venv/lib/python3.10/site-packages/torchdiffeq/_impl/misc.py:189\u001B[0m, in \u001B[0;36m_PerturbFunc.forward\u001B[0;34m(self, t, y, perturb)\u001B[0m\n\u001B[1;32m    186\u001B[0m \u001B[38;5;28;01melse\u001B[39;00m:\n\u001B[1;32m    187\u001B[0m     \u001B[38;5;66;03m# Do nothing.\u001B[39;00m\n\u001B[1;32m    188\u001B[0m     \u001B[38;5;28;01mpass\u001B[39;00m\n\u001B[0;32m--> 189\u001B[0m \u001B[38;5;28;01mreturn\u001B[39;00m \u001B[38;5;28;43mself\u001B[39;49m\u001B[38;5;241;43m.\u001B[39;49m\u001B[43mbase_func\u001B[49m\u001B[43m(\u001B[49m\u001B[43mt\u001B[49m\u001B[43m,\u001B[49m\u001B[43m \u001B[49m\u001B[43my\u001B[49m\u001B[43m)\u001B[49m\n",
      "\u001B[0;31mTypeError\u001B[0m: 'AugODE' object is not callable"
     ]
    }
   ],
   "source": [
    "x_pred = model.predict(x[:, 0], 50)\n",
    "system.calc_error(x, x_pred)"
   ]
  }
 ],
 "metadata": {
  "kernelspec": {
   "display_name": "Python 3",
   "language": "python",
   "name": "python3"
  },
  "language_info": {
   "codemirror_mode": {
    "name": "ipython",
    "version": 3
   },
   "file_extension": ".py",
   "mimetype": "text/x-python",
   "name": "python",
   "nbconvert_exporter": "python",
   "pygments_lexer": "ipython3",
   "version": "3.7.3"
  }
 },
 "nbformat": 4,
 "nbformat_minor": 1
}
