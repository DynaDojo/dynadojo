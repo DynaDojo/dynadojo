{
 "cells": [
  {
   "cell_type": "code",
   "execution_count": 1,
   "metadata": {
    "ExecuteTime": {
     "end_time": "2023-11-25T16:25:26.429999Z",
     "start_time": "2023-11-25T16:25:26.401541Z"
    }
   },
   "outputs": [],
   "source": [
    "%load_ext autoreload\n",
    "%autoreload 2"
   ]
  },
  {
   "cell_type": "code",
   "execution_count": 2,
   "metadata": {
    "ExecuteTime": {
     "end_time": "2023-11-25T16:25:27.962956Z",
     "start_time": "2023-11-25T16:25:26.431578Z"
    }
   },
   "outputs": [],
   "source": [
    "from dynadojo.systems.ctln import CTLNSystem"
   ]
  },
  {
   "cell_type": "code",
   "execution_count": 3,
   "metadata": {
    "ExecuteTime": {
     "end_time": "2023-11-25T16:25:28.485668Z",
     "start_time": "2023-11-25T16:25:27.967185Z"
    }
   },
   "outputs": [
    {
     "ename": "AttributeError",
     "evalue": "module 'dynadojo.systems' has no attribute 'CTLNSystem'",
     "output_type": "error",
     "traceback": [
      "\u001B[0;31m---------------------------------------------------------------------------\u001B[0m",
      "\u001B[0;31mAttributeError\u001B[0m                            Traceback (most recent call last)",
      "Cell \u001B[0;32mIn[3], line 5\u001B[0m\n\u001B[1;32m      3\u001B[0m timesteps \u001B[38;5;241m=\u001B[39m \u001B[38;5;241m50\u001B[39m\n\u001B[1;32m      4\u001B[0m n \u001B[38;5;241m=\u001B[39m \u001B[38;5;241m1\u001B[39m\n\u001B[0;32m----> 5\u001B[0m system \u001B[38;5;241m=\u001B[39m \u001B[43mdd\u001B[49m\u001B[38;5;241;43m.\u001B[39;49m\u001B[43msystems\u001B[49m\u001B[38;5;241;43m.\u001B[39;49m\u001B[43mCTLNSystem\u001B[49m(latent_dim, embed_dim, mutation_p\u001B[38;5;241m=\u001B[39m\u001B[38;5;241m0\u001B[39m)\n\u001B[1;32m      6\u001B[0m x0 \u001B[38;5;241m=\u001B[39m system\u001B[38;5;241m.\u001B[39mmake_init_conds(n\u001B[38;5;241m=\u001B[39mn)\n\u001B[1;32m      7\u001B[0m x \u001B[38;5;241m=\u001B[39m system\u001B[38;5;241m.\u001B[39mmake_data(x0, control\u001B[38;5;241m=\u001B[39mnp\u001B[38;5;241m.\u001B[39mzeros((n, timesteps, embed_dim)), timesteps\u001B[38;5;241m=\u001B[39mtimesteps)\n",
      "\u001B[0;31mAttributeError\u001B[0m: module 'dynadojo.systems' has no attribute 'CTLNSystem'"
     ]
    }
   ],
   "source": [
    "latent_dim = 100\n",
    "embed_dim = 100\n",
    "timesteps = 50\n",
    "n = 1\n",
    "system = CTLNSystem(latent_dim, embed_dim, mutation_p=0)\n",
    "x0 = system.make_init_conds(n=n)\n",
    "x = system.make_data(x0, timesteps=timesteps)\n",
    "dd.utils.ca.plot([x], labels=[\"X\"])\n",
    "\n",
    "latent_dim = 100\n",
    "embed_dim = 100\n",
    "n = 100\n",
    "timesteps = 50\n",
    "challenge = CTLNSystem(latent_dim, embed_dim)\n",
    "x0 = challenge.make_init_conds(n, p=0.2)\n",
    "x = challenge.make_data(x0, control=np.zeros((n, timesteps, embed_dim)), timesteps=timesteps)\n",
    "plot([x], target_dim=3, labels=[\"in\"], max_lines=30)"
   ]
  },
  {
   "cell_type": "code",
   "execution_count": null,
   "metadata": {
    "ExecuteTime": {
     "start_time": "2023-11-25T16:25:28.480185Z"
    }
   },
   "outputs": [],
   "source": [
    "model = AugODE(embed_dim, timesteps, max_control_cost=0)\n",
    "model.fit(x, epochs=1000)"
   ]
  },
  {
   "cell_type": "code",
   "execution_count": null,
   "metadata": {
    "ExecuteTime": {
     "start_time": "2023-11-25T16:25:28.485493Z"
    }
   },
   "outputs": [],
   "source": [
    "x_pred = model.predict(x[:, 0], 50)\n",
    "plot([x_pred, x], target_dim=3, labels=[\"x_pred\", \"x\"], max_lines=10)"
   ]
  }
 ],
 "metadata": {
  "kernelspec": {
   "display_name": "Python 3.10.13 ('.venv': pipenv)",
   "language": "python",
   "name": "python3"
  },
  "language_info": {
   "codemirror_mode": {
    "name": "ipython",
    "version": 3
   },
   "file_extension": ".py",
   "mimetype": "text/x-python",
   "name": "python",
   "nbconvert_exporter": "python",
   "pygments_lexer": "ipython3",
   "version": "3.10.13"
  },
  "vscode": {
   "interpreter": {
    "hash": "3773aad5e061e19e4f842f01c74142b10fff2d671cff92ab74be7a021ba49549"
   }
  }
 },
 "nbformat": 4,
 "nbformat_minor": 1
}
