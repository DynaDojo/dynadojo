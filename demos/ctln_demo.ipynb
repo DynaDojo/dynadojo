{
 "cells": [
  {
   "cell_type": "code",
   "execution_count": 2,
   "metadata": {
    "ExecuteTime": {
     "end_time": "2023-06-18T23:46:59.105728Z",
     "start_time": "2023-06-18T23:46:59.079861Z"
    }
   },
   "outputs": [],
   "source": [
    "%load_ext autoreload\n",
    "%autoreload 2"
   ]
  },
  {
   "cell_type": "code",
   "execution_count": 3,
   "metadata": {
    "ExecuteTime": {
     "end_time": "2023-06-18T23:47:08.750238Z",
     "start_time": "2023-06-18T23:46:59.800083Z"
    }
   },
   "outputs": [
    {
     "name": "stderr",
     "output_type": "stream",
     "text": [
      "2023-06-18 16:47:06.412143: I tensorflow/core/platform/cpu_feature_guard.cc:182] This TensorFlow binary is optimized to use available CPU instructions in performance-critical operations.\n",
      "To enable the following instructions: AVX2 AVX512F AVX512_VNNI FMA, in other operations, rebuild TensorFlow with the appropriate compiler flags.\n"
     ]
    }
   ],
   "source": [
    "import dynadojo as dd\n",
    "import numpy as np"
   ]
  },
  {
   "cell_type": "code",
   "execution_count": 6,
   "metadata": {
    "ExecuteTime": {
     "end_time": "2023-06-18T23:48:01.059504Z",
     "start_time": "2023-06-18T23:48:00.840210Z"
    }
   },
   "outputs": [],
   "source": [
    "latent_dim = 100\n",
    "embed_dim = 100\n",
    "n = 100\n",
    "timesteps = 50\n",
    "system = dd.systems.CTLNSystem(latent_dim, embed_dim, p=0.5)\n",
    "x0 = system.make_init_conds(n)\n",
    "x = system.make_data(x0, control=np.zeros((n, timesteps, embed_dim)), timesteps=timesteps)"
   ]
  },
  {
   "cell_type": "code",
   "execution_count": null,
   "metadata": {
    "is_executing": true,
    "ExecuteTime": {
     "start_time": "2023-06-18T23:49:02.749632Z"
    }
   },
   "outputs": [],
   "source": [
    "model = dd.baselines.AugODE(embed_dim, timesteps, max_control_cost=0)\n",
    "model.fit(x, epochs=1000)"
   ]
  },
  {
   "cell_type": "code",
   "execution_count": null,
   "metadata": {
    "is_executing": true
   },
   "outputs": [],
   "source": [
    "x_pred = model.predict(x[:, 0], 50)\n",
    "system.calc_error(x, x_pred)"
   ]
  }
 ],
 "metadata": {
  "kernelspec": {
   "display_name": "Python 3",
   "language": "python",
   "name": "python3"
  },
  "language_info": {
   "codemirror_mode": {
    "name": "ipython",
    "version": 3
   },
   "file_extension": ".py",
   "mimetype": "text/x-python",
   "name": "python",
   "nbconvert_exporter": "python",
   "pygments_lexer": "ipython3",
   "version": "3.7.3"
  }
 },
 "nbformat": 4,
 "nbformat_minor": 1
}
