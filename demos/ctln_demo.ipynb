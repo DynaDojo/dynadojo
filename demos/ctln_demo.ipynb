{
 "cells": [
  {
   "cell_type": "code",
   "execution_count": 1,
   "metadata": {
    "ExecuteTime": {
     "end_time": "2023-05-28T17:40:05.744960Z",
     "start_time": "2023-05-28T17:40:05.713620Z"
    }
   },
   "outputs": [],
   "source": [
    "%load_ext autoreload\n",
    "%autoreload 2"
   ]
  },
  {
   "cell_type": "code",
   "execution_count": 2,
   "metadata": {
    "ExecuteTime": {
     "end_time": "2023-05-28T17:40:53.056525Z",
     "start_time": "2023-05-28T17:40:46.164960Z"
    }
   },
   "outputs": [],
   "source": [
    "import dynadojo as dd\n",
    "import numpy as np"
   ]
  },
  {
   "cell_type": "code",
   "execution_count": 3,
   "metadata": {
    "ExecuteTime": {
     "end_time": "2023-05-28T17:42:05.147621Z",
     "start_time": "2023-05-28T17:41:47.346321Z"
    }
   },
   "outputs": [
    {
     "ename": "TypeError",
     "evalue": "CTLNSystem.__init__() got an unexpected keyword argument 'mutation_p'",
     "output_type": "error",
     "traceback": [
      "\u001b[0;31m---------------------------------------------------------------------------\u001b[0m",
      "\u001b[0;31mTypeError\u001b[0m                                 Traceback (most recent call last)",
      "Cell \u001b[0;32mIn[3], line 5\u001b[0m\n\u001b[1;32m      3\u001b[0m timesteps \u001b[39m=\u001b[39m \u001b[39m50\u001b[39m\n\u001b[1;32m      4\u001b[0m n \u001b[39m=\u001b[39m \u001b[39m1\u001b[39m\n\u001b[0;32m----> 5\u001b[0m system \u001b[39m=\u001b[39m dd\u001b[39m.\u001b[39;49msystems\u001b[39m.\u001b[39;49mCTLNSystem(latent_dim, embed_dim, mutation_p\u001b[39m=\u001b[39;49m\u001b[39m0\u001b[39;49m)\n\u001b[1;32m      6\u001b[0m x0 \u001b[39m=\u001b[39m system\u001b[39m.\u001b[39mmake_init_conds(n\u001b[39m=\u001b[39mn)\n\u001b[1;32m      7\u001b[0m x \u001b[39m=\u001b[39m system\u001b[39m.\u001b[39mmake_data(x0, control\u001b[39m=\u001b[39mnp\u001b[39m.\u001b[39mzeros((n, timesteps, embed_dim)), timesteps\u001b[39m=\u001b[39mtimesteps)\n",
      "\u001b[0;31mTypeError\u001b[0m: CTLNSystem.__init__() got an unexpected keyword argument 'mutation_p'"
     ]
    }
   ],
   "source": [
    "latent_dim = 100\n",
    "embed_dim = 100\n",
    "timesteps = 50\n",
    "n = 1\n",
    "system = dd.systems.CTLNSystem(latent_dim, embed_dim, mutation_p=0)\n",
    "x0 = system.make_init_conds(n=n)\n",
    "x = system.make_data(x0, control=np.zeros((n, timesteps, embed_dim)), timesteps=timesteps)\n",
    "dd.utils.ca.plot([x], labels=[\"X\"])\n",
    "\n",
    "latent_dim = 100\n",
    "embed_dim = 100\n",
    "n = 100\n",
    "timesteps = 50\n",
    "challenge = CTLNSystem(latent_dim, embed_dim)\n",
    "x0 = challenge.make_init_conds(n, p=0.2)\n",
    "x = challenge.make_data(x0, control=np.zeros((n, timesteps, embed_dim)), timesteps=timesteps)\n",
    "plot([x], target_dim=3, labels=[\"in\"], max_lines=30)"
   ]
  },
  {
   "cell_type": "code",
   "execution_count": null,
   "metadata": {
    "ExecuteTime": {
     "end_time": "2023-05-28T17:43:18.325799Z",
     "start_time": "2023-05-28T17:42:23.390288Z"
    }
   },
   "outputs": [],
   "source": [
    "model = AugODE(embed_dim, timesteps, max_control_cost=0)\n",
    "model.fit(x, epochs=1000)"
   ]
  },
  {
   "cell_type": "code",
   "execution_count": 4,
   "metadata": {
    "ExecuteTime": {
     "end_time": "2023-05-28T17:43:44.486336Z",
     "start_time": "2023-05-28T17:43:20.573468Z"
    }
   },
   "outputs": [
    {
     "ename": "NameError",
     "evalue": "name 'model' is not defined",
     "output_type": "error",
     "traceback": [
      "\u001b[0;31m---------------------------------------------------------------------------\u001b[0m",
      "\u001b[0;31mNameError\u001b[0m                                 Traceback (most recent call last)",
      "Cell \u001b[0;32mIn[4], line 1\u001b[0m\n\u001b[0;32m----> 1\u001b[0m x_pred \u001b[39m=\u001b[39m model\u001b[39m.\u001b[39mpredict(x[:, \u001b[39m0\u001b[39m], \u001b[39m50\u001b[39m)\n\u001b[1;32m      2\u001b[0m plot([x_pred, x], target_dim\u001b[39m=\u001b[39m\u001b[39m3\u001b[39m, labels\u001b[39m=\u001b[39m[\u001b[39m\"\u001b[39m\u001b[39mx_pred\u001b[39m\u001b[39m\"\u001b[39m, \u001b[39m\"\u001b[39m\u001b[39mx\u001b[39m\u001b[39m\"\u001b[39m], max_lines\u001b[39m=\u001b[39m\u001b[39m10\u001b[39m)\n",
      "\u001b[0;31mNameError\u001b[0m: name 'model' is not defined"
     ]
    }
   ],
   "source": [
    "x_pred = model.predict(x[:, 0], 50)\n",
    "plot([x_pred, x], target_dim=3, labels=[\"x_pred\", \"x\"], max_lines=10)"
   ]
  }
 ],
 "metadata": {
  "kernelspec": {
   "display_name": "Python 3.10.13 ('.venv': pipenv)",
   "language": "python",
   "name": "python3"
  },
  "language_info": {
   "codemirror_mode": {
    "name": "ipython",
    "version": 3
   },
   "file_extension": ".py",
   "mimetype": "text/x-python",
   "name": "python",
   "nbconvert_exporter": "python",
   "pygments_lexer": "ipython3",
   "version": "3.10.13"
  },
  "vscode": {
   "interpreter": {
    "hash": "3773aad5e061e19e4f842f01c74142b10fff2d671cff92ab74be7a021ba49549"
   }
  }
 },
 "nbformat": 4,
 "nbformat_minor": 1
}
