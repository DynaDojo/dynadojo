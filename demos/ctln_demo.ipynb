{
 "cells": [
  {
   "cell_type": "code",
   "execution_count": 1,
   "metadata": {
    "ExecuteTime": {
     "end_time": "2023-05-28T17:40:05.744960Z",
     "start_time": "2023-05-28T17:40:05.713620Z"
    }
   },
   "outputs": [],
   "source": [
    "%load_ext autoreload\n",
    "%autoreload 2"
   ]
  },
  {
   "cell_type": "code",
   "execution_count": null,
   "metadata": {
    "ExecuteTime": {
     "end_time": "2023-05-28T17:40:53.056525Z",
     "start_time": "2023-05-28T17:40:46.164960Z"
    }
   },
   "outputs": [],
   "source": [
    "import dynadojo as dd\n",
    "import numpy as np"
   ]
  },
  {
   "cell_type": "code",
   "execution_count": null,
   "metadata": {
    "ExecuteTime": {
     "end_time": "2023-05-28T17:42:05.147621Z",
     "start_time": "2023-05-28T17:41:47.346321Z"
    }
   },
   "outputs": [],
   "source": [
    "latent_dim = 100\n",
    "embed_dim = 100\n",
    "timesteps = 50\n",
    "n = 1\n",
    "system = dd.systems.CTLNSystem(latent_dim, embed_dim, mutation_p=0)\n",
    "x0 = system.make_init_conds(n=n)\n",
    "x = system.make_data(x0, control=np.zeros((n, timesteps, embed_dim)), timesteps=timesteps)\n",
    "dd.utils.ca.plot([x], labels=[\"X\"])\n",
    "\n",
    "latent_dim = 100\n",
    "embed_dim = 100\n",
    "n = 100\n",
    "timesteps = 50\n",
    "challenge = CTLNSystem(latent_dim, embed_dim)\n",
    "x0 = challenge.make_init_conds(n, p=0.2)\n",
    "x = challenge.make_data(x0, control=np.zeros((n, timesteps, embed_dim)), timesteps=timesteps)\n",
    "plot([x], target_dim=3, labels=[\"in\"], max_lines=30)"
   ]
  },
  {
   "cell_type": "code",
   "execution_count": null,
   "metadata": {
    "ExecuteTime": {
     "end_time": "2023-05-28T17:43:18.325799Z",
     "start_time": "2023-05-28T17:42:23.390288Z"
    }
   },
   "outputs": [],
   "source": [
    "model = AugODE(embed_dim, timesteps, max_control_cost=0)\n",
    "model.fit(x, epochs=1000)"
   ]
  },
  {
   "cell_type": "code",
   "execution_count": null,
   "metadata": {
    "ExecuteTime": {
     "end_time": "2023-05-28T17:43:44.486336Z",
     "start_time": "2023-05-28T17:43:20.573468Z"
    }
   },
   "outputs": [],
   "source": [
    "x_pred = model.predict(x[:, 0], 50)\n",
    "plot([x_pred, x], target_dim=3, labels=[\"x_pred\", \"x\"], max_lines=10)"
   ]
  }
 ],
 "metadata": {
  "kernelspec": {
   "display_name": "Python 3",
   "language": "python",
   "name": "python3"
  },
  "language_info": {
   "codemirror_mode": {
    "name": "ipython",
    "version": 3
   },
   "file_extension": ".py",
   "mimetype": "text/x-python",
   "name": "python",
   "nbconvert_exporter": "python",
   "pygments_lexer": "ipython3",
   "version": "3.10.10"
  }
 },
 "nbformat": 4,
 "nbformat_minor": 1
}
