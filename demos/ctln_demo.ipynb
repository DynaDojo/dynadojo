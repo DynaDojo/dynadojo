{
 "cells": [
  {
   "cell_type": "code",
   "execution_count": 1,
   "metadata": {
    "ExecuteTime": {
     "end_time": "2023-08-21T00:48:13.594760Z",
     "start_time": "2023-08-21T00:48:13.570502Z"
    }
   },
   "outputs": [],
   "source": [
    "%load_ext autoreload\n",
    "%autoreload 2"
   ]
  },
  {
   "cell_type": "code",
   "execution_count": 2,
   "metadata": {
    "ExecuteTime": {
     "end_time": "2023-08-21T00:48:24.363253Z",
     "start_time": "2023-08-21T00:48:13.596148Z"
    }
   },
   "outputs": [
    {
     "name": "stderr",
     "output_type": "stream",
     "text": [
      "2023-08-20 17:48:21.198861: I tensorflow/core/platform/cpu_feature_guard.cc:182] This TensorFlow binary is optimized to use available CPU instructions in performance-critical operations.\n",
      "To enable the following instructions: AVX2 AVX512F AVX512_VNNI FMA, in other operations, rebuild TensorFlow with the appropriate compiler flags.\n"
     ]
    }
   ],
   "source": [
    "import dynadojo as dd\n",
    "import numpy as np"
   ]
  },
  {
   "cell_type": "code",
   "execution_count": 3,
   "metadata": {
    "ExecuteTime": {
     "end_time": "2023-08-21T00:48:24.630134Z",
     "start_time": "2023-08-21T00:48:24.364922Z"
    }
   },
   "outputs": [],
   "source": [
    "latent_dim = 100\n",
    "embed_dim = 100\n",
    "n = 100\n",
    "timesteps = 50\n",
    "system = dd.systems.CTLNSystem(latent_dim, embed_dim, p=0.5)\n",
    "x0 = system.make_init_conds(n)\n",
    "x = system.make_data(x0, control=np.zeros((n, timesteps, embed_dim)), timesteps=timesteps)"
   ]
  },
  {
   "cell_type": "code",
   "execution_count": 4,
   "metadata": {
    "ExecuteTime": {
     "end_time": "2023-08-21T00:49:52.408945Z",
     "start_time": "2023-08-21T00:48:24.632586Z"
    }
   },
   "outputs": [],
   "source": [
    "model = dd.baselines.AugODE(embed_dim, timesteps, max_control_cost=0)\n",
    "model.fit(x, epochs=1000)"
   ]
  },
  {
   "cell_type": "code",
   "execution_count": 7,
   "metadata": {
    "ExecuteTime": {
     "end_time": "2023-08-21T00:52:12.494634Z",
     "start_time": "2023-08-21T00:52:12.125887Z"
    }
   },
   "outputs": [
    {
     "ename": "TypeError",
     "evalue": "odeint() missing 1 required positional argument: 't'",
     "output_type": "error",
     "traceback": [
      "\u001B[0;31m---------------------------------------------------------------------------\u001B[0m",
      "\u001B[0;31mTypeError\u001B[0m                                 Traceback (most recent call last)",
      "Cell \u001B[0;32mIn[7], line 1\u001B[0m\n\u001B[0;32m----> 1\u001B[0m x_pred \u001B[38;5;241m=\u001B[39m \u001B[43mmodel\u001B[49m\u001B[38;5;241;43m.\u001B[39;49m\u001B[43mpredict\u001B[49m\u001B[43m(\u001B[49m\u001B[43mx\u001B[49m\u001B[43m[\u001B[49m\u001B[43m:\u001B[49m\u001B[43m,\u001B[49m\u001B[43m \u001B[49m\u001B[38;5;241;43m0\u001B[39;49m\u001B[43m]\u001B[49m\u001B[43m,\u001B[49m\u001B[43m \u001B[49m\u001B[38;5;241;43m50\u001B[39;49m\u001B[43m)\u001B[49m\n\u001B[1;32m      2\u001B[0m system\u001B[38;5;241m.\u001B[39mcalc_error(x, x_pred)\n",
      "File \u001B[0;32m~/Documents/GitHub/DynaDojo/dynadojo/baselines/aug_ode.py:46\u001B[0m, in \u001B[0;36mAugODE.predict\u001B[0;34m(self, x0, timesteps)\u001B[0m\n\u001B[1;32m     44\u001B[0m t \u001B[38;5;241m=\u001B[39m torch\u001B[38;5;241m.\u001B[39mlinspace(\u001B[38;5;241m0.0\u001B[39m, timesteps, timesteps)\n\u001B[1;32m     45\u001B[0m \u001B[38;5;66;03m# return odeint(self, x0, t).detach().numpy()\u001B[39;00m\n\u001B[0;32m---> 46\u001B[0m \u001B[38;5;28;01mreturn\u001B[39;00m \u001B[43modeint\u001B[49m\u001B[43m(\u001B[49m\u001B[43mx0\u001B[49m\u001B[43m,\u001B[49m\u001B[43m \u001B[49m\u001B[43mt\u001B[49m\u001B[43m)\u001B[49m\u001B[38;5;241m.\u001B[39mdetach()\u001B[38;5;241m.\u001B[39mnumpy()\n",
      "\u001B[0;31mTypeError\u001B[0m: odeint() missing 1 required positional argument: 't'"
     ]
    }
   ],
   "source": [
    "x_pred = model.predict(x[:, 0], 50)\n",
    "system.calc_error(x, x_pred)"
   ]
  }
 ],
 "metadata": {
  "kernelspec": {
   "display_name": "Python 3",
   "language": "python",
   "name": "python3"
  },
  "language_info": {
   "codemirror_mode": {
    "name": "ipython",
    "version": 3
   },
   "file_extension": ".py",
   "mimetype": "text/x-python",
   "name": "python",
   "nbconvert_exporter": "python",
   "pygments_lexer": "ipython3",
   "version": "3.7.3"
  }
 },
 "nbformat": 4,
 "nbformat_minor": 1
}
