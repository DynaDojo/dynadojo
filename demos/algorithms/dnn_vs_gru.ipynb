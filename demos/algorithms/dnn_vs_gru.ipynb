{
 "cells": [
  {
   "cell_type": "code",
   "execution_count": 1,
   "id": "initial_id",
   "metadata": {
    "ExecuteTime": {
     "end_time": "2023-08-21T18:48:14.236478Z",
     "start_time": "2023-08-21T18:48:14.098840Z"
    },
    "collapsed": true
   },
   "outputs": [],
   "source": [
    "%load_ext autoreload\n",
    "%autoreload 2"
   ]
  },
  {
   "cell_type": "code",
   "execution_count": 2,
   "id": "642cb756de868a5f",
   "metadata": {
    "ExecuteTime": {
     "end_time": "2023-08-21T18:53:41.412867Z",
     "start_time": "2023-08-21T18:53:41.264637Z"
    },
    "collapsed": false
   },
   "outputs": [
    {
     "ename": "ModuleNotFoundError",
     "evalue": "No module named 'dynadojo.baselines.gru_rnn'",
     "output_type": "error",
     "traceback": [
      "\u001b[0;31m---------------------------------------------------------------------------\u001b[0m",
      "\u001b[0;31mModuleNotFoundError\u001b[0m                       Traceback (most recent call last)",
      "Cell \u001b[0;32mIn[2], line 4\u001b[0m\n\u001b[1;32m      2\u001b[0m \u001b[38;5;28;01mfrom\u001b[39;00m \u001b[38;5;21;01mdynadojo\u001b[39;00m\u001b[38;5;21;01m.\u001b[39;00m\u001b[38;5;21;01mbaselines\u001b[39;00m\u001b[38;5;21;01m.\u001b[39;00m\u001b[38;5;21;01mlr\u001b[39;00m \u001b[38;5;28;01mimport\u001b[39;00m LinearRegression\n\u001b[1;32m      3\u001b[0m \u001b[38;5;28;01mfrom\u001b[39;00m \u001b[38;5;21;01mdynadojo\u001b[39;00m\u001b[38;5;21;01m.\u001b[39;00m\u001b[38;5;21;01mbaselines\u001b[39;00m\u001b[38;5;21;01m.\u001b[39;00m\u001b[38;5;21;01mdnn\u001b[39;00m \u001b[38;5;28;01mimport\u001b[39;00m DNN\n\u001b[0;32m----> 4\u001b[0m \u001b[38;5;28;01mfrom\u001b[39;00m \u001b[38;5;21;01mdynadojo\u001b[39;00m\u001b[38;5;21;01m.\u001b[39;00m\u001b[38;5;21;01mbaselines\u001b[39;00m\u001b[38;5;21;01m.\u001b[39;00m\u001b[38;5;21;01mgru_rnn\u001b[39;00m \u001b[38;5;28;01mimport\u001b[39;00m GRU_RNN\n\u001b[1;32m      5\u001b[0m \u001b[38;5;28;01mfrom\u001b[39;00m \u001b[38;5;21;01mdynadojo\u001b[39;00m\u001b[38;5;21;01m.\u001b[39;00m\u001b[38;5;21;01mchallenges\u001b[39;00m \u001b[38;5;28;01mimport\u001b[39;00m FixedComplexity\n\u001b[1;32m      6\u001b[0m \u001b[38;5;28;01mimport\u001b[39;00m \u001b[38;5;21;01mpandas\u001b[39;00m \u001b[38;5;28;01mas\u001b[39;00m \u001b[38;5;21;01mpd\u001b[39;00m\n",
      "\u001b[0;31mModuleNotFoundError\u001b[0m: No module named 'dynadojo.baselines.gru_rnn'"
     ]
    }
   ],
   "source": [
    "from dynadojo.systems.lds import LDSystem\n",
    "from dynadojo.baselines.lr import LinearRegression\n",
    "from dynadojo.baselines.dnn import DNN\n",
    "from dynadojo.baselines.gru_rnn import GRU_RNN\n",
    "from dynadojo.challenges import FixedDimensionality\n",
    "import pandas as pd"
   ]
  },
  {
   "cell_type": "code",
   "execution_count": 3,
   "id": "5de468b689a386cc",
   "metadata": {
    "ExecuteTime": {
     "end_time": "2023-08-21T18:58:00.587341Z",
     "start_time": "2023-08-21T18:54:54.952458Z"
    },
    "collapsed": false
   },
   "outputs": [
    {
     "ename": "NameError",
     "evalue": "name 'FixedComplexity' is not defined",
     "output_type": "error",
     "traceback": [
      "\u001b[0;31m---------------------------------------------------------------------------\u001b[0m",
      "\u001b[0;31mNameError\u001b[0m                                 Traceback (most recent call last)",
      "Cell \u001b[0;32mIn[3], line 1\u001b[0m\n\u001b[0;32m----> 1\u001b[0m challenge \u001b[38;5;241m=\u001b[39m \u001b[43mFixedComplexity\u001b[49m(\n\u001b[1;32m      2\u001b[0m     N\u001b[38;5;241m=\u001b[39m[\u001b[38;5;241m10\u001b[39m, \u001b[38;5;241m50\u001b[39m, \u001b[38;5;241m100\u001b[39m, \u001b[38;5;241m500\u001b[39m, \u001b[38;5;241m1000\u001b[39m],\n\u001b[1;32m      3\u001b[0m     l\u001b[38;5;241m=\u001b[39m\u001b[38;5;241m5\u001b[39m,\n\u001b[1;32m      4\u001b[0m     e\u001b[38;5;241m=\u001b[39m\u001b[38;5;241m5\u001b[39m,\n\u001b[1;32m      5\u001b[0m     t\u001b[38;5;241m=\u001b[39m\u001b[38;5;241m50\u001b[39m,\n\u001b[1;32m      6\u001b[0m     control_horizons\u001b[38;5;241m=\u001b[39m\u001b[38;5;241m0\u001b[39m,\n\u001b[1;32m      7\u001b[0m     max_control_cost_per_dim\u001b[38;5;241m=\u001b[39m\u001b[38;5;241m0\u001b[39m,\n\u001b[1;32m      8\u001b[0m     system_cls\u001b[38;5;241m=\u001b[39mLDSystem,\n\u001b[1;32m      9\u001b[0m     trials\u001b[38;5;241m=\u001b[39m\u001b[38;5;241m10\u001b[39m,\n\u001b[1;32m     10\u001b[0m     test_examples\u001b[38;5;241m=\u001b[39m\u001b[38;5;241m50\u001b[39m,\n\u001b[1;32m     11\u001b[0m     test_timesteps\u001b[38;5;241m=\u001b[39m\u001b[38;5;241m50\u001b[39m,\n\u001b[1;32m     12\u001b[0m )\n\u001b[1;32m     13\u001b[0m data1 \u001b[38;5;241m=\u001b[39m challenge\u001b[38;5;241m.\u001b[39mevaluate(DNN, \u001b[38;5;28mid\u001b[39m\u001b[38;5;241m=\u001b[39m\u001b[38;5;124m\"\u001b[39m\u001b[38;5;124mlinear regression\u001b[39m\u001b[38;5;124m\"\u001b[39m)\n\u001b[1;32m     14\u001b[0m \u001b[38;5;66;03m#data2 = challenge.evaluate(DNN, algo_kwargs={\"activation\": \"relu\"}, fit_kwargs={\"epochs\": 20}, id=\"nonlinear network\")\u001b[39;00m\n\u001b[1;32m     15\u001b[0m \u001b[38;5;66;03m#data3 = challenge.evaluate(DNN, fit_kwargs={\"epochs\": 20}, id=\"linear network\")\u001b[39;00m\n",
      "\u001b[0;31mNameError\u001b[0m: name 'FixedComplexity' is not defined"
     ]
    }
   ],
   "source": [
    "challenge = FixedDimensionality(\n",
    "    N=[10, 50, 100, 500, 1000],\n",
    "    l=5,\n",
    "    e=5,\n",
    "    t=50,\n",
    "    control_horizons=0,\n",
    "    max_control_cost_per_dim=0,\n",
    "    system_cls=LDSystem,\n",
    "    trials=10,\n",
    "    test_examples=50,\n",
    "    test_timesteps=50,\n",
    ")\n",
    "data1 = challenge.evaluate(DNN, id=\"linear regression\")\n",
    "#data2 = challenge.evaluate(DNN, algo_kwargs={\"activation\": \"relu\"}, fit_kwargs={\"epochs\": 20}, id=\"nonlinear network\")\n",
    "#data3 = challenge.evaluate(DNN, fit_kwargs={\"epochs\": 20}, id=\"linear network\")\n",
    "data4 = challenge.evaluate(GRU_RNN, fit_kwargs={\"epochs\": 20}, id=\"GRU RNN\")"
   ]
  },
  {
   "cell_type": "code",
   "execution_count": 6,
   "id": "4ff94c4e94506a3e",
   "metadata": {
    "ExecuteTime": {
     "end_time": "2023-08-21T18:59:25.803111Z",
     "start_time": "2023-08-21T18:59:25.636835Z"
    },
    "collapsed": false
   },
   "outputs": [
    {
     "data": {
      "text/html": [
       "<div>\n",
       "<style scoped>\n",
       "    .dataframe tbody tr th:only-of-type {\n",
       "        vertical-align: middle;\n",
       "    }\n",
       "\n",
       "    .dataframe tbody tr th {\n",
       "        vertical-align: top;\n",
       "    }\n",
       "\n",
       "    .dataframe thead th {\n",
       "        text-align: right;\n",
       "    }\n",
       "</style>\n",
       "<table border=\"1\" class=\"dataframe\">\n",
       "  <thead>\n",
       "    <tr style=\"text-align: right;\">\n",
       "      <th></th>\n",
       "      <th>job_id</th>\n",
       "      <th>trial</th>\n",
       "      <th>latent_dim</th>\n",
       "      <th>embed_dim</th>\n",
       "      <th>timesteps</th>\n",
       "      <th>n</th>\n",
       "      <th>error</th>\n",
       "      <th>ood_error</th>\n",
       "      <th>total_cost</th>\n",
       "      <th>duration</th>\n",
       "      <th>system_seed</th>\n",
       "      <th>algo_seed</th>\n",
       "      <th>id</th>\n",
       "    </tr>\n",
       "  </thead>\n",
       "  <tbody>\n",
       "    <tr>\n",
       "      <th>0</th>\n",
       "      <td>0</td>\n",
       "      <td>1</td>\n",
       "      <td>5</td>\n",
       "      <td>5</td>\n",
       "      <td>50</td>\n",
       "      <td>10</td>\n",
       "      <td>1.841666e-07</td>\n",
       "      <td>None</td>\n",
       "      <td>0</td>\n",
       "      <td>0.000836</td>\n",
       "      <td>3357243988</td>\n",
       "      <td>285987739</td>\n",
       "      <td>linear regression</td>\n",
       "    </tr>\n",
       "    <tr>\n",
       "      <th>1</th>\n",
       "      <td>0</td>\n",
       "      <td>1</td>\n",
       "      <td>5</td>\n",
       "      <td>5</td>\n",
       "      <td>50</td>\n",
       "      <td>50</td>\n",
       "      <td>3.295941e-08</td>\n",
       "      <td>None</td>\n",
       "      <td>0</td>\n",
       "      <td>0.000781</td>\n",
       "      <td>3357243988</td>\n",
       "      <td>285987739</td>\n",
       "      <td>linear regression</td>\n",
       "    </tr>\n",
       "    <tr>\n",
       "      <th>2</th>\n",
       "      <td>0</td>\n",
       "      <td>1</td>\n",
       "      <td>5</td>\n",
       "      <td>5</td>\n",
       "      <td>50</td>\n",
       "      <td>100</td>\n",
       "      <td>3.899479e-08</td>\n",
       "      <td>None</td>\n",
       "      <td>0</td>\n",
       "      <td>0.001156</td>\n",
       "      <td>3357243988</td>\n",
       "      <td>285987739</td>\n",
       "      <td>linear regression</td>\n",
       "    </tr>\n",
       "    <tr>\n",
       "      <th>3</th>\n",
       "      <td>0</td>\n",
       "      <td>1</td>\n",
       "      <td>5</td>\n",
       "      <td>5</td>\n",
       "      <td>50</td>\n",
       "      <td>500</td>\n",
       "      <td>2.751017e-08</td>\n",
       "      <td>None</td>\n",
       "      <td>0</td>\n",
       "      <td>0.003814</td>\n",
       "      <td>3357243988</td>\n",
       "      <td>285987739</td>\n",
       "      <td>linear regression</td>\n",
       "    </tr>\n",
       "    <tr>\n",
       "      <th>4</th>\n",
       "      <td>0</td>\n",
       "      <td>1</td>\n",
       "      <td>5</td>\n",
       "      <td>5</td>\n",
       "      <td>50</td>\n",
       "      <td>1000</td>\n",
       "      <td>2.700969e-08</td>\n",
       "      <td>None</td>\n",
       "      <td>0</td>\n",
       "      <td>0.007574</td>\n",
       "      <td>3357243988</td>\n",
       "      <td>285987739</td>\n",
       "      <td>linear regression</td>\n",
       "    </tr>\n",
       "  </tbody>\n",
       "</table>\n",
       "</div>"
      ],
      "text/plain": [
       "   job_id  trial  latent_dim  embed_dim  timesteps     n         error  \\\n",
       "0       0      1           5          5         50    10  1.841666e-07   \n",
       "1       0      1           5          5         50    50  3.295941e-08   \n",
       "2       0      1           5          5         50   100  3.899479e-08   \n",
       "3       0      1           5          5         50   500  2.751017e-08   \n",
       "4       0      1           5          5         50  1000  2.700969e-08   \n",
       "\n",
       "  ood_error  total_cost  duration  system_seed  algo_seed                 id  \n",
       "0      None           0  0.000836   3357243988  285987739  linear regression  \n",
       "1      None           0  0.000781   3357243988  285987739  linear regression  \n",
       "2      None           0  0.001156   3357243988  285987739  linear regression  \n",
       "3      None           0  0.003814   3357243988  285987739  linear regression  \n",
       "4      None           0  0.007574   3357243988  285987739  linear regression  "
      ]
     },
     "execution_count": 6,
     "metadata": {},
     "output_type": "execute_result"
    }
   ],
   "source": [
    "data = pd.concat((data1, data4)) #data2, data3))\n",
    "data.head()"
   ]
  },
  {
   "cell_type": "code",
   "execution_count": 7,
   "id": "8e582990db06ee8",
   "metadata": {
    "ExecuteTime": {
     "end_time": "2023-08-21T18:59:31.055214Z",
     "start_time": "2023-08-21T18:59:30.389089Z"
    },
    "collapsed": false
   },
   "outputs": [
    {
     "data": {
      "image/png": "[encoded data removed]",
      "text/plain": [
       "<Figure size 640x480 with 1 Axes>"
      ]
     },
     "metadata": {},
     "output_type": "display_data"
    },
    {
     "data": {
      "text/plain": [
       "<Axes: title={'center': 'Fixed Complexity, latent=5'}, xlabel='$n$', ylabel='$\\\\mathcal{E}$'>"
      ]
     },
     "execution_count": 7,
     "metadata": {},
     "output_type": "execute_result"
    }
   ],
   "source": [
    "challenge.plot(data)"
   ]
  },
  {
   "cell_type": "code",
   "execution_count": null,
   "metadata": {},
   "outputs": [],
   "source": []
  }
 ],
 "metadata": {
  "kernelspec": {
   "display_name": "Python 3",
   "language": "python",
   "name": "python3"
  },
  "language_info": {
   "codemirror_mode": {
    "name": "ipython",
    "version": 3
   },
   "file_extension": ".py",
   "mimetype": "text/x-python",
   "name": "python",
   "nbconvert_exporter": "python",
   "pygments_lexer": "ipython3",
   "version": "3.10.11"
  }
 },
 "nbformat": 4,
 "nbformat_minor": 5
}
