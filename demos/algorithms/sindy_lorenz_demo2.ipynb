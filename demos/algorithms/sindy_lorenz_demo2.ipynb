{
 "cells": [
  {
   "cell_type": "code",
   "execution_count": 1,
   "id": "initial_id",
   "metadata": {
    "ExecuteTime": {
     "end_time": "2023-08-22T20:44:29.847318Z",
     "start_time": "2023-08-22T20:44:29.815111Z"
    },
    "collapsed": true
   },
   "outputs": [],
   "source": [
    "%load_ext autoreload\n",
    "%autoreload 2"
   ]
  },
  {
   "cell_type": "code",
   "execution_count": 2,
   "id": "a9742bb979b0cad5",
   "metadata": {
    "ExecuteTime": {
     "end_time": "2023-08-22T21:07:35.619215Z",
     "start_time": "2023-08-22T21:07:35.417226Z"
    },
    "collapsed": false
   },
   "outputs": [],
   "source": [
    "# NOTE: this is now out of date!!!\n",
    "\n",
    "from dynadojo.baselines.sindy import SINDy\n",
    "from dynadojo.systems.lds import LDSystem\n",
    "from dynadojo.systems.lorenz import LorenzSystem\n",
    "from dynadojo.challenges import FixedComplexity\n",
    "\n",
    "import pysindy as ps"
   ]
  },
  {
   "cell_type": "code",
   "execution_count": 4,
   "id": "d9cb03ad71e8edea",
   "metadata": {
    "ExecuteTime": {
     "end_time": "2023-08-22T21:06:36.014917Z",
     "start_time": "2023-08-22T21:06:35.845841Z"
    },
    "collapsed": false
   },
   "outputs": [],
   "source": [
    "timesteps = 10\n",
    "# challenge = FixedComplexity(N=[1, 50, 500], l=3, e=None, t=timesteps, trials=1, control_horizons=0, max_control_cost_per_dim=0, test_examples=10, test_timesteps=50, system_cls=LorenzSystem, system_kwargs={\"noise_scale\": 0.01})\n",
    "challenge = FixedComplexity(N=[20, 100, 1000], l=2, e=None,\n",
    "    t=timesteps, trials=2, control_horizons=0, \n",
    "    max_control_cost_per_dim=0, test_examples=2, \n",
    "    test_timesteps=2, system_cls=LDSystem)"
   ]
  },
  {
   "cell_type": "code",
   "execution_count": 5,
   "id": "b762e413ed60bc55",
   "metadata": {
    "ExecuteTime": {
     "end_time": "2023-08-22T21:07:08.447410Z",
     "start_time": "2023-08-22T21:06:55.223399Z"
    },
    "collapsed": false
   },
   "outputs": [
    {
     "name": "stderr",
     "output_type": "stream",
     "text": [
      "WARNING:root:Running systems in parallel. num_parallel_cpu=-1\n"
     ]
    },
    {
     "data": {
      "text/html": [
       "<div>\n",
       "<style scoped>\n",
       "    .dataframe tbody tr th:only-of-type {\n",
       "        vertical-align: middle;\n",
       "    }\n",
       "\n",
       "    .dataframe tbody tr th {\n",
       "        vertical-align: top;\n",
       "    }\n",
       "\n",
       "    .dataframe thead th {\n",
       "        text-align: right;\n",
       "    }\n",
       "</style>\n",
       "<table border=\"1\" class=\"dataframe\">\n",
       "  <thead>\n",
       "    <tr style=\"text-align: right;\">\n",
       "      <th></th>\n",
       "      <th>job_id</th>\n",
       "      <th>trial</th>\n",
       "      <th>latent_dim</th>\n",
       "      <th>embed_dim</th>\n",
       "      <th>timesteps</th>\n",
       "      <th>n</th>\n",
       "      <th>error</th>\n",
       "      <th>ood_error</th>\n",
       "      <th>total_cost</th>\n",
       "      <th>duration</th>\n",
       "      <th>system_seed</th>\n",
       "      <th>algo_seed</th>\n",
       "      <th>id</th>\n",
       "    </tr>\n",
       "  </thead>\n",
       "  <tbody>\n",
       "    <tr>\n",
       "      <th>0</th>\n",
       "      <td>0</td>\n",
       "      <td>1</td>\n",
       "      <td>2</td>\n",
       "      <td>2</td>\n",
       "      <td>10</td>\n",
       "      <td>20</td>\n",
       "      <td>0.000020</td>\n",
       "      <td>None</td>\n",
       "      <td>0</td>\n",
       "      <td>0.047971</td>\n",
       "      <td>3293744024</td>\n",
       "      <td>533341188</td>\n",
       "      <td>sindy</td>\n",
       "    </tr>\n",
       "    <tr>\n",
       "      <th>1</th>\n",
       "      <td>0</td>\n",
       "      <td>1</td>\n",
       "      <td>2</td>\n",
       "      <td>2</td>\n",
       "      <td>10</td>\n",
       "      <td>100</td>\n",
       "      <td>0.000019</td>\n",
       "      <td>None</td>\n",
       "      <td>0</td>\n",
       "      <td>0.071537</td>\n",
       "      <td>3293744024</td>\n",
       "      <td>533341188</td>\n",
       "      <td>sindy</td>\n",
       "    </tr>\n",
       "    <tr>\n",
       "      <th>2</th>\n",
       "      <td>0</td>\n",
       "      <td>1</td>\n",
       "      <td>2</td>\n",
       "      <td>2</td>\n",
       "      <td>10</td>\n",
       "      <td>1000</td>\n",
       "      <td>0.000019</td>\n",
       "      <td>None</td>\n",
       "      <td>0</td>\n",
       "      <td>0.339700</td>\n",
       "      <td>3293744024</td>\n",
       "      <td>533341188</td>\n",
       "      <td>sindy</td>\n",
       "    </tr>\n",
       "    <tr>\n",
       "      <th>0</th>\n",
       "      <td>1</td>\n",
       "      <td>2</td>\n",
       "      <td>2</td>\n",
       "      <td>2</td>\n",
       "      <td>10</td>\n",
       "      <td>20</td>\n",
       "      <td>0.004057</td>\n",
       "      <td>None</td>\n",
       "      <td>0</td>\n",
       "      <td>0.038663</td>\n",
       "      <td>3586218795</td>\n",
       "      <td>2562180036</td>\n",
       "      <td>sindy</td>\n",
       "    </tr>\n",
       "    <tr>\n",
       "      <th>1</th>\n",
       "      <td>1</td>\n",
       "      <td>2</td>\n",
       "      <td>2</td>\n",
       "      <td>2</td>\n",
       "      <td>10</td>\n",
       "      <td>100</td>\n",
       "      <td>0.004089</td>\n",
       "      <td>None</td>\n",
       "      <td>0</td>\n",
       "      <td>0.059198</td>\n",
       "      <td>3586218795</td>\n",
       "      <td>2562180036</td>\n",
       "      <td>sindy</td>\n",
       "    </tr>\n",
       "  </tbody>\n",
       "</table>\n",
       "</div>"
      ],
      "text/plain": [
       "   job_id  trial  latent_dim  embed_dim  timesteps     n     error ood_error  \\\n",
       "0       0      1           2          2         10    20  0.000020      None   \n",
       "1       0      1           2          2         10   100  0.000019      None   \n",
       "2       0      1           2          2         10  1000  0.000019      None   \n",
       "0       1      2           2          2         10    20  0.004057      None   \n",
       "1       1      2           2          2         10   100  0.004089      None   \n",
       "\n",
       "   total_cost  duration  system_seed   algo_seed     id  \n",
       "0           0  0.047971   3293744024   533341188  sindy  \n",
       "1           0  0.071537   3293744024   533341188  sindy  \n",
       "2           0  0.339700   3293744024   533341188  sindy  \n",
       "0           0  0.038663   3586218795  2562180036  sindy  \n",
       "1           0  0.059198   3586218795  2562180036  sindy  "
      ]
     },
     "execution_count": 5,
     "metadata": {},
     "output_type": "execute_result"
    }
   ],
   "source": [
    "results = challenge.evaluate(SINDy,\n",
    "    seed=100,\n",
    "    noisy=True, \n",
    "    num_parallel_cpu = -1,\n",
    "    id=\"sindy\")\n",
    "results.head()"
   ]
  },
  {
   "cell_type": "markdown",
   "id": "9f97cabb",
   "metadata": {},
   "source": [
    "# Other Differentiation Methods"
   ]
  },
  {
   "cell_type": "code",
   "execution_count": 6,
   "id": "3a8c8cbc7bb0bc7a",
   "metadata": {
    "ExecuteTime": {
     "end_time": "2023-08-22T21:07:08.447410Z",
     "start_time": "2023-08-22T21:06:55.223399Z"
    },
    "collapsed": false
   },
   "outputs": [
    {
     "ename": "TypeError",
     "evalue": "ScalingChallenge.evaluate() got an unexpected keyword argument 'model_kwargs'",
     "output_type": "error",
     "traceback": [
      "\u001b[0;31m---------------------------------------------------------------------------\u001b[0m",
      "\u001b[0;31mTypeError\u001b[0m                                 Traceback (most recent call last)",
      "Cell \u001b[0;32mIn[6], line 2\u001b[0m\n\u001b[1;32m      1\u001b[0m \u001b[38;5;66;03m# Very sensitive to the smoothing parameters\u001b[39;00m\n\u001b[0;32m----> 2\u001b[0m smoothed_fd \u001b[38;5;241m=\u001b[39m \u001b[43mchallenge\u001b[49m\u001b[38;5;241;43m.\u001b[39;49m\u001b[43mevaluate\u001b[49m\u001b[43m(\u001b[49m\u001b[43mSINDy\u001b[49m\u001b[43m,\u001b[49m\u001b[43m \u001b[49m\n\u001b[1;32m      3\u001b[0m \u001b[43m    \u001b[49m\u001b[43mmodel_kwargs\u001b[49m\u001b[38;5;241;43m=\u001b[39;49m\u001b[43m{\u001b[49m\u001b[38;5;124;43m\"\u001b[39;49m\u001b[38;5;124;43mdifferentiation_method\u001b[39;49m\u001b[38;5;124;43m\"\u001b[39;49m\u001b[43m:\u001b[49m\u001b[43m \u001b[49m\u001b[43mps\u001b[49m\u001b[38;5;241;43m.\u001b[39;49m\u001b[43mSmoothedFiniteDifference\u001b[49m\u001b[43m(\u001b[49m\n\u001b[1;32m      4\u001b[0m \u001b[43m        \u001b[49m\u001b[43msmoother_kws\u001b[49m\u001b[38;5;241;43m=\u001b[39;49m\u001b[43m{\u001b[49m\u001b[43m \u001b[49m\n\u001b[1;32m      5\u001b[0m \u001b[43m            \u001b[49m\u001b[38;5;124;43m'\u001b[39;49m\u001b[38;5;124;43mwindow_length\u001b[39;49m\u001b[38;5;124;43m'\u001b[39;49m\u001b[43m:\u001b[49m\u001b[43m \u001b[49m\u001b[43mtimesteps\u001b[49m\u001b[38;5;241;43m/\u001b[39;49m\u001b[38;5;241;43m/\u001b[39;49m\u001b[38;5;241;43m2\u001b[39;49m\u001b[43m,\u001b[49m\n\u001b[1;32m      6\u001b[0m \u001b[43m            \u001b[49m\u001b[38;5;124;43m'\u001b[39;49m\u001b[38;5;124;43mpolyorder\u001b[39;49m\u001b[38;5;124;43m'\u001b[39;49m\u001b[43m:\u001b[49m\u001b[43m \u001b[49m\u001b[43mtimesteps\u001b[49m\u001b[38;5;241;43m/\u001b[39;49m\u001b[38;5;241;43m/\u001b[39;49m\u001b[38;5;241;43m4\u001b[39;49m\n\u001b[1;32m      7\u001b[0m \u001b[43m        \u001b[49m\u001b[43m}\u001b[49m\u001b[43m)\u001b[49m\u001b[43m}\u001b[49m\u001b[43m,\u001b[49m\u001b[43m \u001b[49m\n\u001b[1;32m      8\u001b[0m \u001b[43m    \u001b[49m\u001b[43mnoisy\u001b[49m\u001b[38;5;241;43m=\u001b[39;49m\u001b[38;5;28;43;01mTrue\u001b[39;49;00m\u001b[43m,\u001b[49m\u001b[43m \u001b[49m\u001b[38;5;28;43mid\u001b[39;49m\u001b[38;5;241;43m=\u001b[39;49m\u001b[38;5;124;43m\"\u001b[39;49m\u001b[38;5;124;43msmoothed finite diff\u001b[39;49m\u001b[38;5;124;43m\"\u001b[39;49m\u001b[43m)\u001b[49m\n\u001b[1;32m      9\u001b[0m smoothed_fd\u001b[38;5;241m.\u001b[39mhead()\n",
      "\u001b[0;31mTypeError\u001b[0m: ScalingChallenge.evaluate() got an unexpected keyword argument 'model_kwargs'"
     ]
    }
   ],
   "source": [
    "# Very sensitive to the smoothing parameters\n",
    "smoothed_fd = challenge.evaluate(SINDy, \n",
    "    model_kwargs={\"differentiation_method\": ps.SmoothedFiniteDifference(\n",
    "        smoother_kws={ \n",
    "            'window_length': timesteps//2,\n",
    "            'polyorder': timesteps//4\n",
    "        })}, \n",
    "    noisy=True, id=\"smoothed finite diff\")\n",
    "smoothed_fd.head()"
   ]
  },
  {
   "cell_type": "code",
   "execution_count": 70,
   "id": "89b7a2c16459024c",
   "metadata": {
    "ExecuteTime": {
     "end_time": "2023-08-22T20:56:53.962672Z",
     "start_time": "2023-08-22T20:56:40.060020Z"
    },
    "collapsed": false
   },
   "outputs": [
    {
     "name": "stdout",
     "output_type": "stream",
     "text": [
      "rep_id=0, latent_dim=2, embed_dim=2, n=5, t=50, control_h=0, total_cost=0, error=1.46e-05, ood_error=NA,model_seed=478491815, sys_seed=4285026285\n",
      "rep_id=0, latent_dim=2, embed_dim=2, n=10, t=50, control_h=0, total_cost=0, error=1.8e-05, ood_error=NA,model_seed=478491815, sys_seed=4285026285\n",
      "rep_id=0, latent_dim=2, embed_dim=2, n=50, t=50, control_h=0, total_cost=0, error=1.75e-05, ood_error=NA,model_seed=478491815, sys_seed=4285026285\n"
     ]
    },
    {
     "data": {
      "text/html": [
       "<div>\n",
       "<style scoped>\n",
       "    .dataframe tbody tr th:only-of-type {\n",
       "        vertical-align: middle;\n",
       "    }\n",
       "\n",
       "    .dataframe tbody tr th {\n",
       "        vertical-align: top;\n",
       "    }\n",
       "\n",
       "    .dataframe thead th {\n",
       "        text-align: right;\n",
       "    }\n",
       "</style>\n",
       "<table border=\"1\" class=\"dataframe\">\n",
       "  <thead>\n",
       "    <tr style=\"text-align: right;\">\n",
       "      <th></th>\n",
       "      <th>rep</th>\n",
       "      <th>latent_dim</th>\n",
       "      <th>embed_dim</th>\n",
       "      <th>timesteps</th>\n",
       "      <th>n</th>\n",
       "      <th>error</th>\n",
       "      <th>ood_error</th>\n",
       "      <th>total_cost</th>\n",
       "      <th>duration</th>\n",
       "      <th>system_seed</th>\n",
       "      <th>model_seed</th>\n",
       "      <th>id</th>\n",
       "      <th>control_horizon</th>\n",
       "    </tr>\n",
       "  </thead>\n",
       "  <tbody>\n",
       "    <tr>\n",
       "      <th>0</th>\n",
       "      <td>0</td>\n",
       "      <td>2</td>\n",
       "      <td>2</td>\n",
       "      <td>50</td>\n",
       "      <td>5</td>\n",
       "      <td>0.000015</td>\n",
       "      <td>None</td>\n",
       "      <td>0</td>\n",
       "      <td>0.244657</td>\n",
       "      <td>4285026285</td>\n",
       "      <td>478491815</td>\n",
       "      <td>finite diff</td>\n",
       "      <td>0</td>\n",
       "    </tr>\n",
       "    <tr>\n",
       "      <th>1</th>\n",
       "      <td>0</td>\n",
       "      <td>2</td>\n",
       "      <td>2</td>\n",
       "      <td>50</td>\n",
       "      <td>10</td>\n",
       "      <td>0.000018</td>\n",
       "      <td>None</td>\n",
       "      <td>0</td>\n",
       "      <td>0.242584</td>\n",
       "      <td>4285026285</td>\n",
       "      <td>478491815</td>\n",
       "      <td>finite diff</td>\n",
       "      <td>0</td>\n",
       "    </tr>\n",
       "    <tr>\n",
       "      <th>2</th>\n",
       "      <td>0</td>\n",
       "      <td>2</td>\n",
       "      <td>2</td>\n",
       "      <td>50</td>\n",
       "      <td>50</td>\n",
       "      <td>0.000017</td>\n",
       "      <td>None</td>\n",
       "      <td>0</td>\n",
       "      <td>0.250348</td>\n",
       "      <td>4285026285</td>\n",
       "      <td>478491815</td>\n",
       "      <td>finite diff</td>\n",
       "      <td>0</td>\n",
       "    </tr>\n",
       "  </tbody>\n",
       "</table>\n",
       "</div>"
      ],
      "text/plain": [
       "   rep  latent_dim  embed_dim  timesteps   n     error ood_error  total_cost  \\\n",
       "0    0           2          2         50   5  0.000015      None           0   \n",
       "1    0           2          2         50  10  0.000018      None           0   \n",
       "2    0           2          2         50  50  0.000017      None           0   \n",
       "\n",
       "   duration  system_seed  model_seed           id  control_horizon  \n",
       "0  0.244657   4285026285   478491815  finite diff                0  \n",
       "1  0.242584   4285026285   478491815  finite diff                0  \n",
       "2  0.250348   4285026285   478491815  finite diff                0  "
      ]
     },
     "execution_count": 70,
     "metadata": {},
     "output_type": "execute_result"
    }
   ],
   "source": [
    "fd = challenge.evaluate(SINDy, model_kwargs={\"differentiation_method\": ps.FiniteDifference()}, noisy=True, id=\"finite diff\")\n",
    "fd.head()"
   ]
  },
  {
   "cell_type": "code",
   "execution_count": 71,
   "id": "edf7b4419735aef5",
   "metadata": {
    "ExecuteTime": {
     "end_time": "2023-08-22T20:58:38.216421Z",
     "start_time": "2023-08-22T20:58:24.769388Z"
    },
    "collapsed": false
   },
   "outputs": [
    {
     "name": "stdout",
     "output_type": "stream",
     "text": [
      "rep_id=0, latent_dim=2, embed_dim=2, n=5, t=50, control_h=0, total_cost=0, error=1.52, ood_error=NA,model_seed=4289484824, sys_seed=2442242350\n",
      "rep_id=0, latent_dim=2, embed_dim=2, n=10, t=50, control_h=0, total_cost=0, error=1.79, ood_error=NA,model_seed=4289484824, sys_seed=2442242350\n",
      "rep_id=0, latent_dim=2, embed_dim=2, n=50, t=50, control_h=0, total_cost=0, error=0.0692, ood_error=NA,model_seed=4289484824, sys_seed=2442242350\n"
     ]
    },
    {
     "data": {
      "text/html": [
       "<div>\n",
       "<style scoped>\n",
       "    .dataframe tbody tr th:only-of-type {\n",
       "        vertical-align: middle;\n",
       "    }\n",
       "\n",
       "    .dataframe tbody tr th {\n",
       "        vertical-align: top;\n",
       "    }\n",
       "\n",
       "    .dataframe thead th {\n",
       "        text-align: right;\n",
       "    }\n",
       "</style>\n",
       "<table border=\"1\" class=\"dataframe\">\n",
       "  <thead>\n",
       "    <tr style=\"text-align: right;\">\n",
       "      <th></th>\n",
       "      <th>rep</th>\n",
       "      <th>latent_dim</th>\n",
       "      <th>embed_dim</th>\n",
       "      <th>timesteps</th>\n",
       "      <th>n</th>\n",
       "      <th>error</th>\n",
       "      <th>ood_error</th>\n",
       "      <th>total_cost</th>\n",
       "      <th>duration</th>\n",
       "      <th>system_seed</th>\n",
       "      <th>model_seed</th>\n",
       "      <th>id</th>\n",
       "      <th>control_horizon</th>\n",
       "    </tr>\n",
       "  </thead>\n",
       "  <tbody>\n",
       "    <tr>\n",
       "      <th>0</th>\n",
       "      <td>0</td>\n",
       "      <td>2</td>\n",
       "      <td>2</td>\n",
       "      <td>50</td>\n",
       "      <td>5</td>\n",
       "      <td>1.518529</td>\n",
       "      <td>None</td>\n",
       "      <td>0</td>\n",
       "      <td>0.186346</td>\n",
       "      <td>2442242350</td>\n",
       "      <td>4289484824</td>\n",
       "      <td>trend filtered</td>\n",
       "      <td>0</td>\n",
       "    </tr>\n",
       "    <tr>\n",
       "      <th>1</th>\n",
       "      <td>0</td>\n",
       "      <td>2</td>\n",
       "      <td>2</td>\n",
       "      <td>50</td>\n",
       "      <td>10</td>\n",
       "      <td>1.787316</td>\n",
       "      <td>None</td>\n",
       "      <td>0</td>\n",
       "      <td>0.168418</td>\n",
       "      <td>2442242350</td>\n",
       "      <td>4289484824</td>\n",
       "      <td>trend filtered</td>\n",
       "      <td>0</td>\n",
       "    </tr>\n",
       "    <tr>\n",
       "      <th>2</th>\n",
       "      <td>0</td>\n",
       "      <td>2</td>\n",
       "      <td>2</td>\n",
       "      <td>50</td>\n",
       "      <td>50</td>\n",
       "      <td>0.069229</td>\n",
       "      <td>None</td>\n",
       "      <td>0</td>\n",
       "      <td>0.318911</td>\n",
       "      <td>2442242350</td>\n",
       "      <td>4289484824</td>\n",
       "      <td>trend filtered</td>\n",
       "      <td>0</td>\n",
       "    </tr>\n",
       "  </tbody>\n",
       "</table>\n",
       "</div>"
      ],
      "text/plain": [
       "   rep  latent_dim  embed_dim  timesteps   n     error ood_error  total_cost  \\\n",
       "0    0           2          2         50   5  1.518529      None           0   \n",
       "1    0           2          2         50  10  1.787316      None           0   \n",
       "2    0           2          2         50  50  0.069229      None           0   \n",
       "\n",
       "   duration  system_seed  model_seed              id  control_horizon  \n",
       "0  0.186346   2442242350  4289484824  trend filtered                0  \n",
       "1  0.168418   2442242350  4289484824  trend filtered                0  \n",
       "2  0.318911   2442242350  4289484824  trend filtered                0  "
      ]
     },
     "execution_count": 71,
     "metadata": {},
     "output_type": "execute_result"
    }
   ],
   "source": [
    "tf = challenge.evaluate(SINDy, model_kwargs={\"differentiation_method\": ps.SINDyDerivative(kind='trend_filtered', order=0, alpha=1e-2)}, noisy=True, id=\"trend filtered\")\n",
    "tf.head()"
   ]
  },
  {
   "cell_type": "code",
   "execution_count": 72,
   "id": "71a520bd4e731175",
   "metadata": {
    "ExecuteTime": {
     "end_time": "2023-08-22T20:59:00.406600Z",
     "start_time": "2023-08-22T20:58:46.171574Z"
    },
    "collapsed": false
   },
   "outputs": [
    {
     "name": "stdout",
     "output_type": "stream",
     "text": [
      "rep_id=0, latent_dim=2, embed_dim=2, n=5, t=50, control_h=0, total_cost=0, error=0.0554, ood_error=NA,model_seed=2001965979, sys_seed=2238852262\n",
      "rep_id=0, latent_dim=2, embed_dim=2, n=10, t=50, control_h=0, total_cost=0, error=0.0492, ood_error=NA,model_seed=2001965979, sys_seed=2238852262\n",
      "rep_id=0, latent_dim=2, embed_dim=2, n=50, t=50, control_h=0, total_cost=0, error=0.000511, ood_error=NA,model_seed=2001965979, sys_seed=2238852262\n"
     ]
    },
    {
     "data": {
      "text/html": [
       "<div>\n",
       "<style scoped>\n",
       "    .dataframe tbody tr th:only-of-type {\n",
       "        vertical-align: middle;\n",
       "    }\n",
       "\n",
       "    .dataframe tbody tr th {\n",
       "        vertical-align: top;\n",
       "    }\n",
       "\n",
       "    .dataframe thead th {\n",
       "        text-align: right;\n",
       "    }\n",
       "</style>\n",
       "<table border=\"1\" class=\"dataframe\">\n",
       "  <thead>\n",
       "    <tr style=\"text-align: right;\">\n",
       "      <th></th>\n",
       "      <th>rep</th>\n",
       "      <th>latent_dim</th>\n",
       "      <th>embed_dim</th>\n",
       "      <th>timesteps</th>\n",
       "      <th>n</th>\n",
       "      <th>error</th>\n",
       "      <th>ood_error</th>\n",
       "      <th>total_cost</th>\n",
       "      <th>duration</th>\n",
       "      <th>system_seed</th>\n",
       "      <th>model_seed</th>\n",
       "      <th>id</th>\n",
       "      <th>control_horizon</th>\n",
       "    </tr>\n",
       "  </thead>\n",
       "  <tbody>\n",
       "    <tr>\n",
       "      <th>0</th>\n",
       "      <td>0</td>\n",
       "      <td>2</td>\n",
       "      <td>2</td>\n",
       "      <td>50</td>\n",
       "      <td>5</td>\n",
       "      <td>0.055367</td>\n",
       "      <td>None</td>\n",
       "      <td>0</td>\n",
       "      <td>0.310694</td>\n",
       "      <td>2238852262</td>\n",
       "      <td>2001965979</td>\n",
       "      <td>spline</td>\n",
       "      <td>0</td>\n",
       "    </tr>\n",
       "    <tr>\n",
       "      <th>1</th>\n",
       "      <td>0</td>\n",
       "      <td>2</td>\n",
       "      <td>2</td>\n",
       "      <td>50</td>\n",
       "      <td>10</td>\n",
       "      <td>0.049223</td>\n",
       "      <td>None</td>\n",
       "      <td>0</td>\n",
       "      <td>0.304703</td>\n",
       "      <td>2238852262</td>\n",
       "      <td>2001965979</td>\n",
       "      <td>spline</td>\n",
       "      <td>0</td>\n",
       "    </tr>\n",
       "    <tr>\n",
       "      <th>2</th>\n",
       "      <td>0</td>\n",
       "      <td>2</td>\n",
       "      <td>2</td>\n",
       "      <td>50</td>\n",
       "      <td>50</td>\n",
       "      <td>0.000511</td>\n",
       "      <td>None</td>\n",
       "      <td>0</td>\n",
       "      <td>0.282101</td>\n",
       "      <td>2238852262</td>\n",
       "      <td>2001965979</td>\n",
       "      <td>spline</td>\n",
       "      <td>0</td>\n",
       "    </tr>\n",
       "  </tbody>\n",
       "</table>\n",
       "</div>"
      ],
      "text/plain": [
       "   rep  latent_dim  embed_dim  timesteps   n     error ood_error  total_cost  \\\n",
       "0    0           2          2         50   5  0.055367      None           0   \n",
       "1    0           2          2         50  10  0.049223      None           0   \n",
       "2    0           2          2         50  50  0.000511      None           0   \n",
       "\n",
       "   duration  system_seed  model_seed      id  control_horizon  \n",
       "0  0.310694   2238852262  2001965979  spline                0  \n",
       "1  0.304703   2238852262  2001965979  spline                0  \n",
       "2  0.282101   2238852262  2001965979  spline                0  "
      ]
     },
     "execution_count": 72,
     "metadata": {},
     "output_type": "execute_result"
    }
   ],
   "source": [
    "spline = challenge.evaluate(SINDy, model_kwargs={\"differentiation_method\": ps.SINDyDerivative(kind='spline', s=1e-2)}, noisy=True, id=\"spline\")\n",
    "spline.head()"
   ]
  },
  {
   "cell_type": "code",
   "execution_count": null,
   "id": "45820aa4",
   "metadata": {},
   "outputs": [],
   "source": []
  }
 ],
 "metadata": {
  "kernelspec": {
   "display_name": "Python 3.10.13 ('.venv': venv)",
   "language": "python",
   "name": "python3"
  },
  "language_info": {
   "codemirror_mode": {
    "name": "ipython",
    "version": 3
   },
   "file_extension": ".py",
   "mimetype": "text/x-python",
   "name": "python",
   "nbconvert_exporter": "python",
   "pygments_lexer": "ipython3",
   "version": "3.10.14"
  },
  "vscode": {
   "interpreter": {
    "hash": "3773aad5e061e19e4f842f01c74142b10fff2d671cff92ab74be7a021ba49549"
   }
  }
 },
 "nbformat": 4,
 "nbformat_minor": 5
}
