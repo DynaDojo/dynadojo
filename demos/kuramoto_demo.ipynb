{
 "cells": [
  {
   "cell_type": "code",
   "execution_count": 143,
   "metadata": {
    "ExecuteTime": {
     "end_time": "2023-05-17T04:34:09.919531Z",
     "start_time": "2023-05-17T04:34:09.880459Z"
    }
   },
   "outputs": [
    {
     "name": "stdout",
     "output_type": "stream",
     "text": [
      "The autoreload extension is already loaded. To reload it, use:\n",
      "  %reload_ext autoreload\n"
     ]
    }
   ],
   "source": [
    "%load_ext autoreload\n",
    "%autoreload 2"
   ]
  },
  {
   "cell_type": "code",
   "execution_count": 144,
   "metadata": {},
   "outputs": [],
   "source": [
    "import src.dynadojo as dd\n",
    "import numpy as np"
   ]
  },
  {
   "cell_type": "code",
   "execution_count": 145,
   "metadata": {},
   "outputs": [
    {
     "name": "stdout",
     "output_type": "stream",
     "text": [
      "<module 'src.dynadojo' from '/Users/tommybruzzese/Documents/GitHub/DynaDojo/src/dynadojo/__init__.py'>\n"
     ]
    }
   ],
   "source": [
    "print(dd)"
   ]
  },
  {
   "cell_type": "code",
   "execution_count": 161,
   "metadata": {},
   "outputs": [
    {
     "ename": "AttributeError",
     "evalue": "'list' object has no attribute 'shape'",
     "output_type": "error",
     "traceback": [
      "\u001b[0;31m---------------------------------------------------------------------------\u001b[0m",
      "\u001b[0;31mAttributeError\u001b[0m                            Traceback (most recent call last)",
      "\u001b[1;32m/Users/tommybruzzese/Documents/GitHub/DynaDojo/demos/kuramoto_demo.ipynb Cell 4\u001b[0m line \u001b[0;36m1\n\u001b[1;32m      <a href='vscode-notebook-cell:/Users/tommybruzzese/Documents/GitHub/DynaDojo/demos/kuramoto_demo.ipynb#W2sZmlsZQ%3D%3D?line=7'>8</a>\u001b[0m x0 \u001b[39m=\u001b[39m system\u001b[39m.\u001b[39mmake_init_conds(n)\n\u001b[1;32m      <a href='vscode-notebook-cell:/Users/tommybruzzese/Documents/GitHub/DynaDojo/demos/kuramoto_demo.ipynb#W2sZmlsZQ%3D%3D?line=8'>9</a>\u001b[0m y0 \u001b[39m=\u001b[39m system\u001b[39m.\u001b[39mmake_init_conds(n, in_dist\u001b[39m=\u001b[39m\u001b[39mFalse\u001b[39;00m)\n\u001b[0;32m---> <a href='vscode-notebook-cell:/Users/tommybruzzese/Documents/GitHub/DynaDojo/demos/kuramoto_demo.ipynb#W2sZmlsZQ%3D%3D?line=11'>12</a>\u001b[0m x \u001b[39m=\u001b[39m system\u001b[39m.\u001b[39;49mmake_data(x0, timesteps\u001b[39m=\u001b[39;49mtimesteps, control\u001b[39m=\u001b[39;49m[\u001b[39m0\u001b[39;49m, \u001b[39m0\u001b[39;49m, \u001b[39m0\u001b[39;49m, \u001b[39m0\u001b[39;49m])\n\u001b[1;32m     <a href='vscode-notebook-cell:/Users/tommybruzzese/Documents/GitHub/DynaDojo/demos/kuramoto_demo.ipynb#W2sZmlsZQ%3D%3D?line=12'>13</a>\u001b[0m x_noisy \u001b[39m=\u001b[39m system\u001b[39m.\u001b[39mmake_data(x0, timesteps\u001b[39m=\u001b[39mtimesteps, control\u001b[39m=\u001b[39m\u001b[39mNone\u001b[39;00m, noisy\u001b[39m=\u001b[39m\u001b[39mTrue\u001b[39;00m)\n\u001b[1;32m     <a href='vscode-notebook-cell:/Users/tommybruzzese/Documents/GitHub/DynaDojo/demos/kuramoto_demo.ipynb#W2sZmlsZQ%3D%3D?line=13'>14</a>\u001b[0m y \u001b[39m=\u001b[39m system\u001b[39m.\u001b[39mmake_data(y0, timesteps\u001b[39m=\u001b[39mtimesteps, control\u001b[39m=\u001b[39m\u001b[39mNone\u001b[39;00m)\n",
      "File \u001b[0;32m~/Documents/GitHub/DynaDojo/src/dynadojo/abstractions.py:183\u001b[0m, in \u001b[0;36mAbstractSystem.make_data\u001b[0;34m(self, init_conds, control, timesteps, noisy)\u001b[0m\n\u001b[1;32m    181\u001b[0m \u001b[39mif\u001b[39;00m control \u001b[39mis\u001b[39;00m \u001b[39mNone\u001b[39;00m:\n\u001b[1;32m    182\u001b[0m     control \u001b[39m=\u001b[39m np\u001b[39m.\u001b[39mzeros((n, timesteps, \u001b[39mself\u001b[39m\u001b[39m.\u001b[39membed_dim))\n\u001b[0;32m--> 183\u001b[0m \u001b[39massert\u001b[39;00m control\u001b[39m.\u001b[39;49mshape \u001b[39m==\u001b[39m (n, timesteps, \u001b[39mself\u001b[39m\u001b[39m.\u001b[39membed_dim)\n\u001b[1;32m    184\u001b[0m data \u001b[39m=\u001b[39m \u001b[39mself\u001b[39m\u001b[39m.\u001b[39m_make_data(init_conds\u001b[39m=\u001b[39minit_conds,\n\u001b[1;32m    185\u001b[0m                        control\u001b[39m=\u001b[39mcontrol, timesteps\u001b[39m=\u001b[39mtimesteps, noisy\u001b[39m=\u001b[39mnoisy)\n\u001b[1;32m    186\u001b[0m \u001b[39massert\u001b[39;00m data\u001b[39m.\u001b[39mshape \u001b[39m==\u001b[39m (n, timesteps, \u001b[39mself\u001b[39m\u001b[39m.\u001b[39membed_dim)\n",
      "\u001b[0;31mAttributeError\u001b[0m: 'list' object has no attribute 'shape'"
     ]
    }
   ],
   "source": [
    "latent_dim = [4]\n",
    "embed_dim = 4\n",
    "n = 1\n",
    "timesteps = 100\n",
    "for dim in latent_dim:\n",
    "    system = dd.systems.KuramotoSystem(dim, embed_dim)\n",
    "\n",
    "    x0 = system.make_init_conds(n)\n",
    "    y0 = system.make_init_conds(n, in_dist=False)\n",
    "\n",
    "    \n",
    "    x = system.make_data(x0, timesteps=timesteps, control=None)\n",
    "    x_noisy = system.make_data(x0, timesteps=timesteps, control=None, noisy=True)\n",
    "    y = system.make_data(y0, timesteps=timesteps, control=None)\n",
    "\n",
    "    dd.utils.kuramoto.plot([x, x_noisy, y], timesteps, gridlabels=[\"IND\", \"IND-noisy\", \"OOD\"], max_lines=100)"
   ]
  }
 ],
 "metadata": {
  "kernelspec": {
   "display_name": "Python 3 (ipykernel)",
   "language": "python",
   "name": "python3"
  },
  "language_info": {
   "codemirror_mode": {
    "name": "ipython",
    "version": 3
   },
   "file_extension": ".py",
   "mimetype": "text/x-python",
   "name": "python",
   "nbconvert_exporter": "python",
   "pygments_lexer": "ipython3",
   "version": "3.10.10"
  }
 },
 "nbformat": 4,
 "nbformat_minor": 1
}
