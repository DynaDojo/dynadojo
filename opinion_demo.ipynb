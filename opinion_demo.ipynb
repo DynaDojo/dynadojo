{
 "cells": [
  {
   "cell_type": "code",
   "execution_count": 21,
   "metadata": {
    "ExecuteTime": {
     "end_time": "2023-05-17T04:34:09.919531Z",
     "start_time": "2023-05-17T04:34:09.880459Z"
    }
   },
   "outputs": [
    {
     "name": "stdout",
     "output_type": "stream",
     "text": [
      "The autoreload extension is already loaded. To reload it, use:\n",
      "  %reload_ext autoreload\n"
     ]
    }
   ],
   "source": [
    "%load_ext autoreload\n",
    "%autoreload 2\n",
    "%matplotlib inline "
   ]
  },
  {
   "cell_type": "code",
   "execution_count": 22,
   "metadata": {
    "ExecuteTime": {
     "end_time": "2023-05-17T04:34:45.705033Z",
     "start_time": "2023-05-17T04:34:36.001290Z"
    }
   },
   "outputs": [],
   "source": [
    "import dynadojo as dd\n",
    "import numpy as np\n"
   ]
  },
  {
   "cell_type": "code",
   "execution_count": 98,
   "metadata": {},
   "outputs": [
    {
     "ename": "AttributeError",
     "evalue": "module 'ndlib.models.opinions' has no attribute 'AlgorithmicBiasMediaModel'",
     "output_type": "error",
     "traceback": [
      "\u001b[0;31m---------------------------------------------------------------------------\u001b[0m",
      "\u001b[0;31mAttributeError\u001b[0m                            Traceback (most recent call last)",
      "Cell \u001b[0;32mIn[98], line 13\u001b[0m\n\u001b[1;32m     10\u001b[0m x0 \u001b[39m=\u001b[39m system\u001b[39m.\u001b[39mmake_init_conds(n)\n\u001b[1;32m     11\u001b[0m y0 \u001b[39m=\u001b[39m system\u001b[39m.\u001b[39mmake_init_conds(n, in_dist\u001b[39m=\u001b[39m\u001b[39mFalse\u001b[39;00m)\n\u001b[0;32m---> 13\u001b[0m x \u001b[39m=\u001b[39m system\u001b[39m.\u001b[39;49mmake_data(x0, timesteps\u001b[39m=\u001b[39;49mtimesteps, control\u001b[39m=\u001b[39;49m\u001b[39mNone\u001b[39;49;00m)\n\u001b[1;32m     14\u001b[0m x_noisy \u001b[39m=\u001b[39m system\u001b[39m.\u001b[39mmake_data(x0, timesteps\u001b[39m=\u001b[39mtimesteps, control\u001b[39m=\u001b[39m\u001b[39mNone\u001b[39;00m)\n\u001b[1;32m     15\u001b[0m y \u001b[39m=\u001b[39m system\u001b[39m.\u001b[39mmake_data(y0, timesteps\u001b[39m=\u001b[39mtimesteps, control\u001b[39m=\u001b[39m\u001b[39mNone\u001b[39;00m)\n",
      "File \u001b[0;32m~/Documents/GitHub/DynaDojo/dynadojo/systems/opinion/algorithmic_bias_media.py:84\u001b[0m, in \u001b[0;36mBiasMediaSystem.make_data\u001b[0;34m(self, init_conds, control, timesteps, noisy)\u001b[0m\n\u001b[1;32m     82\u001b[0m \u001b[39melse\u001b[39;00m:\n\u001b[1;32m     83\u001b[0m     \u001b[39mfor\u001b[39;00m x0 \u001b[39min\u001b[39;00m init_conds:\n\u001b[0;32m---> 84\u001b[0m         sol \u001b[39m=\u001b[39m dynamics(x0)\n\u001b[1;32m     85\u001b[0m         sol \u001b[39m+\u001b[39m\u001b[39m=\u001b[39m noise\n\u001b[1;32m     86\u001b[0m         data\u001b[39m.\u001b[39mappend(sol)\n",
      "File \u001b[0;32m~/Documents/GitHub/DynaDojo/dynadojo/systems/opinion/algorithmic_bias_media.py:65\u001b[0m, in \u001b[0;36mBiasMediaSystem.make_data.<locals>.dynamics\u001b[0;34m(x0)\u001b[0m\n\u001b[1;32m     64\u001b[0m \u001b[39mdef\u001b[39;00m \u001b[39mdynamics\u001b[39m(x0):\n\u001b[0;32m---> 65\u001b[0m     \u001b[39mself\u001b[39;49m\u001b[39m.\u001b[39;49mcreate_model(x0)\n\u001b[1;32m     67\u001b[0m     iterations \u001b[39m=\u001b[39m \u001b[39mself\u001b[39m\u001b[39m.\u001b[39mmodel\u001b[39m.\u001b[39miteration_bunch(timesteps)\n\u001b[1;32m     68\u001b[0m     Steps \u001b[39m=\u001b[39m []\n",
      "File \u001b[0;32m~/Documents/GitHub/DynaDojo/dynadojo/systems/opinion/algorithmic_bias_media.py:37\u001b[0m, in \u001b[0;36mBiasMediaSystem.create_model\u001b[0;34m(self, x0)\u001b[0m\n\u001b[1;32m     35\u001b[0m \u001b[39mdef\u001b[39;00m \u001b[39mcreate_model\u001b[39m(\u001b[39mself\u001b[39m, x0):\n\u001b[1;32m     36\u001b[0m     g \u001b[39m=\u001b[39m nx\u001b[39m.\u001b[39mcomplete_graph(\u001b[39mself\u001b[39m\u001b[39m.\u001b[39mlatent_dim)\n\u001b[0;32m---> 37\u001b[0m     \u001b[39mself\u001b[39m\u001b[39m.\u001b[39mmodel \u001b[39m=\u001b[39m op\u001b[39m.\u001b[39;49mAlgorithmicBiasMediaModel(g)\n\u001b[1;32m     38\u001b[0m     \u001b[39mself\u001b[39m\u001b[39m.\u001b[39mmodel\u001b[39m.\u001b[39mset_initial_status(\u001b[39mself\u001b[39m\u001b[39m.\u001b[39mconfig)\n\u001b[1;32m     39\u001b[0m     \u001b[39mself\u001b[39m\u001b[39m.\u001b[39mmodel\u001b[39m.\u001b[39mstatus \u001b[39m=\u001b[39m x0\n",
      "\u001b[0;31mAttributeError\u001b[0m: module 'ndlib.models.opinions' has no attribute 'AlgorithmicBiasMediaModel'"
     ]
    }
   ],
   "source": [
    "np.printoptions(suppress=True)\n",
    "\n",
    "latent_dim = [4]\n",
    "embed_dim = 4\n",
    "n = 1\n",
    "timesteps = 200\n",
    "for dim in latent_dim:\n",
    "    system = dd.systems.BiasMediaSystem(dim, embed_dim, noise_scale=0.005)\n",
    "\n",
    "    x0 = system.make_init_conds(n)\n",
    "    y0 = system.make_init_conds(n, in_dist=False)\n",
    "\n",
    "    x = system.make_data(x0, timesteps=timesteps, control=None)\n",
    "    x_noisy = system.make_data(x0, timesteps=timesteps, control=None)\n",
    "    y = system.make_data(y0, timesteps=timesteps, control=None)\n",
    "\n",
    "dd.utils.opinion.plot([x,x_noisy, y], target_dim=2, gridlabels=[\"in\", \"noisy\", \"out\"], max_lines=100)"
   ]
  },
  {
   "cell_type": "code",
   "execution_count": 99,
   "metadata": {},
   "outputs": [
    {
     "name": "stdout",
     "output_type": "stream",
     "text": [
      "Name: ndlib\n",
      "Version: 5.1.1\n",
      "Summary: Network Diffusion Library\n",
      "Home-page: https://github.com/GiulioRossetti/ndlib\n",
      "Author: Giulio Rossetti\n",
      "Author-email: giulio.rossetti@gmail.com\n",
      "License: BSD-Clause-2\n",
      "Location: /Library/Frameworks/Python.framework/Versions/3.10/lib/python3.10/site-packages\n",
      "Requires: bokeh, dynetx, future, netdispatch, networkx, numpy, python-igraph, scipy\n",
      "Required-by: \n",
      "Note: you may need to restart the kernel to use updated packages.\n"
     ]
    }
   ],
   "source": [
    "pip show ndlib"
   ]
  }
 ],
 "metadata": {
  "kernelspec": {
   "display_name": "Python 3 (ipykernel)",
   "language": "python",
   "name": "python3"
  },
  "language_info": {
   "codemirror_mode": {
    "name": "ipython",
    "version": 3
   },
   "file_extension": ".py",
   "mimetype": "text/x-python",
   "name": "python",
   "nbconvert_exporter": "python",
   "pygments_lexer": "ipython3",
   "version": "3.10.10"
  }
 },
 "nbformat": 4,
 "nbformat_minor": 1
}
