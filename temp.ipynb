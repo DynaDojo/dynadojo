{
 "cells": [
  {
   "cell_type": "code",
   "execution_count": 1,
   "metadata": {
    "collapsed": true,
    "ExecuteTime": {
     "end_time": "2023-05-28T16:48:07.265873Z",
     "start_time": "2023-05-28T16:48:06.210500Z"
    }
   },
   "outputs": [],
   "source": [
    "from dynascale import abstractions"
   ]
  },
  {
   "cell_type": "code",
   "execution_count": 2,
   "outputs": [
    {
     "ename": "TypeError",
     "evalue": "Can't instantiate abstract class MyModel with abstract methods _predict, fit",
     "output_type": "error",
     "traceback": [
      "\u001B[0;31m---------------------------------------------------------------------------\u001B[0m",
      "\u001B[0;31mTypeError\u001B[0m                                 Traceback (most recent call last)",
      "Cell \u001B[0;32mIn[2], line 6\u001B[0m\n\u001B[1;32m      2\u001B[0m     \u001B[38;5;28;01mdef\u001B[39;00m \u001B[38;5;21m__init__\u001B[39m(\u001B[38;5;28mself\u001B[39m, embed_dim, timesteps, max_control_cost, \u001B[38;5;241m*\u001B[39m\u001B[38;5;241m*\u001B[39mkwargs):\n\u001B[1;32m      3\u001B[0m         \u001B[38;5;28msuper\u001B[39m()\u001B[38;5;241m.\u001B[39m\u001B[38;5;21m__init__\u001B[39m(embed_dim, timesteps, max_control_cost, \u001B[38;5;241m*\u001B[39m\u001B[38;5;241m*\u001B[39mkwargs)\n\u001B[0;32m----> 6\u001B[0m instance \u001B[38;5;241m=\u001B[39m \u001B[43mMyModel\u001B[49m\u001B[43m(\u001B[49m\u001B[38;5;241;43m3\u001B[39;49m\u001B[43m,\u001B[49m\u001B[43m \u001B[49m\u001B[38;5;241;43m3\u001B[39;49m\u001B[43m,\u001B[49m\u001B[43m \u001B[49m\u001B[38;5;241;43m3\u001B[39;49m\u001B[43m)\u001B[49m\n",
      "\u001B[0;31mTypeError\u001B[0m: Can't instantiate abstract class MyModel with abstract methods _predict, fit"
     ]
    }
   ],
   "source": [
    "class MyModel(abstractions.Model):\n",
    "    def __init__(self, embed_dim, timesteps, max_control_cost, **kwargs):\n",
    "        super().__init__(embed_dim, timesteps, max_control_cost, **kwargs)\n",
    "\n",
    "\n",
    "# _predict --> predict, predict --> predict_wrapper\n",
    "# _act --> act, act --> act_wraper\n",
    "# fit --> fit\n",
    "\n",
    "instance = MyModel(3, 3, 3)"
   ],
   "metadata": {
    "collapsed": false,
    "ExecuteTime": {
     "end_time": "2023-05-28T16:49:31.264557Z",
     "start_time": "2023-05-28T16:49:30.729544Z"
    }
   }
  }
 ],
 "metadata": {
  "kernelspec": {
   "display_name": "Python 3",
   "language": "python",
   "name": "python3"
  },
  "language_info": {
   "codemirror_mode": {
    "name": "ipython",
    "version": 2
   },
   "file_extension": ".py",
   "mimetype": "text/x-python",
   "name": "python",
   "nbconvert_exporter": "python",
   "pygments_lexer": "ipython2",
   "version": "2.7.6"
  }
 },
 "nbformat": 4,
 "nbformat_minor": 0
}
