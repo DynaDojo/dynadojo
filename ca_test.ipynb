{
 "cells": [
  {
   "cell_type": "code",
   "execution_count": 1,
   "metadata": {
    "collapsed": true,
    "ExecuteTime": {
     "end_time": "2023-05-07T22:35:56.971830Z",
     "start_time": "2023-05-07T22:35:56.947445Z"
    }
   },
   "outputs": [],
   "source": [
    "import numpy as np\n",
    "%load_ext autoreload\n",
    "%autoreload 2"
   ]
  },
  {
   "cell_type": "code",
   "execution_count": 34,
   "outputs": [],
   "source": [
    "import dynascale as ds\n",
    "import cellpylib as cpl\n",
    "import numpy as np"
   ],
   "metadata": {
    "collapsed": false,
    "ExecuteTime": {
     "end_time": "2023-05-07T22:45:19.238928Z",
     "start_time": "2023-05-07T22:45:19.197176Z"
    }
   }
  },
  {
   "cell_type": "code",
   "execution_count": 21,
   "outputs": [
    {
     "data": {
      "text/plain": "<Figure size 640x480 with 1 Axes>",
      "image/png": "[encoded data removed]"
     },
     "metadata": {},
     "output_type": "display_data"
    }
   ],
   "source": [
    "ca = cpl.init_random(60)\n",
    "ca = cpl.evolve(ca, timesteps=50, apply_rule=lambda n, c, t: cpl.nks_rule(n, 30), r=1)\n",
    "cpl.plot(ca)"
   ],
   "metadata": {
    "collapsed": false,
    "ExecuteTime": {
     "end_time": "2023-05-07T22:40:27.287463Z",
     "start_time": "2023-05-07T22:40:27.030836Z"
    }
   }
  },
  {
   "cell_type": "code",
   "execution_count": 38,
   "outputs": [
    {
     "ename": "IndexError",
     "evalue": "index 2 is out of bounds for axis 0 with size 2",
     "output_type": "error",
     "traceback": [
      "\u001B[0;31m---------------------------------------------------------------------------\u001B[0m",
      "\u001B[0;31mIndexError\u001B[0m                                Traceback (most recent call last)",
      "Cell \u001B[0;32mIn[38], line 3\u001B[0m\n\u001B[1;32m      1\u001B[0m challenge \u001B[38;5;241m=\u001B[39m ds\u001B[38;5;241m.\u001B[39mCAChallenge(\u001B[38;5;241m2\u001B[39m, \u001B[38;5;241m64\u001B[39m)\n\u001B[1;32m      2\u001B[0m control \u001B[38;5;241m=\u001B[39m np\u001B[38;5;241m.\u001B[39mones_like((\u001B[38;5;241m50\u001B[39m, challenge\u001B[38;5;241m.\u001B[39membed_dim))\n\u001B[0;32m----> 3\u001B[0m x1 \u001B[38;5;241m=\u001B[39m \u001B[43mchallenge\u001B[49m\u001B[38;5;241;43m.\u001B[39;49m\u001B[43mmake_data\u001B[49m\u001B[43m(\u001B[49m\u001B[38;5;241;43m50\u001B[39;49m\u001B[43m,\u001B[49m\u001B[43m \u001B[49m\u001B[43mn\u001B[49m\u001B[38;5;241;43m=\u001B[39;49m\u001B[38;5;241;43m10\u001B[39;49m\u001B[43m,\u001B[49m\u001B[43m \u001B[49m\u001B[43mcontrol\u001B[49m\u001B[38;5;241;43m=\u001B[39;49m\u001B[43mcontrol\u001B[49m\u001B[43m)\u001B[49m\n\u001B[1;32m      4\u001B[0m x2 \u001B[38;5;241m=\u001B[39m challenge\u001B[38;5;241m.\u001B[39mmake_data(\u001B[38;5;241m50\u001B[39m, n\u001B[38;5;241m=\u001B[39m\u001B[38;5;241m10\u001B[39m, in_dist\u001B[38;5;241m=\u001B[39m\u001B[38;5;28;01mFalse\u001B[39;00m)\n\u001B[1;32m      5\u001B[0m ds\u001B[38;5;241m.\u001B[39mutils\u001B[38;5;241m.\u001B[39mca\u001B[38;5;241m.\u001B[39mplot([x1, x2], labels\u001B[38;5;241m=\u001B[39m[\u001B[38;5;124m\"\u001B[39m\u001B[38;5;124min\u001B[39m\u001B[38;5;124m\"\u001B[39m, \u001B[38;5;124m\"\u001B[39m\u001B[38;5;124mOOD\u001B[39m\u001B[38;5;124m\"\u001B[39m])\n",
      "File \u001B[0;32m~/PycharmProjects/DynaScale/dynascale/abstractions.py:81\u001B[0m, in \u001B[0;36mChallenge.make_data\u001B[0;34m(self, timesteps, n, init_conds, control, in_dist)\u001B[0m\n\u001B[1;32m     79\u001B[0m \u001B[38;5;28;01massert\u001B[39;00m n \u001B[38;5;241m>\u001B[39m \u001B[38;5;241m0\u001B[39m\n\u001B[1;32m     80\u001B[0m \u001B[38;5;28;01massert\u001B[39;00m timesteps \u001B[38;5;241m>\u001B[39m \u001B[38;5;241m1\u001B[39m\n\u001B[0;32m---> 81\u001B[0m data \u001B[38;5;241m=\u001B[39m \u001B[38;5;28;43mself\u001B[39;49m\u001B[38;5;241;43m.\u001B[39;49m\u001B[43m_make_data\u001B[49m\u001B[43m(\u001B[49m\u001B[43mtimesteps\u001B[49m\u001B[43m,\u001B[49m\u001B[43m \u001B[49m\u001B[43mn\u001B[49m\u001B[43m,\u001B[49m\u001B[43m \u001B[49m\u001B[43minit_conds\u001B[49m\u001B[43m,\u001B[49m\u001B[43m \u001B[49m\u001B[43mcontrol\u001B[49m\u001B[38;5;241;43m=\u001B[39;49m\u001B[43mcontrol\u001B[49m\u001B[43m,\u001B[49m\u001B[43m \u001B[49m\u001B[43min_dist\u001B[49m\u001B[38;5;241;43m=\u001B[39;49m\u001B[43min_dist\u001B[49m\u001B[43m)\u001B[49m\n\u001B[1;32m     82\u001B[0m \u001B[38;5;28;01massert\u001B[39;00m data\u001B[38;5;241m.\u001B[39mshape \u001B[38;5;241m==\u001B[39m (n, timesteps, \u001B[38;5;28mself\u001B[39m\u001B[38;5;241m.\u001B[39membed_dim)\n\u001B[1;32m     83\u001B[0m \u001B[38;5;28;01mreturn\u001B[39;00m data\n",
      "File \u001B[0;32m~/PycharmProjects/DynaScale/dynascale/challenges/ca.py:24\u001B[0m, in \u001B[0;36mCAChallenge._make_data\u001B[0;34m(self, timesteps, n, init_conds, control, in_dist)\u001B[0m\n\u001B[1;32m     22\u001B[0m     \u001B[38;5;28;01mfor\u001B[39;00m t \u001B[38;5;129;01min\u001B[39;00m \u001B[38;5;28mrange\u001B[39m(\u001B[38;5;241m1\u001B[39m, timesteps):\n\u001B[1;32m     23\u001B[0m         cellular_automata \u001B[38;5;241m=\u001B[39m cpl\u001B[38;5;241m.\u001B[39mevolve(cellular_automata, timesteps\u001B[38;5;241m=\u001B[39m\u001B[38;5;241m2\u001B[39m, apply_rule\u001B[38;5;241m=\u001B[39m\u001B[38;5;28;01mlambda\u001B[39;00m n, c, t: cpl\u001B[38;5;241m.\u001B[39mnks_rule(n, \u001B[38;5;241m30\u001B[39m), r\u001B[38;5;241m=\u001B[39m\u001B[38;5;28mself\u001B[39m\u001B[38;5;241m.\u001B[39mlatent_dim)\n\u001B[0;32m---> 24\u001B[0m         cellular_automata[\u001B[38;5;241m-\u001B[39m\u001B[38;5;241m1\u001B[39m] \u001B[38;5;241m=\u001B[39m np\u001B[38;5;241m.\u001B[39mclip(cellular_automata[\u001B[38;5;241m-\u001B[39m\u001B[38;5;241m1\u001B[39m] \u001B[38;5;241m+\u001B[39m \u001B[43mcontrol\u001B[49m\u001B[43m[\u001B[49m\u001B[43mt\u001B[49m\u001B[43m]\u001B[49m, \u001B[38;5;241m0\u001B[39m, \u001B[38;5;241m1\u001B[39m)\u001B[38;5;241m.\u001B[39mastype(np\u001B[38;5;241m.\u001B[39mint32)\n\u001B[1;32m     25\u001B[0m     data\u001B[38;5;241m.\u001B[39mappend(cellular_automata)\n\u001B[1;32m     26\u001B[0m data \u001B[38;5;241m=\u001B[39m np\u001B[38;5;241m.\u001B[39marray(data)\n",
      "\u001B[0;31mIndexError\u001B[0m: index 2 is out of bounds for axis 0 with size 2"
     ]
    }
   ],
   "source": [
    "challenge = ds.CAChallenge(2, 64)\n",
    "control = np.ones_like((50, challenge.embed_dim))\n",
    "x1 = challenge.make_data(50, n=10, control=control)\n",
    "x2 = challenge.make_data(50, n=10, in_dist=False)\n",
    "ds.utils.ca.plot([x1, x2], labels=[\"in\", \"OOD\"])"
   ],
   "metadata": {
    "collapsed": false,
    "ExecuteTime": {
     "end_time": "2023-05-07T22:46:22.481016Z",
     "start_time": "2023-05-07T22:46:22.407112Z"
    }
   }
  }
 ],
 "metadata": {
  "kernelspec": {
   "display_name": "Python 3",
   "language": "python",
   "name": "python3"
  },
  "language_info": {
   "codemirror_mode": {
    "name": "ipython",
    "version": 2
   },
   "file_extension": ".py",
   "mimetype": "text/x-python",
   "name": "python",
   "nbconvert_exporter": "python",
   "pygments_lexer": "ipython2",
   "version": "2.7.6"
  }
 },
 "nbformat": 4,
 "nbformat_minor": 0
}
