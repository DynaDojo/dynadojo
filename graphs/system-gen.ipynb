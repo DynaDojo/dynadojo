{
 "cells": [
  {
   "cell_type": "code",
   "execution_count": 1,
   "metadata": {
    "collapsed": true,
    "ExecuteTime": {
     "end_time": "2023-06-07T13:52:55.962419Z",
     "start_time": "2023-06-07T13:52:55.918180Z"
    }
   },
   "outputs": [],
   "source": [
    "%load_ext autoreload\n",
    "%autoreload 2"
   ]
  },
  {
   "cell_type": "code",
   "execution_count": 2,
   "outputs": [],
   "source": [
    "import pandas as pd\n",
    "import numpy as np\n",
    "import matplotlib.pyplot as plt\n",
    "from pathlib import Path\n",
    "import matplotlib as mpl\n",
    "import seaborn as sns\n",
    "import re\n",
    "from math import atan2,degrees\n",
    "\n",
    "\n",
    "cmap1 = mpl.colormaps['viridis'].resampled(8)\n",
    "cmap2 = mpl.colormaps['inferno'].resampled(8)"
   ],
   "metadata": {
    "collapsed": false,
    "ExecuteTime": {
     "end_time": "2023-06-07T13:53:00.179185Z",
     "start_time": "2023-06-07T13:53:00.049682Z"
    }
   }
  },
  {
   "cell_type": "code",
   "execution_count": 3,
   "outputs": [],
   "source": [
    "def plot_target_loss(data, xcol, ycol, idlabels=None, xlabel=None, ylabel=None, hue=\"id\", log=True, estimator=np.median,\n",
    "                     errorbar=(\"pi\", 50), error_col=\"loss\", target_loss=0.1):\n",
    "    if idlabels:\n",
    "        _assign_labels(data, idlabels)\n",
    "\n",
    "    if not isinstance(data, pd.DataFrame):\n",
    "        data = pd.concat(data)\n",
    "\n",
    "    filtered = data[data[error_col] < target_loss]\n",
    "    # for each rep in the x dim, get the lowest y that was successful\n",
    "    successes = filtered.loc[filtered.groupby([\"id\", \"rep\", xcol])[ycol].idxmin()].reset_index(drop=True)\n",
    "\n",
    "    assert (len(successes) > 0)\n",
    "    plot_metric(successes, xcol, ycol, None, xlabel, ylabel, hue, log, estimator, errorbar)\n",
    "\n",
    "# Label line with line2D label data\n",
    "def labelLine(line, x, label=None, align=True, **kwargs):\n",
    "    ax = line.axes\n",
    "    xdata = line.get_xdata()\n",
    "    ydata = line.get_ydata()\n",
    "\n",
    "    if (x < xdata[0]) or (x > xdata[-1]):\n",
    "        print('x label location is outside data range!')\n",
    "        return\n",
    "\n",
    "    #Find corresponding y co-ordinate and angle of the line\n",
    "    ip = 1\n",
    "    for i in range(len(xdata)):\n",
    "        if x < xdata[i]:\n",
    "            ip = i\n",
    "            break\n",
    "\n",
    "    y = ydata[ip-1] + (ydata[ip]-ydata[ip-1])*(x-xdata[ip-1])/(xdata[ip]-xdata[ip-1])\n",
    "\n",
    "    if not label:\n",
    "        label = line.get_label()\n",
    "\n",
    "    if align:\n",
    "        #Compute the slope\n",
    "        dx = xdata[ip] - xdata[ip-1]\n",
    "        dy = ydata[ip] - ydata[ip-1]\n",
    "        ang = degrees(atan2(dy,dx))\n",
    "\n",
    "        #Transform to screen co-ordinates\n",
    "        pt = np.array([x,y]).reshape((1,2))\n",
    "        trans_angle = ax.transData.transform_angles(np.array((ang,)),pt)[0]\n",
    "\n",
    "    else:\n",
    "        trans_angle = 0\n",
    "\n",
    "    #Set a bunch of keyword arguments\n",
    "    if 'color' not in kwargs:\n",
    "        kwargs['color'] = line.get_color()\n",
    "\n",
    "    if ('horizontalalignment' not in kwargs) and ('ha' not in kwargs):\n",
    "        kwargs['ha'] = 'center'\n",
    "\n",
    "    if ('verticalalignment' not in kwargs) and ('va' not in kwargs):\n",
    "        kwargs['va'] = 'center'\n",
    "\n",
    "    if 'backgroundcolor' not in kwargs:\n",
    "        kwargs['backgroundcolor'] = ax.get_facecolor()\n",
    "\n",
    "    if 'clip_on' not in kwargs:\n",
    "        kwargs['clip_on'] = True\n",
    "\n",
    "    if 'zorder' not in kwargs:\n",
    "        kwargs['zorder'] = 2.5\n",
    "\n",
    "    ax.text(x,y,label,rotation=trans_angle,**kwargs)\n",
    "\n",
    "def labelLines(lines,align=True,xvals=None,**kwargs):\n",
    "\n",
    "    ax = lines[0].axes\n",
    "    labLines = []\n",
    "    labels = []\n",
    "\n",
    "    #Take only the lines which have labels other than the default ones\n",
    "    for line in lines:\n",
    "        label = line.get_label()\n",
    "        if \"_line\" not in label:\n",
    "            labLines.append(line)\n",
    "            labels.append(label)\n",
    "\n",
    "    if xvals is None:\n",
    "        xmin,xmax = ax.get_xlim()\n",
    "        xvals = np.linspace(xmin,xmax,len(labLines)+2)[1:-1]\n",
    "\n",
    "    for line,x,label in zip(labLines,xvals,labels):\n",
    "        labelLine(line,x,label,align,**kwargs)\n",
    "\n",
    "def _assign_labels(data, labels):\n",
    "    assert len(data) == len(labels)\n",
    "    for frameidx, frame in enumerate(data):\n",
    "        data[frameidx] = frame.assign(id=labels[frameidx])\n",
    "\n",
    "def plot_metric(data, xcol, ycol, idlabels=None, xlabel=None, ylabel=None, hue=\"id\", log=True, estimator=np.median, errorbar=(\"pi\", 50)):\n",
    "    if idlabels:\n",
    "        _assign_labels(data, idlabels)\n",
    "\n",
    "    sns.set_context(\"paper\")\n",
    "    sns.set_theme(style=\"ticks\")\n",
    "    sns.despine()\n",
    "\n",
    "    if not isinstance(data, pd.DataFrame):\n",
    "        data = pd.concat(data)\n",
    "\n",
    "    ax = sns.catplot(data=data, x=xcol, y=ycol, hue=hue, estimator=estimator, kind=\"point\", errorbar=errorbar)\n",
    "    ax._legend.remove()\n",
    "\n",
    "    ax.set(xticks=range(len(data[xcol].unique())))\n",
    "    if log:\n",
    "        ax.set(yscale=\"log\")\n",
    "    if xlabel:\n",
    "       ax.set(xlabel=xlabel)\n",
    "    if ylabel:\n",
    "       ax.set(ylabel=ylabel)\n",
    "\n",
    "    plt.show()"
   ],
   "metadata": {
    "collapsed": false,
    "ExecuteTime": {
     "end_time": "2023-06-07T13:53:02.227998Z",
     "start_time": "2023-06-07T13:53:02.189028Z"
    }
   }
  },
  {
   "cell_type": "code",
   "execution_count": 21,
   "outputs": [
    {
     "name": "stderr",
     "output_type": "stream",
     "text": [
      "/Users/logan/PycharmProjects/DynaScale/venv/lib/python3.10/site-packages/numpy/lib/nanfunctions.py:1583: RuntimeWarning: All-NaN slice encountered\n",
      "  result = np.apply_along_axis(_nanquantile_1d, axis, a, q,\n",
      "No artists with labels found to put in legend.  Note that artists whose label start with an underscore are ignored when legend() is called with no argument.\n"
     ]
    },
    {
     "data": {
      "text/plain": "Text(0.5, 1.0, 'Fixed Complexity')"
     },
     "execution_count": 21,
     "metadata": {},
     "output_type": "execute_result"
    },
    {
     "data": {
      "text/plain": "<Figure size 2000x400 with 3 Axes>",
      "image/png": "[encoded data removed]"
     },
     "metadata": {},
     "output_type": "display_data"
    }
   ],
   "source": [
    "fig, axs = plt.subplots(1, 3, figsize=(20, 4))\n",
    "df = None\n",
    "# color_keys = {2: 0.2, 10: 0.5, 50: 0.75 100: 0.75, 1000: 1}\n",
    "df = pd.read_csv(\"../cache/TLN/fc_l=10_in_dist=True.csv\")\n",
    "df = df[df['n'] != 10]\n",
    "g = sns.regplot(\n",
    "    ax=axs[0],\n",
    "    data=df,\n",
    "    # x_estimator='median',\n",
    "    x=\"n\",\n",
    "    y=\"loss\",\n",
    "    ci=50,\n",
    "    # robust=True,\n",
    "    # facet_kws=dict(sharey=False),\n",
    "    scatter=False,\n",
    "    fit_reg=True\n",
    ")\n",
    "legend = axs[0].legend()\n",
    "axs[0].grid(visible=False)\n",
    "axs[0].set_xlabel(r\"$n$ samples\")\n",
    "axs[0].set_ylabel(\"MSE / Embed. Dim.\")\n",
    "# axs[0].set_xscale('log')\n",
    "# axs[0].set_yscale('log')\n",
    "axs[0].set_title(\"Fixed Complexity\")\n",
    "# plt.show()\n",
    "\n",
    "# df = pd.read_csv(\"../cache/lr_data_fts_500.csv\")\n",
    "# g = sns.regplot(\n",
    "#     ax=axs[1],\n",
    "#     data=df,\n",
    "#     # x_estimator='median',\n",
    "#     x=\"latent_dim\",\n",
    "#     y=\"loss\",\n",
    "#     ci=50,\n",
    "#     # robust=True,\n",
    "#     # facet_kws=dict(sharey=False),\n",
    "#     scatter=False,\n",
    "#     fit_reg=True\n",
    "# )\n",
    "# axs[1].grid(visible=False)\n",
    "# axs[1].set_xscale('log')\n",
    "# axs[1].set_yscale('log')\n",
    "# axs[1].set_xlabel(r'Rank($A$)')\n",
    "# axs[1].set_ylabel('MSE / Embed. Dim.')\n",
    "# axs[1].set_title(\"Fixed Train Size\")\n",
    "# labelLines(plt.gca().get_lines(), zorder=2.5)\n",
    "\n",
    "# df = pd.read_csv(\"../cache/LDS/LR/target_loss_new.csv\")\n",
    "# filtered = df[df[\"loss\"] < 10e2]\n",
    "# # for each rep in the x dim, get the lowest y that was successful\n",
    "# successes = filtered.loc[filtered.groupby([\"id\", \"rep\", \"latent_dim\"])[\"n\"].idxmin()].reset_index(drop=True)\n",
    "#\n",
    "# df = pd.read_csv(\"../cache/lr_data_fts_500.csv\")\n",
    "# g = sns.regplot(\n",
    "#     ax=axs[2],\n",
    "#     data=successes,\n",
    "#     # x_estimator='median',\n",
    "#     x=\"latent_dim\",\n",
    "#     y=\"n\",\n",
    "#     ci=50,\n",
    "#     # robust=True,\n",
    "#     # facet_kws=dict(sharey=False),\n",
    "#     scatter=False,\n",
    "#     fit_reg=True\n",
    "# )\n",
    "# axs[2].grid(visible=False)\n",
    "# axs[2].set_xscale('log')\n",
    "# axs[2].set_yscale('log')\n",
    "# axs[2].set_xlabel(r'Rank($A$)')\n",
    "# axs[2].set_ylabel('MSE / Embed. Dim.')\n",
    "# axs[2].set_title(\"Fixed Train Size\")"
   ],
   "metadata": {
    "collapsed": false,
    "ExecuteTime": {
     "end_time": "2023-06-07T14:06:48.478150Z",
     "start_time": "2023-06-07T14:06:47.280024Z"
    }
   }
  },
  {
   "cell_type": "code",
   "execution_count": 22,
   "outputs": [
    {
     "data": {
      "text/plain": "[<matplotlib.lines.Line2D at 0x130fb6320>]"
     },
     "execution_count": 22,
     "metadata": {},
     "output_type": "execute_result"
    },
    {
     "data": {
      "text/plain": "<Figure size 640x480 with 1 Axes>",
      "image/png": "[encoded data removed]"
     },
     "metadata": {},
     "output_type": "display_data"
    }
   ],
   "source": [
    "data = df.groupby(\"n\")[\"loss\"].median()\n",
    "plt.plot(data.index, data.values)"
   ],
   "metadata": {
    "collapsed": false,
    "ExecuteTime": {
     "end_time": "2023-06-07T14:06:50.597803Z",
     "start_time": "2023-06-07T14:06:50.304829Z"
    }
   }
  },
  {
   "cell_type": "code",
   "execution_count": 23,
   "outputs": [
    {
     "name": "stderr",
     "output_type": "stream",
     "text": [
      "/Users/logan/PycharmProjects/DynaScale/venv/lib/python3.10/site-packages/numpy/lib/function_base.py:4527: RuntimeWarning: invalid value encountered in subtract\n",
      "  diff_b_a = subtract(b, a)\n"
     ]
    },
    {
     "data": {
      "text/plain": "<Figure size 640x480 with 1 Axes>",
      "image/png": "[encoded data removed]"
     },
     "metadata": {},
     "output_type": "display_data"
    }
   ],
   "source": [
    "g = sns.regplot(\n",
    "    # ax=axs[2],\n",
    "    data=df,\n",
    "    # x_estimator='median',\n",
    "    x=\"latent_dim\",\n",
    "    y=\"loss\",\n",
    "    ci=50,\n",
    "    # robust=True,\n",
    "    # facet_kws=dict(sharey=False),\n",
    "    scatter=False,\n",
    "    fit_reg=True\n",
    ")"
   ],
   "metadata": {
    "collapsed": false,
    "ExecuteTime": {
     "end_time": "2023-06-07T14:06:56.380389Z",
     "start_time": "2023-06-07T14:06:55.857803Z"
    }
   }
  },
  {
   "cell_type": "code",
   "execution_count": null,
   "outputs": [],
   "source": [],
   "metadata": {
    "collapsed": false
   }
  }
 ],
 "metadata": {
  "kernelspec": {
   "display_name": "Python 3",
   "language": "python",
   "name": "python3"
  },
  "language_info": {
   "codemirror_mode": {
    "name": "ipython",
    "version": 2
   },
   "file_extension": ".py",
   "mimetype": "text/x-python",
   "name": "python",
   "nbconvert_exporter": "python",
   "pygments_lexer": "ipython2",
   "version": "2.7.6"
  }
 },
 "nbformat": 4,
 "nbformat_minor": 0
}
