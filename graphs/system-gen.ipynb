{
 "cells": [
  {
   "cell_type": "code",
   "execution_count": 24,
   "metadata": {
    "collapsed": true,
    "ExecuteTime": {
     "end_time": "2023-06-07T17:36:13.293437Z",
     "start_time": "2023-06-07T17:36:13.210754Z"
    }
   },
   "outputs": [
    {
     "name": "stdout",
     "output_type": "stream",
     "text": [
      "The autoreload extension is already loaded. To reload it, use:\n",
      "  %reload_ext autoreload\n"
     ]
    }
   ],
   "source": [
    "%load_ext autoreload\n",
    "%autoreload 2"
   ]
  },
  {
   "cell_type": "code",
   "execution_count": 26,
   "outputs": [],
   "source": [
    "import pandas as pd\n",
    "import numpy as np\n",
    "import matplotlib.pyplot as plt\n",
    "from pathlib import Path\n",
    "import matplotlib as mpl\n",
    "import seaborn as sns\n",
    "import re\n",
    "from math import atan2,degrees\n",
    "\n",
    "\n",
    "cmap1 = mpl.colormaps['viridis'].resampled(8)\n",
    "cmap2 = mpl.colormaps['inferno'].resampled(8)"
   ],
   "metadata": {
    "collapsed": false,
    "ExecuteTime": {
     "end_time": "2023-06-07T17:36:21.933880Z",
     "start_time": "2023-06-07T17:36:21.850471Z"
    }
   }
  },
  {
   "cell_type": "code",
   "execution_count": 86,
   "outputs": [],
   "source": [
    "def plot_target_loss(data, xcol, ycol, idlabels=None, xlabel=None, ylabel=None, hue=\"id\", log=True, estimator=np.median,\n",
    "                     errorbar=(\"pi\", 50), error_col=\"loss\", target_loss=0.1):\n",
    "    if idlabels:\n",
    "        _assign_labels(data, idlabels)\n",
    "\n",
    "    if not isinstance(data, pd.DataFrame):\n",
    "        data = pd.concat(data)\n",
    "\n",
    "    filtered = data[data[error_col] < target_loss]\n",
    "    # for each rep in the x dim, get the lowest y that was successful\n",
    "    successes = filtered.loc[filtered.groupby([\"id\", \"rep\", xcol])[ycol].idxmin()].reset_index(drop=True)\n",
    "\n",
    "    assert (len(successes) > 0)\n",
    "    plot_metric(successes, xcol, ycol, None, xlabel, ylabel, hue, log, estimator, errorbar)\n",
    "\n",
    "# Label line with line2D label data\n",
    "def labelLine(line, x, label=None, align=True, **kwargs):\n",
    "    ax = line.axes\n",
    "    xdata = line.get_xdata()\n",
    "    ydata = line.get_ydata()\n",
    "\n",
    "    if (x < xdata[0]) or (x > xdata[-1]):\n",
    "        print('x label location is outside data range!')\n",
    "        return\n",
    "\n",
    "    #Find corresponding y co-ordinate and angle of the line\n",
    "    ip = 1\n",
    "    for i in range(len(xdata)):\n",
    "        if x < xdata[i]:\n",
    "            ip = i\n",
    "            break\n",
    "\n",
    "    y = ydata[ip-1] + (ydata[ip]-ydata[ip-1])*(x-xdata[ip-1])/(xdata[ip]-xdata[ip-1])\n",
    "\n",
    "    if not label:\n",
    "        label = line.get_label()\n",
    "\n",
    "    if align:\n",
    "        #Compute the slope\n",
    "        dx = xdata[ip] - xdata[ip-1]\n",
    "        dy = ydata[ip] - ydata[ip-1]\n",
    "        ang = degrees(atan2(dy,dx))\n",
    "\n",
    "        #Transform to screen co-ordinates\n",
    "        pt = np.array([x,y]).reshape((1,2))\n",
    "        trans_angle = ax.transData.transform_angles(np.array((ang,)),pt)[0]\n",
    "\n",
    "    else:\n",
    "        trans_angle = 0\n",
    "\n",
    "    #Set a bunch of keyword arguments\n",
    "    if 'color' not in kwargs:\n",
    "        kwargs['color'] = line.get_color()\n",
    "\n",
    "    if ('horizontalalignment' not in kwargs) and ('ha' not in kwargs):\n",
    "        kwargs['ha'] = 'center'\n",
    "\n",
    "    if ('verticalalignment' not in kwargs) and ('va' not in kwargs):\n",
    "        kwargs['va'] = 'center'\n",
    "\n",
    "    if 'backgroundcolor' not in kwargs:\n",
    "        kwargs['backgroundcolor'] = ax.get_facecolor()\n",
    "\n",
    "    if 'clip_on' not in kwargs:\n",
    "        kwargs['clip_on'] = True\n",
    "\n",
    "    if 'zorder' not in kwargs:\n",
    "        kwargs['zorder'] = 2.5\n",
    "\n",
    "    ax.text(x,y,label,rotation=trans_angle,**kwargs)\n",
    "\n",
    "def labelLines(lines,align=True,xvals=None,**kwargs):\n",
    "\n",
    "    ax = lines[0].axes\n",
    "    labLines = []\n",
    "    labels = []\n",
    "\n",
    "    #Take only the lines which have labels other than the default ones\n",
    "    for line in lines:\n",
    "        label = line.get_label()\n",
    "        if \"_line\" not in label:\n",
    "            labLines.append(line)\n",
    "            labels.append(label)\n",
    "\n",
    "    if xvals is None:\n",
    "        xmin,xmax = ax.get_xlim()\n",
    "        xvals = np.linspace(xmin,xmax,len(labLines)+2)[1:-1]\n",
    "\n",
    "    for line,x,label in zip(labLines,xvals,labels):\n",
    "        labelLine(line,x,label,align,**kwargs)\n",
    "\n",
    "def _assign_labels(data, labels):\n",
    "    assert len(data) == len(labels)\n",
    "    for frameidx, frame in enumerate(data):\n",
    "        data[frameidx] = frame.assign(id=labels[frameidx])\n",
    "\n",
    "def plot_metric(data, xcol, ycol, idlabels=None, xlabel=None, ylabel=None, hue=\"id\", log=True, estimator=np.median, errorbar=(\"pi\", 50)):\n",
    "    if idlabels:\n",
    "        _assign_labels(data, idlabels)\n",
    "\n",
    "    sns.set_context(\"paper\")\n",
    "    sns.set_theme(style=\"ticks\")\n",
    "    sns.despine()\n",
    "\n",
    "    if not isinstance(data, pd.DataFrame):\n",
    "        data = pd.concat(data)\n",
    "\n",
    "    ax = sns.catplot(data=data, x=xcol, y=ycol, hue=hue, estimator=estimator, kind=\"point\", errorbar=errorbar)\n",
    "    ax._legend.remove()\n",
    "\n",
    "    ax.set(xticks=range(len(data[xcol].unique())))\n",
    "    if log:\n",
    "        ax.set(yscale=\"log\")\n",
    "    if xlabel:\n",
    "       ax.set(xlabel=xlabel)\n",
    "    if ylabel:\n",
    "       ax.set(ylabel=ylabel)"
   ],
   "metadata": {
    "collapsed": false,
    "ExecuteTime": {
     "end_time": "2023-06-07T18:34:18.280820Z",
     "start_time": "2023-06-07T18:34:18.220546Z"
    }
   }
  },
  {
   "cell_type": "code",
   "execution_count": 97,
   "outputs": [
    {
     "name": "stderr",
     "output_type": "stream",
     "text": [
      "/Users/logan/PycharmProjects/DynaScale/venv/lib/python3.10/site-packages/numpy/core/fromnumeric.py:3432: RuntimeWarning: Mean of empty slice.\n",
      "  return _methods._mean(a, axis=axis, dtype=dtype,\n",
      "/Users/logan/PycharmProjects/DynaScale/venv/lib/python3.10/site-packages/numpy/core/_methods.py:190: RuntimeWarning: invalid value encountered in double_scalars\n",
      "  ret = ret.dtype.type(ret / rcount)\n"
     ]
    },
    {
     "data": {
      "text/plain": "Text(0.5, 1.0, 'Fixed Complexity')"
     },
     "execution_count": 97,
     "metadata": {},
     "output_type": "execute_result"
    },
    {
     "data": {
      "text/plain": "<Figure size 640x480 with 0 Axes>"
     },
     "metadata": {},
     "output_type": "display_data"
    },
    {
     "data": {
      "text/plain": "<Figure size 618.25x500 with 1 Axes>",
      "image/png": "[encoded data removed]"
     },
     "metadata": {},
     "output_type": "display_data"
    }
   ],
   "source": [
    "df1 = pd.read_csv(\"../cache/TLN/fc_l=5.csv\")\n",
    "df2 = pd.read_csv(\"../cache/LDS/lr_data_fc_5_True.csv\")\n",
    "df2 = df2[df2[\"n\"] <= 100]\n",
    "df2[\"id\"] = \"LR (LDS)\"\n",
    "df = pd.concat((df1, df2))\n",
    "plot_metric(df, xcol=\"n\", ycol=\"loss\", ylabel=\"MSE / Embed. Dim.\", xlabel=r\"$n$ samples\")\n",
    "data = df2.groupby(\"n\")[\"loss\"].median()\n",
    "# plt.plot(data.index, data.values)\n",
    "plt.legend()\n",
    "plt.title(\"Fixed Complexity\")"
   ],
   "metadata": {
    "collapsed": false,
    "ExecuteTime": {
     "end_time": "2023-06-07T18:41:39.661988Z",
     "start_time": "2023-06-07T18:41:38.033475Z"
    }
   }
  },
  {
   "cell_type": "code",
   "execution_count": null,
   "outputs": [],
   "source": [
    "e# fig, axs = plt.subplots(1, 3, figsize=(20, 4))\n",
    "# df = pd.read_csv(\"../cache/TLN/fc_l=5.csv\")\n",
    "# df = df[df[\"loss\"] > 0]\n",
    "# g = sns.regplot(\n",
    "#     ax=axs[0],\n",
    "#     data=df,\n",
    "#     x=\"n\",\n",
    "#     y=\"loss\",\n",
    "#     label=\"LR (TLN)\",\n",
    "#     ci=50,\n",
    "#     scatter=False,\n",
    "#     robust=True,\n",
    "#     fit_reg=True\n",
    "#     # logx=True\n",
    "# )\n",
    "# df = pd.read_csv(\"../cache/LDS/lr_data_fc_5_True.csv\")\n",
    "# df = df[df[\"n\"] <= 100]\n",
    "# g = sns.regplot(\n",
    "#     ax=axs[0],\n",
    "#     data=df,\n",
    "#     x=\"n\",\n",
    "#     y=\"loss\",\n",
    "#     label=\"LR (TLN)\",\n",
    "#     ci=50,\n",
    "#     scatter=False,\n",
    "#     # robust=True,\n",
    "#     # fit_reg=True\n",
    "#     logx=True\n",
    "# )\n",
    "\n",
    "legend = axs[0].legend()\n",
    "axs[0].grid(visible=False)\n",
    "axs[0].set_xlabel(r\"$n$ samples\")\n",
    "axs[0].set_ylabel(\"MSE / Embed. Dim.\")\n",
    "axs[0].set_xscale('log')\n",
    "axs[0].set_yscale('log')\n",
    "axs[0].set_title(\"Fixed Complexity\")\n",
    "# plt.show()\n",
    "\n"
   ],
   "metadata": {
    "collapsed": false
   }
  }
 ],
 "metadata": {
  "kernelspec": {
   "display_name": "Python 3",
   "language": "python",
   "name": "python3"
  },
  "language_info": {
   "codemirror_mode": {
    "name": "ipython",
    "version": 2
   },
   "file_extension": ".py",
   "mimetype": "text/x-python",
   "name": "python",
   "nbconvert_exporter": "python",
   "pygments_lexer": "ipython2",
   "version": "2.7.6"
  }
 },
 "nbformat": 4,
 "nbformat_minor": 0
}
