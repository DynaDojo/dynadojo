{
 "cells": [
  {
   "cell_type": "code",
   "execution_count": 1,
   "outputs": [
    {
     "name": "stderr",
     "output_type": "stream",
     "text": [
      "2023-04-30 19:45:28.862925: I tensorflow/core/platform/cpu_feature_guard.cc:182] This TensorFlow binary is optimized to use available CPU instructions in performance-critical operations.\n",
      "To enable the following instructions: AVX2 AVX512F AVX512_VNNI FMA, in other operations, rebuild TensorFlow with the appropriate compiler flags.\n"
     ]
    }
   ],
   "source": [
    "import dynascale as ds"
   ],
   "metadata": {
    "collapsed": false,
    "ExecuteTime": {
     "end_time": "2023-05-01T02:45:32.517328Z",
     "start_time": "2023-05-01T02:45:23.323991Z"
    }
   }
  },
  {
   "cell_type": "code",
   "execution_count": null,
   "outputs": [
    {
     "name": "stdout",
     "output_type": "stream",
     "text": [
      "50/50 [==============================] - 1s 21ms/step - loss: 277288.5312\n",
      "50/50 [==============================] - 7s 135ms/step - loss: 55941436.0000 - reconstruction_loss: 225.0539 - state_prediction_loss: 43135036.0000 - linear_dynamics_loss: 55510076.0000 - infinity_norm: 128.0231\n",
      "50/50 [==============================] - 1s 27ms/step - loss: 51868.1250\n",
      "30/50 [=================>............] - ETA: 2s - loss: 40088312.0000 - reconstruction_loss: 207.7600 - state_prediction_loss: 42220504.0000 - linear_dynamics_loss: 39666096.0000 - infinity_norm: 119.4576"
     ]
    }
   ],
   "source": [
    "task = ds.Task(\n",
    "    N=[5000],\n",
    "    L=[2],\n",
    "    E=[4],\n",
    "    T=[5],\n",
    "    factory_cls=ds.lds.LDSFactory,\n",
    "    supepochs=2,\n",
    ")\n",
    "scores1 = task.evaluate(ds.baselines.NaiveLinearRegression)\n",
    "scores2 = task.evaluate(ds.baselines.Koopman)"
   ],
   "metadata": {
    "collapsed": false,
    "is_executing": true,
    "ExecuteTime": {
     "start_time": "2023-05-01T02:45:32.524143Z"
    }
   }
  },
  {
   "cell_type": "code",
   "execution_count": null,
   "metadata": {
    "collapsed": true,
    "is_executing": true
   },
   "outputs": [],
   "source": [
    "scores1"
   ]
  },
  {
   "cell_type": "code",
   "execution_count": null,
   "outputs": [],
   "source": [
    "scores2"
   ],
   "metadata": {
    "collapsed": false,
    "is_executing": true
   }
  }
 ],
 "metadata": {
  "kernelspec": {
   "display_name": "Python 3",
   "language": "python",
   "name": "python3"
  },
  "language_info": {
   "codemirror_mode": {
    "name": "ipython",
    "version": 2
   },
   "file_extension": ".py",
   "mimetype": "text/x-python",
   "name": "python",
   "nbconvert_exporter": "python",
   "pygments_lexer": "ipython2",
   "version": "2.7.6"
  }
 },
 "nbformat": 4,
 "nbformat_minor": 0
}
