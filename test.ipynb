{
 "cells": [
  {
   "cell_type": "code",
   "execution_count": 12,
   "outputs": [
    {
     "name": "stdout",
     "output_type": "stream",
     "text": [
      "The autoreload extension is already loaded. To reload it, use:\n",
      "  %reload_ext autoreload\n"
     ]
    }
   ],
   "source": [
    "%load_ext autoreload\n",
    "%autoreload 2"
   ],
   "metadata": {
    "collapsed": false,
    "ExecuteTime": {
     "end_time": "2023-05-01T02:51:56.264455Z",
     "start_time": "2023-05-01T02:51:56.213790Z"
    }
   }
  },
  {
   "cell_type": "code",
   "execution_count": 30,
   "outputs": [],
   "source": [
    "import dynascale as ds\n",
    "\n",
    "import matplotlib.pyplot as plt\n",
    "import pandas as pd"
   ],
   "metadata": {
    "collapsed": false,
    "ExecuteTime": {
     "end_time": "2023-05-01T04:16:40.464361Z",
     "start_time": "2023-05-01T04:16:39.929161Z"
    }
   }
  },
  {
   "cell_type": "code",
   "execution_count": 48,
   "outputs": [],
   "source": [
    "task = ds.Task(\n",
    "    N=[10],\n",
    "    L=[2],\n",
    "    E=[3],\n",
    "    T=[5],\n",
    "    factory_cls=ds.lds.LDSChallenge,\n",
    "    supepochs=2,\n",
    "    test_size=1,\n",
    "    trials=3,\n",
    ")"
   ],
   "metadata": {
    "collapsed": false,
    "ExecuteTime": {
     "end_time": "2023-05-01T04:58:29.474846Z",
     "start_time": "2023-05-01T04:58:29.412498Z"
    }
   }
  },
  {
   "cell_type": "code",
   "execution_count": 51,
   "metadata": {
    "collapsed": true,
    "ExecuteTime": {
     "end_time": "2023-05-01T05:13:08.292695Z",
     "start_time": "2023-05-01T05:13:05.612905Z"
    }
   },
   "outputs": [
    {
     "data": {
      "text/plain": "  0%|          | 0/3 [00:00<?, ?it/s]",
      "application/vnd.jupyter.widget-view+json": {
       "version_major": 2,
       "version_minor": 0,
       "model_id": "be34e2ad2a134f0a82b156c754a20b7f"
      }
     },
     "metadata": {},
     "output_type": "display_data"
    },
    {
     "ename": "ValueError",
     "evalue": "matmul: Input operand 1 has a mismatch in its core dimension 0, with gufunc signature (n?,k),(k,m?)->(n?,m?) (size 1 is different from 3)",
     "output_type": "error",
     "traceback": [
      "\u001B[0;31m---------------------------------------------------------------------------\u001B[0m",
      "\u001B[0;31mValueError\u001B[0m                                Traceback (most recent call last)",
      "Cell \u001B[0;32mIn[51], line 1\u001B[0m\n\u001B[0;32m----> 1\u001B[0m scores1 \u001B[38;5;241m=\u001B[39m \u001B[43mtask\u001B[49m\u001B[38;5;241;43m.\u001B[39;49m\u001B[43mevaluate\u001B[49m\u001B[43m(\u001B[49m\u001B[43mds\u001B[49m\u001B[38;5;241;43m.\u001B[39;49m\u001B[43mbaselines\u001B[49m\u001B[38;5;241;43m.\u001B[39;49m\u001B[43mNaiveLinearRegression\u001B[49m\u001B[43m)\u001B[49m\n\u001B[1;32m      2\u001B[0m scores1\n",
      "File \u001B[0;32m~/PycharmProjects/DynaScale/dynascale/abstractions.py:129\u001B[0m, in \u001B[0;36mTask.evaluate\u001B[0;34m(self, model_cls, in_dist, **kwargs)\u001B[0m\n\u001B[1;32m    127\u001B[0m     model\u001B[38;5;241m.\u001B[39mfit(x)\n\u001B[1;32m    128\u001B[0m     model\u001B[38;5;241m.\u001B[39mact(x)\n\u001B[0;32m--> 129\u001B[0m     pred \u001B[38;5;241m=\u001B[39m \u001B[43mmodel\u001B[49m\u001B[38;5;241;43m.\u001B[39;49m\u001B[43mpredict\u001B[49m\u001B[43m(\u001B[49m\u001B[43mtest\u001B[49m\u001B[43m[\u001B[49m\u001B[43m:\u001B[49m\u001B[43m,\u001B[49m\u001B[43m \u001B[49m\u001B[38;5;241;43m0\u001B[39;49m\u001B[43m]\u001B[49m\u001B[43m,\u001B[49m\u001B[43m \u001B[49m\u001B[43mtimesteps\u001B[49m\u001B[43m)\u001B[49m\n\u001B[1;32m    130\u001B[0m     err \u001B[38;5;241m=\u001B[39m factory\u001B[38;5;241m.\u001B[39mcalc_error(pred, test)\n\u001B[1;32m    131\u001B[0m data[\u001B[38;5;124m\"\u001B[39m\u001B[38;5;124mn\u001B[39m\u001B[38;5;124m\"\u001B[39m]\u001B[38;5;241m.\u001B[39mappend(n)\n",
      "File \u001B[0;32m~/PycharmProjects/DynaScale/dynascale/baselines/lr.py:18\u001B[0m, in \u001B[0;36mNaiveLinearRegression.predict\u001B[0;34m(self, x0, timesteps, **kwargs)\u001B[0m\n\u001B[1;32m     16\u001B[0m preds \u001B[38;5;241m=\u001B[39m [x0]\n\u001B[1;32m     17\u001B[0m \u001B[38;5;28;01mfor\u001B[39;00m _ \u001B[38;5;129;01min\u001B[39;00m \u001B[38;5;28mrange\u001B[39m(timesteps \u001B[38;5;241m-\u001B[39m \u001B[38;5;241m1\u001B[39m):  \u001B[38;5;66;03m# TODO: add general extensions for timesteps that are longer or shorter\u001B[39;00m\n\u001B[0;32m---> 18\u001B[0m     xi \u001B[38;5;241m=\u001B[39m \u001B[38;5;28;43mself\u001B[39;49m\u001B[38;5;241;43m.\u001B[39;49m\u001B[43mexp_At\u001B[49m\u001B[43m \u001B[49m\u001B[38;5;241;43m@\u001B[39;49m\u001B[43m \u001B[49m\u001B[43mpreds\u001B[49m\u001B[43m[\u001B[49m\u001B[38;5;241;43m-\u001B[39;49m\u001B[38;5;241;43m1\u001B[39;49m\u001B[43m]\u001B[49m\u001B[38;5;241;43m.\u001B[39;49m\u001B[43mT\u001B[49m\n\u001B[1;32m     19\u001B[0m     preds\u001B[38;5;241m.\u001B[39mappend(xi)\n\u001B[1;32m     20\u001B[0m preds \u001B[38;5;241m=\u001B[39m np\u001B[38;5;241m.\u001B[39marray(preds)\n",
      "\u001B[0;31mValueError\u001B[0m: matmul: Input operand 1 has a mismatch in its core dimension 0, with gufunc signature (n?,k),(k,m?)->(n?,m?) (size 1 is different from 3)"
     ]
    }
   ],
   "source": [
    "scores1 = task.evaluate(ds.baselines.NaiveLinearRegression)\n",
    "scores1"
   ]
  },
  {
   "cell_type": "code",
   "execution_count": 40,
   "outputs": [
    {
     "data": {
      "text/plain": "  0%|          | 0/3 [00:00<?, ?it/s]",
      "application/vnd.jupyter.widget-view+json": {
       "version_major": 2,
       "version_minor": 0,
       "model_id": "0794b92daf5e44519cd97b491880b341"
      }
     },
     "metadata": {},
     "output_type": "display_data"
    },
    {
     "name": "stdout",
     "output_type": "stream",
     "text": [
      "1/1 [==============================] - 0s 41ms/step - loss: 4617476243456.0000\n",
      "1/1 [==============================] - 0s 155ms/step - loss: 7050706288640.0000 - reconstruction_loss: 4359.1948 - state_prediction_loss: 51347554566144.0000 - linear_dynamics_loss: 6537230680064.0000 - infinity_norm: 1213.9512\n",
      "1/1 [==============================] - 0s 24ms/step - loss: 4548676026368.0000\n",
      "1/1 [==============================] - 0s 137ms/step - loss: 6658661548032.0000 - reconstruction_loss: 4334.5732 - state_prediction_loss: 51347407765504.0000 - linear_dynamics_loss: 6145187512320.0000 - infinity_norm: 1209.8433\n",
      "1/1 [==============================] - 0s 41ms/step - loss: 912.8810\n",
      "1/1 [==============================] - 0s 159ms/step - loss: 38633.1055 - reconstruction_loss: 3425.1284 - state_prediction_loss: 9818.2441 - linear_dynamics_loss: 38498.3438 - infinity_norm: 190.3601\n",
      "1/1 [==============================] - 0s 26ms/step - loss: 899.6686\n",
      "1/1 [==============================] - 0s 151ms/step - loss: 34149.4844 - reconstruction_loss: 3362.7710 - state_prediction_loss: 9548.5557 - linear_dynamics_loss: 34018.0508 - infinity_norm: 189.5242\n",
      "1/1 [==============================] - 0s 37ms/step - loss: 143.5339\n",
      "1/1 [==============================] - 0s 151ms/step - loss: 11768.3135 - reconstruction_loss: 508.4194 - state_prediction_loss: 1774.8516 - linear_dynamics_loss: 11744.1201 - infinity_norm: 96.8036\n",
      "1/1 [==============================] - 0s 26ms/step - loss: 142.8171\n",
      "1/1 [==============================] - 0s 221ms/step - loss: 9797.8818 - reconstruction_loss: 506.8916 - state_prediction_loss: 1690.0852 - linear_dynamics_loss: 9774.5596 - infinity_norm: 96.2207\n",
      "1/1 [==============================] - 0s 50ms/step - loss: 12329.6250\n",
      "1/1 [==============================] - 0s 158ms/step - loss: 191434.4688 - reconstruction_loss: 1990.3392 - state_prediction_loss: 170187.7500 - linear_dynamics_loss: 189709.9688 - infinity_norm: 228.8960\n",
      "1/1 [==============================] - 0s 30ms/step - loss: 12271.8193\n",
      "1/1 [==============================] - 0s 257ms/step - loss: 185268.5625 - reconstruction_loss: 1977.7643 - state_prediction_loss: 166839.3750 - linear_dynamics_loss: 183577.6719 - infinity_norm: 228.2619\n",
      "1/1 [==============================] - 0s 38ms/step - loss: 172.7329\n",
      "1/1 [==============================] - 0s 154ms/step - loss: 2525.1802 - reconstruction_loss: 732.0988 - state_prediction_loss: 2003.5625 - linear_dynamics_loss: 2496.6921 - infinity_norm: 73.8022\n",
      "1/1 [==============================] - 0s 24ms/step - loss: 172.3963\n",
      "1/1 [==============================] - 0s 136ms/step - loss: 2353.1863 - reconstruction_loss: 730.7997 - state_prediction_loss: 1974.1062 - linear_dynamics_loss: 2325.0083 - infinity_norm: 73.7335\n",
      "1/1 [==============================] - 0s 38ms/step - loss: 99541184.0000\n",
      "1/1 [==============================] - 0s 150ms/step - loss: 32333772.0000 - reconstruction_loss: 2243.1187 - state_prediction_loss: 1002283520.0000 - linear_dynamics_loss: 22310910.0000 - infinity_norm: 449.9530\n",
      "1/1 [==============================] - 0s 29ms/step - loss: 99241592.0000\n",
      "1/1 [==============================] - 0s 145ms/step - loss: 30824016.0000 - reconstruction_loss: 2255.1958 - state_prediction_loss: 1002262912.0000 - linear_dynamics_loss: 20801362.0000 - infinity_norm: 449.2604\n"
     ]
    },
    {
     "data": {
      "text/plain": "    n  latent_dim  embed_dim  timesteps         error\n0  10           2          4          5  9.330843e+11\n1  10           3          4          5  7.851484e+02\n2  10           2          4          5  3.148456e+02\n3  10           3          4          5  9.368499e+03\n4  10           2          4          5  3.061864e+02\n5  10           3          4          5  1.555002e+08",
      "text/html": "<div>\n<style scoped>\n    .dataframe tbody tr th:only-of-type {\n        vertical-align: middle;\n    }\n\n    .dataframe tbody tr th {\n        vertical-align: top;\n    }\n\n    .dataframe thead th {\n        text-align: right;\n    }\n</style>\n<table border=\"1\" class=\"dataframe\">\n  <thead>\n    <tr style=\"text-align: right;\">\n      <th></th>\n      <th>n</th>\n      <th>latent_dim</th>\n      <th>embed_dim</th>\n      <th>timesteps</th>\n      <th>error</th>\n    </tr>\n  </thead>\n  <tbody>\n    <tr>\n      <th>0</th>\n      <td>10</td>\n      <td>2</td>\n      <td>4</td>\n      <td>5</td>\n      <td>9.330843e+11</td>\n    </tr>\n    <tr>\n      <th>1</th>\n      <td>10</td>\n      <td>3</td>\n      <td>4</td>\n      <td>5</td>\n      <td>7.851484e+02</td>\n    </tr>\n    <tr>\n      <th>2</th>\n      <td>10</td>\n      <td>2</td>\n      <td>4</td>\n      <td>5</td>\n      <td>3.148456e+02</td>\n    </tr>\n    <tr>\n      <th>3</th>\n      <td>10</td>\n      <td>3</td>\n      <td>4</td>\n      <td>5</td>\n      <td>9.368499e+03</td>\n    </tr>\n    <tr>\n      <th>4</th>\n      <td>10</td>\n      <td>2</td>\n      <td>4</td>\n      <td>5</td>\n      <td>3.061864e+02</td>\n    </tr>\n    <tr>\n      <th>5</th>\n      <td>10</td>\n      <td>3</td>\n      <td>4</td>\n      <td>5</td>\n      <td>1.555002e+08</td>\n    </tr>\n  </tbody>\n</table>\n</div>"
     },
     "execution_count": 40,
     "metadata": {},
     "output_type": "execute_result"
    }
   ],
   "source": [
    "scores2 = task.evaluate(ds.baselines.Koopman)\n",
    "scores2"
   ],
   "metadata": {
    "collapsed": false,
    "ExecuteTime": {
     "end_time": "2023-05-01T04:29:16.593209Z",
     "start_time": "2023-05-01T04:28:59.308615Z"
    }
   }
  },
  {
   "cell_type": "code",
   "execution_count": 26,
   "outputs": [
    {
     "ename": "AttributeError",
     "evalue": "module 'dynascale.baselines' has no attribute 'TommyLinearRegression'",
     "output_type": "error",
     "traceback": [
      "\u001B[0;31m---------------------------------------------------------------------------\u001B[0m",
      "\u001B[0;31mAttributeError\u001B[0m                            Traceback (most recent call last)",
      "Cell \u001B[0;32mIn[26], line 1\u001B[0m\n\u001B[0;32m----> 1\u001B[0m scores3 \u001B[38;5;241m=\u001B[39m task\u001B[38;5;241m.\u001B[39mevaluate(\u001B[43mds\u001B[49m\u001B[38;5;241;43m.\u001B[39;49m\u001B[43mbaselines\u001B[49m\u001B[38;5;241;43m.\u001B[39;49m\u001B[43mTommyLinearRegression\u001B[49m, trials\u001B[38;5;241m=\u001B[39m\u001B[38;5;241m3\u001B[39m)\n\u001B[1;32m      2\u001B[0m scores3\n",
      "\u001B[0;31mAttributeError\u001B[0m: module 'dynascale.baselines' has no attribute 'TommyLinearRegression'"
     ]
    }
   ],
   "source": [
    "# scores3 = task.evaluate(ds.baselines.TommyLinearRegression, trials=3)\n",
    "# scores3"
   ],
   "metadata": {
    "collapsed": false,
    "ExecuteTime": {
     "end_time": "2023-05-01T03:06:52.543609Z",
     "start_time": "2023-05-01T03:06:52.470284Z"
    }
   }
  },
  {
   "cell_type": "code",
   "execution_count": 29,
   "outputs": [
    {
     "data": {
      "text/plain": "<module 'dynascale.baselines' from '/Users/logan/PycharmProjects/DynaScale/dynascale/baselines/__init__.py'>"
     },
     "execution_count": 29,
     "metadata": {},
     "output_type": "execute_result"
    }
   ],
   "source": [
    "ds.baselines"
   ],
   "metadata": {
    "collapsed": false,
    "ExecuteTime": {
     "end_time": "2023-05-01T03:07:08.999256Z",
     "start_time": "2023-05-01T03:07:08.923861Z"
    }
   }
  },
  {
   "cell_type": "code",
   "execution_count": 17,
   "outputs": [
    {
     "data": {
      "text/plain": "<Figure size 500x500 with 1 Axes>",
      "image/png": "[encoded data removed]"
     },
     "metadata": {},
     "output_type": "display_data"
    }
   ],
   "source": [
    "ds.utils.plotting.plotMetric(scores1, \"latent_dim\", \"score\")"
   ],
   "metadata": {
    "collapsed": false,
    "ExecuteTime": {
     "end_time": "2023-05-01T02:59:45.946201Z",
     "start_time": "2023-05-01T02:59:45.634510Z"
    }
   }
  },
  {
   "cell_type": "code",
   "execution_count": 22,
   "outputs": [
    {
     "data": {
      "text/plain": "<Figure size 620.25x500 with 1 Axes>",
      "image/png": "[encoded data removed]"
     },
     "metadata": {},
     "output_type": "display_data"
    }
   ],
   "source": [
    "scores1[\"label\"] = \"LR\"\n",
    "scores2[\"label\"] = \"Koopman\"\n",
    "df = pd.concat([scores1, scores2])\n",
    "ds.utils.plotting.plotMetric(df, \"latent_dim\", \"score\", \"label\")"
   ],
   "metadata": {
    "collapsed": false,
    "ExecuteTime": {
     "end_time": "2023-05-01T03:04:30.545364Z",
     "start_time": "2023-05-01T03:04:30.128756Z"
    }
   }
  }
 ],
 "metadata": {
  "kernelspec": {
   "display_name": "Python 3",
   "language": "python",
   "name": "python3"
  },
  "language_info": {
   "codemirror_mode": {
    "name": "ipython",
    "version": 2
   },
   "file_extension": ".py",
   "mimetype": "text/x-python",
   "name": "python",
   "nbconvert_exporter": "python",
   "pygments_lexer": "ipython2",
   "version": "2.7.6"
  }
 },
 "nbformat": 4,
 "nbformat_minor": 0
}
