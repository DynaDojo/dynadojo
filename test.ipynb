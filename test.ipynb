{
  "cells": [
    {
      "cell_type": "code",
      "execution_count": 265,
      "metadata": {
        "ExecuteTime": {
          "end_time": "2023-05-01T02:51:56.264455Z",
          "start_time": "2023-05-01T02:51:56.213790Z"
        },
        "collapsed": false
      },
      "outputs": [
        {
          "name": "stdout",
          "output_type": "stream",
          "text": [
            "The autoreload extension is already loaded. To reload it, use:\n",
            "  %reload_ext autoreload\n"
          ]
        }
      ],
      "source": [
        "%load_ext autoreload\n",
        "%autoreload 2"
      ]
    },
    {
      "cell_type": "code",
      "execution_count": 261,
      "metadata": {
        "ExecuteTime": {
          "end_time": "2023-05-01T04:16:40.464361Z",
          "start_time": "2023-05-01T04:16:39.929161Z"
        },
        "collapsed": false
      },
      "outputs": [],
      "source": [
        "import dynascale as ds\n",
        "from dynascale.baselines.lr import NaiveLinearRegression\n",
        "from dynascale.baselines.tommylr import TommyLinearRegression\n",
        "from dynascale.baselines.koopman import Koopman\n",
        "\n",
        "\n",
        "\n",
        "import matplotlib.pyplot as plt\n",
        "import pandas as pd"
      ]
    },
    {
      "cell_type": "code",
      "execution_count": 262,
      "metadata": {
        "ExecuteTime": {
          "end_time": "2023-05-01T04:58:29.474846Z",
          "start_time": "2023-05-01T04:58:29.412498Z"
        },
        "collapsed": false
      },
      "outputs": [],
      "source": [
        "task = ds.Task(\n",
        "    N=[10],\n",
        "    L=[2, 3, 4],\n",
        "    E=[3],\n",
        "    T=[5],\n",
        "    factory_cls=ds.LDSChallenge,\n",
        "    supepochs=2,\n",
        "    test_size=1,\n",
        "    trials=5,\n",
        ")"
      ]
    },
    {
      "cell_type": "code",
      "execution_count": 263,
      "metadata": {
        "ExecuteTime": {
          "end_time": "2023-05-01T05:13:08.292695Z",
          "start_time": "2023-05-01T05:13:05.612905Z"
        },
        "collapsed": true
      },
      "outputs": [
        {
          "name": "stderr",
          "output_type": "stream",
          "text": [
            "                                                                                                        \r"
          ]
        }
      ],
      "source": [
        "scores1 = task.evaluate(NaiveLinearRegression)"
      ]
    },
    {
      "cell_type": "code",
      "execution_count": 258,
      "metadata": {
        "ExecuteTime": {
          "end_time": "2023-05-01T04:29:16.593209Z",
          "start_time": "2023-05-01T04:28:59.308615Z"
        },
        "collapsed": false
      },
      "outputs": [
        {
          "name": "stderr",
          "output_type": "stream",
          "text": [
            "Trial 0/5: n=10, latent_dim=2, embed_dim=3, timesteps=5:   0%|          | 0/15 [00:00<?, ?it/s]"
          ]
        },
        {
          "name": "stdout",
          "output_type": "stream",
          "text": [
            "1/1 [==============================] - 0s 52ms/step - loss: 204.6098\n",
            "1/1 [==============================] - 0s 221ms/step - loss: 733473.3125 - reconstruction_loss: 999.3097 - state_prediction_loss: 223209.0312 - linear_dynamics_loss: 731230.0000 - infinity_norm: 88.2743\n",
            "1/1 [==============================] - 0s 32ms/step - loss: 203.0236\n",
            "1/1 [==============================] - 0s 181ms/step - loss: 673967.8750 - reconstruction_loss: 991.7719 - state_prediction_loss: 195931.5312 - linear_dynamics_loss: 671997.3750 - infinity_norm: 87.5732\n"
          ]
        },
        {
          "name": "stderr",
          "output_type": "stream",
          "text": [
            "Trial 0/5: n=10, latent_dim=3, embed_dim=3, timesteps=5:   7%|▋         | 1/15 [00:02<00:41,  2.99s/it]"
          ]
        },
        {
          "name": "stdout",
          "output_type": "stream",
          "text": [
            "1/1 [==============================] - 0s 43ms/step - loss: 11114706370560.0000\n",
            "1/1 [==============================] - 0s 218ms/step - loss: 30191493578752.0000 - reconstruction_loss: 1172.9514 - state_prediction_loss: 147605845704704.0000 - linear_dynamics_loss: 28715434115072.0000 - infinity_norm: 2196.8003\n",
            "1/1 [==============================] - 0s 29ms/step - loss: 10977294680064.0000\n",
            "1/1 [==============================] - 0s 190ms/step - loss: 30074455719936.0000 - reconstruction_loss: 1160.3766 - state_prediction_loss: 147605845704704.0000 - linear_dynamics_loss: 28598396256256.0000 - infinity_norm: 2195.9846\n"
          ]
        },
        {
          "name": "stderr",
          "output_type": "stream",
          "text": [
            "Trial 1/5: n=10, latent_dim=2, embed_dim=3, timesteps=5:  13%|█▎        | 2/15 [00:05<00:38,  2.96s/it]"
          ]
        },
        {
          "name": "stdout",
          "output_type": "stream",
          "text": [
            "1/1 [==============================] - 0s 44ms/step - loss: 17683.5938\n",
            "1/1 [==============================] - 0s 196ms/step - loss: 16798.1562 - reconstruction_loss: 2109.8091 - state_prediction_loss: 173197.7500 - linear_dynamics_loss: 15042.2422 - infinity_norm: 246.8144\n",
            "1/1 [==============================] - 0s 31ms/step - loss: 17630.5742\n",
            "1/1 [==============================] - 0s 171ms/step - loss: 15442.9805 - reconstruction_loss: 2101.2046 - state_prediction_loss: 173231.2500 - linear_dynamics_loss: 13686.8223 - infinity_norm: 246.7214\n"
          ]
        },
        {
          "name": "stderr",
          "output_type": "stream",
          "text": [
            "Trial 1/5: n=10, latent_dim=3, embed_dim=3, timesteps=5:  20%|██        | 3/15 [00:08<00:34,  2.84s/it]"
          ]
        },
        {
          "name": "stdout",
          "output_type": "stream",
          "text": [
            "1/1 [==============================] - 0s 44ms/step - loss: 27856168960.0000\n",
            "1/1 [==============================] - 0s 195ms/step - loss: 20556036096.0000 - reconstruction_loss: 2270.8210 - state_prediction_loss: 266322919424.0000 - linear_dynamics_loss: 17892806656.0000 - infinity_norm: 1001.9547\n",
            "1/1 [==============================] - 0s 33ms/step - loss: 27458691072.0000\n",
            "1/1 [==============================] - 0s 168ms/step - loss: 19368218624.0000 - reconstruction_loss: 2261.9360 - state_prediction_loss: 266322739200.0000 - linear_dynamics_loss: 16704990208.0000 - infinity_norm: 1001.2433\n"
          ]
        },
        {
          "name": "stderr",
          "output_type": "stream",
          "text": [
            "Trial 2/5: n=10, latent_dim=2, embed_dim=3, timesteps=5:  27%|██▋       | 4/15 [00:11<00:30,  2.75s/it]"
          ]
        },
        {
          "name": "stdout",
          "output_type": "stream",
          "text": [
            "1/1 [==============================] - 0s 45ms/step - loss: 1391.5916\n",
            "1/1 [==============================] - 0s 196ms/step - loss: 20161874.0000 - reconstruction_loss: 6134.4067 - state_prediction_loss: 2103042.0000 - linear_dynamics_loss: 20140780.0000 - infinity_norm: 287.6997\n",
            "1/1 [==============================] - 0s 30ms/step - loss: 1375.4355\n",
            "1/1 [==============================] - 0s 171ms/step - loss: 18676800.0000 - reconstruction_loss: 6064.2188 - state_prediction_loss: 1879175.2500 - linear_dynamics_loss: 18657946.0000 - infinity_norm: 280.4667\n"
          ]
        },
        {
          "name": "stderr",
          "output_type": "stream",
          "text": [
            "Trial 2/5: n=10, latent_dim=3, embed_dim=3, timesteps=5:  33%|███▎      | 5/15 [00:13<00:27,  2.70s/it]"
          ]
        },
        {
          "name": "stdout",
          "output_type": "stream",
          "text": [
            "1/1 [==============================] - 0s 50ms/step - loss: 45814865920.0000\n",
            "1/1 [==============================] - 0s 217ms/step - loss: 51129991168.0000 - reconstruction_loss: 1541.1882 - state_prediction_loss: 397546684416.0000 - linear_dynamics_loss: 47154524160.0000 - infinity_norm: 960.8358\n",
            "1/1 [==============================] - 0s 39ms/step - loss: 45334290432.0000\n",
            "1/1 [==============================] - 0s 310ms/step - loss: 48907206656.0000 - reconstruction_loss: 1536.0852 - state_prediction_loss: 397528072192.0000 - linear_dynamics_loss: 44931928064.0000 - infinity_norm: 959.2885\n"
          ]
        },
        {
          "name": "stderr",
          "output_type": "stream",
          "text": [
            "Trial 3/5: n=10, latent_dim=2, embed_dim=3, timesteps=5:  40%|████      | 6/15 [00:17<00:26,  3.00s/it]"
          ]
        },
        {
          "name": "stdout",
          "output_type": "stream",
          "text": [
            "1/1 [==============================] - 0s 46ms/step - loss: 2131605120.0000\n",
            "1/1 [==============================] - 0s 222ms/step - loss: 1868246016.0000 - reconstruction_loss: 2543.9077 - state_prediction_loss: 20058904576.0000 - linear_dynamics_loss: 1667656960.0000 - infinity_norm: 670.6264\n",
            "1/1 [==============================] - 0s 33ms/step - loss: 2117120384.0000\n",
            "1/1 [==============================] - 0s 180ms/step - loss: 1779360000.0000 - reconstruction_loss: 2545.1646 - state_prediction_loss: 20058906624.0000 - linear_dynamics_loss: 1578770944.0000 - infinity_norm: 670.4999\n"
          ]
        },
        {
          "name": "stderr",
          "output_type": "stream",
          "text": [
            "Trial 3/5: n=10, latent_dim=3, embed_dim=3, timesteps=5:  47%|████▋     | 7/15 [00:20<00:24,  3.03s/it]"
          ]
        },
        {
          "name": "stdout",
          "output_type": "stream",
          "text": [
            "1/1 [==============================] - 0s 51ms/step - loss: 14283.4971\n",
            "1/1 [==============================] - 0s 207ms/step - loss: 136075.2188 - reconstruction_loss: 2555.9805 - state_prediction_loss: 148572.3906 - linear_dynamics_loss: 134561.3906 - infinity_norm: 215.8681\n",
            "1/1 [==============================] - 0s 34ms/step - loss: 14168.7910\n",
            "1/1 [==============================] - 0s 201ms/step - loss: 126792.0000 - reconstruction_loss: 2549.9373 - state_prediction_loss: 148349.2188 - linear_dynamics_loss: 125280.4531 - infinity_norm: 215.6572\n"
          ]
        },
        {
          "name": "stderr",
          "output_type": "stream",
          "text": [
            "Trial 4/5: n=10, latent_dim=2, embed_dim=3, timesteps=5:  53%|█████▎    | 8/15 [00:23<00:20,  2.97s/it]"
          ]
        },
        {
          "name": "stdout",
          "output_type": "stream",
          "text": [
            "1/1 [==============================] - 0s 53ms/step - loss: 83402792960.0000\n",
            "1/1 [==============================] - 0s 221ms/step - loss: 38574338048.0000 - reconstruction_loss: 2977.6157 - state_prediction_loss: 836773150720.0000 - linear_dynamics_loss: 30206607360.0000 - infinity_norm: 606.4409\n",
            "1/1 [==============================] - 0s 31ms/step - loss: 83327746048.0000\n",
            "1/1 [==============================] - 0s 211ms/step - loss: 37038616576.0000 - reconstruction_loss: 2976.1038 - state_prediction_loss: 836771708928.0000 - linear_dynamics_loss: 28670898176.0000 - infinity_norm: 606.2791\n"
          ]
        },
        {
          "name": "stderr",
          "output_type": "stream",
          "text": [
            "Trial 4/5: n=10, latent_dim=3, embed_dim=3, timesteps=5:  60%|██████    | 9/15 [00:26<00:17,  2.92s/it]"
          ]
        },
        {
          "name": "stdout",
          "output_type": "stream",
          "text": [
            "1/1 [==============================] - 0s 46ms/step - loss: 419639492608.0000\n",
            "1/1 [==============================] - 0s 207ms/step - loss: 81154957312.0000 - reconstruction_loss: 642.4067 - state_prediction_loss: 4191209914368.0000 - linear_dynamics_loss: 39242858496.0000 - infinity_norm: 931.7783\n",
            "1/1 [==============================] - 0s 33ms/step - loss: 419139158016.0000\n",
            "1/1 [==============================] - 0s 180ms/step - loss: 79194750976.0000 - reconstruction_loss: 641.2521 - state_prediction_loss: 4191209914368.0000 - linear_dynamics_loss: 37282648064.0000 - infinity_norm: 931.8004\n"
          ]
        },
        {
          "name": "stderr",
          "output_type": "stream",
          "text": [
            "                                                                                                        \r"
          ]
        }
      ],
      "source": [
        "scores2 = task.evaluate(Koopman)"
      ]
    },
    {
      "cell_type": "code",
      "execution_count": null,
      "metadata": {},
      "outputs": [],
      "source": [
        "scores3 = task.evaluate(TommyLinearRegression)"
      ]
    },
    {
      "cell_type": "code",
      "execution_count": 266,
      "metadata": {},
      "outputs": [
        {
          "data": {
            "text/plain": [
              "<Figure size 640x480 with 0 Axes>"
            ]
          },
          "metadata": {},
          "output_type": "display_data"
        },
        {
          "data": {
            "image/png": "[encoded data removed]",
            "text/plain": [
              "<Figure size 620.25x500 with 1 Axes>"
            ]
          },
          "metadata": {},
          "output_type": "display_data"
        }
      ],
      "source": [
        "ds.plotting.plot_metric([scores1, scores2], labels=[\"LR\", \"Koopman\"], x_col=\"latent_dim\", y_col=\"error\")"
      ]
    },
    {
      "cell_type": "code",
      "execution_count": 267,
      "metadata": {
        "ExecuteTime": {
          "end_time": "2023-05-01T02:59:45.946201Z",
          "start_time": "2023-05-01T02:59:45.634510Z"
        },
        "collapsed": false
      },
      "outputs": [
        {
          "name": "stdout",
          "output_type": "stream",
          "text": [
            "        id  latent_dim   n         error\n",
            "0  Koopman           2  10  3.423720e+10\n",
            "1  Koopman           3  10  3.235509e+12\n",
            "2       LR           2  10  6.851408e+09\n",
            "3       LR           3  10  1.742279e+16\n"
          ]
        },
        {
          "data": {
            "text/plain": [
              "<Figure size 640x480 with 0 Axes>"
            ]
          },
          "metadata": {},
          "output_type": "display_data"
        },
        {
          "data": {
            "image/png": "[encoded data removed]",
            "text/plain": [
              "<Figure size 620.25x500 with 1 Axes>"
            ]
          },
          "metadata": {},
          "output_type": "display_data"
        }
      ],
      "source": [
        "ds.plotting.plot_target_error([scores1, scores2], labels=[\"LR\", \"Koopman\"], x_col=\"latent_dim\", y_col=\"n\", target_error=1.968312e+24)"
      ]
    },
    {
      "cell_type": "code",
      "execution_count": 220,
      "metadata": {
        "ExecuteTime": {
          "end_time": "2023-05-01T03:04:30.545364Z",
          "start_time": "2023-05-01T03:04:30.128756Z"
        },
        "collapsed": false
      },
      "outputs": [
        {
          "name": "stdout",
          "output_type": "stream",
          "text": [
            "    n  latent_dim  embed_dim  timesteps         error  id    label\n",
            "0  10           2          3          5  2.778133e+07   2       LR\n",
            "1  10           3          3          5  1.208213e+01   2       LR\n",
            "2  10           2          3          5  9.594234e+07   2       LR\n",
            "3  10           3          3          5  2.515851e+11   2       LR\n",
            "4  10           2          3          5  5.781213e+09   2       LR\n",
            "5  10           3          3          5  4.449478e+04   2       LR\n",
            "0  10           2          3          5  1.642646e+04   5  Koopman\n",
            "1  10           3          3          5  6.542932e+09   5  Koopman\n",
            "2  10           2          3          5  3.003988e+03   5  Koopman\n",
            "3  10           3          3          5  6.841369e+06   5  Koopman\n",
            "4  10           2          3          5  3.845482e+04   5  Koopman\n",
            "5  10           3          3          5  1.485724e+05   5  Koopman\n"
          ]
        },
        {
          "data": {
            "text/plain": [
              "<Figure size 640x480 with 0 Axes>"
            ]
          },
          "metadata": {},
          "output_type": "display_data"
        },
        {
          "data": {
            "image/png": "[encoded data removed]",
            "text/plain": [
              "<Figure size 620.25x500 with 1 Axes>"
            ]
          },
          "metadata": {},
          "output_type": "display_data"
        }
      ],
      "source": [
        "scores1[\"label\"] = \"LR\"\n",
        "scores2[\"label\"] = \"Koopman\"\n",
        "ds.plotting.plot_metric([scores1, scores2], \"latent_dim\", \"error\", hue=\"label\")"
      ]
    }
  ],
  "metadata": {
    "kernelspec": {
      "display_name": "Python 3",
      "language": "python",
      "name": "python3"
    },
    "language_info": {
      "codemirror_mode": {
        "name": "ipython",
        "version": 3
      },
      "file_extension": ".py",
      "mimetype": "text/x-python",
      "name": "python",
      "nbconvert_exporter": "python",
      "pygments_lexer": "ipython3",
      "version": "3.10.10"
    },
    "vscode": {
      "interpreter": {
        "hash": "aee8b7b246df8f9039afb4144a1f6fd8d2ca17a180786b69acc140d282b71a49"
      }
    }
  },
  "nbformat": 4,
  "nbformat_minor": 0
}
