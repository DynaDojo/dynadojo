{
 "cells": [
  {
   "cell_type": "code",
   "execution_count": 66,
   "outputs": [
    {
     "name": "stdout",
     "output_type": "stream",
     "text": [
      "The autoreload extension is already loaded. To reload it, use:\n",
      "  %reload_ext autoreload\n"
     ]
    }
   ],
   "source": [
    "%load_ext autoreload\n",
    "%autoreload 2"
   ],
   "metadata": {
    "collapsed": false,
    "ExecuteTime": {
     "end_time": "2023-05-07T23:26:20.013983Z",
     "start_time": "2023-05-07T23:26:19.904611Z"
    }
   }
  },
  {
   "cell_type": "code",
   "execution_count": 67,
   "outputs": [],
   "source": [
    "import dynascale as ds\n",
    "from dynascale.baselines.lr import NaiveLinearRegression\n",
    "from dynascale.baselines.koopman import Koopman\n",
    "\n",
    "\n",
    "import matplotlib.pyplot as plt\n",
    "import pandas as pd"
   ],
   "metadata": {
    "collapsed": false,
    "ExecuteTime": {
     "end_time": "2023-05-07T23:26:21.416327Z",
     "start_time": "2023-05-07T23:26:21.350569Z"
    }
   }
  },
  {
   "cell_type": "code",
   "execution_count": 68,
   "outputs": [],
   "source": [
    "task = ds.Task(\n",
    "    N=[10],\n",
    "    L=[2],\n",
    "    E=[3],\n",
    "    T=[5],\n",
    "    factory_cls=ds.LDSChallenge,\n",
    "    supepochs=2,\n",
    "    test_size=1,\n",
    "    trials=3,\n",
    ")"
   ],
   "metadata": {
    "collapsed": false,
    "ExecuteTime": {
     "end_time": "2023-05-07T23:26:22.747814Z",
     "start_time": "2023-05-07T23:26:22.675160Z"
    }
   }
  },
  {
   "cell_type": "code",
   "execution_count": 69,
   "metadata": {
    "collapsed": true,
    "ExecuteTime": {
     "end_time": "2023-05-07T23:26:24.533068Z",
     "start_time": "2023-05-07T23:26:24.270159Z"
    }
   },
   "outputs": [
    {
     "data": {
      "text/plain": "  0%|          | 0/3 [00:00<?, ?it/s]",
      "application/vnd.jupyter.widget-view+json": {
       "version_major": 2,
       "version_minor": 0,
       "model_id": "42a96cc7b3b5421e8290b9e5facaeb25"
      }
     },
     "metadata": {},
     "output_type": "display_data"
    },
    {
     "data": {
      "text/plain": "    n  latent_dim  embed_dim  timesteps         error  id\n0  10           2          3          5  1.625076e+02   2\n1  10           2          3          5  1.033361e+06   2\n2  10           2          3          5  1.643066e+08   2",
      "text/html": "<div>\n<style scoped>\n    .dataframe tbody tr th:only-of-type {\n        vertical-align: middle;\n    }\n\n    .dataframe tbody tr th {\n        vertical-align: top;\n    }\n\n    .dataframe thead th {\n        text-align: right;\n    }\n</style>\n<table border=\"1\" class=\"dataframe\">\n  <thead>\n    <tr style=\"text-align: right;\">\n      <th></th>\n      <th>n</th>\n      <th>latent_dim</th>\n      <th>embed_dim</th>\n      <th>timesteps</th>\n      <th>error</th>\n      <th>id</th>\n    </tr>\n  </thead>\n  <tbody>\n    <tr>\n      <th>0</th>\n      <td>10</td>\n      <td>2</td>\n      <td>3</td>\n      <td>5</td>\n      <td>1.625076e+02</td>\n      <td>2</td>\n    </tr>\n    <tr>\n      <th>1</th>\n      <td>10</td>\n      <td>2</td>\n      <td>3</td>\n      <td>5</td>\n      <td>1.033361e+06</td>\n      <td>2</td>\n    </tr>\n    <tr>\n      <th>2</th>\n      <td>10</td>\n      <td>2</td>\n      <td>3</td>\n      <td>5</td>\n      <td>1.643066e+08</td>\n      <td>2</td>\n    </tr>\n  </tbody>\n</table>\n</div>"
     },
     "execution_count": 69,
     "metadata": {},
     "output_type": "execute_result"
    }
  },
  "nbformat": 4,
  "nbformat_minor": 0
}
