{
 "cells": [
  {
   "cell_type": "code",
   "execution_count": 1,
   "outputs": [],
   "source": [
    "%load_ext autoreload\n",
    "%autoreload 2"
   ],
   "metadata": {
    "collapsed": false,
    "ExecuteTime": {
     "end_time": "2023-08-12T21:30:18.583046Z",
     "start_time": "2023-08-12T21:30:18.538289Z"
    }
   }
  },
  {
   "cell_type": "code",
   "execution_count": 2,
   "outputs": [
    {
     "name": "stderr",
     "output_type": "stream",
     "text": [
      "2023-08-12 14:30:28.099286: I tensorflow/core/platform/cpu_feature_guard.cc:182] This TensorFlow binary is optimized to use available CPU instructions in performance-critical operations.\n",
      "To enable the following instructions: AVX2 AVX512F AVX512_VNNI FMA, in other operations, rebuild TensorFlow with the appropriate compiler flags.\n"
     ]
    }
   ],
   "source": [
    "# TODO: only import tensorflow if needed\n",
    "import dynadojo.dynadojo as dd"
   ],
   "metadata": {
    "collapsed": false,
    "ExecuteTime": {
     "end_time": "2023-08-12T21:30:32.314046Z",
     "start_time": "2023-08-12T21:30:18.574227Z"
    }
   }
  },
  {
   "cell_type": "code",
   "execution_count": 4,
   "outputs": [
    {
     "name": "stdout",
     "output_type": "stream",
     "text": [
      "System: <class 'dynadojo.dynadojo.systems.santi.NBodySystem'>\n",
      "Model: <class 'dynadojo.dynadojo.baselines.lr.LinearRegression'>\n",
      "Testing FixedComplexity\n",
      "\tTesting in_dist=True noisy=True\n",
      "\tTesting in_dist=True noisy=False\n",
      "\tTesting in_dist=False noisy=True\n",
      "\tTesting in_dist=False noisy=False\n"
     ]
    }
   ],
   "source": [
    "dd.testing.test_system(\"dynadojo.dynadojo.systems.santi\")"
   ],
   "metadata": {
    "collapsed": false,
    "ExecuteTime": {
     "end_time": "2023-08-12T21:31:40.166320Z",
     "start_time": "2023-08-12T21:31:10.200372Z"
    }
   }
  },
  {
   "cell_type": "code",
   "execution_count": null,
   "outputs": [],
   "source": [],
   "metadata": {
    "collapsed": false,
    "ExecuteTime": {
     "start_time": "2023-08-12T21:30:43.461917Z"
    }
   }
  }
 ],
 "metadata": {
  "kernelspec": {
   "display_name": "Python 3",
   "language": "python",
   "name": "python3"
  },
  "language_info": {
   "codemirror_mode": {
    "name": "ipython",
    "version": 2
   },
   "file_extension": ".py",
   "mimetype": "text/x-python",
   "name": "python",
   "nbconvert_exporter": "python",
   "pygments_lexer": "ipython2",
   "version": "2.7.6"
  }
 },
 "nbformat": 4,
 "nbformat_minor": 0
}
