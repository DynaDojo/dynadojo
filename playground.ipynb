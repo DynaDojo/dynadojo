{
 "cells": [
  {
   "cell_type": "code",
   "execution_count": 1,
   "outputs": [],
   "source": [
    "%load_ext autoreload\n",
    "%autoreload 2"
   ],
   "metadata": {
    "collapsed": false,
    "ExecuteTime": {
     "end_time": "2023-05-22T03:49:11.075194Z",
     "start_time": "2023-05-22T03:49:11.054909Z"
    }
   }
  },
  {
   "cell_type": "code",
   "execution_count": 2,
   "outputs": [
    {
     "name": "stderr",
     "output_type": "stream",
     "text": [
      "2023-05-21 20:49:38.413949: I tensorflow/core/platform/cpu_feature_guard.cc:182] This TensorFlow binary is optimized to use available CPU instructions in performance-critical operations.\n",
      "To enable the following instructions: AVX2 AVX512F AVX512_VNNI FMA, in other operations, rebuild TensorFlow with the appropriate compiler flags.\n"
     ]
    }
   ],
   "source": [
    "import cvxpy as cp\n",
    "import scipy as sp\n",
    "import numpy as np\n",
    "from numpy.random import default_rng\n",
    "from dynascale.abstractions import Task\n",
    "from dynascale.utils.lds import plot\n",
    "import dynascale as ds\n",
    "from dynascale.challenges.ca import CAChallenge\n",
    "from dynascale.tasks import FixedTrainSize, FixedComplexity\n",
    "from dynascale.baselines.basic import Basic\n",
    "from dynascale.baselines.lpr import LowestPossibleRadius\n",
    "from dynascale.baselines.cnn import CNN\n",
    "import pandas as pd\n",
    "\n",
    "\n",
    "RNG = default_rng()"
   ],
   "metadata": {
    "collapsed": false,
    "ExecuteTime": {
     "end_time": "2023-05-22T03:49:42.081170Z",
     "start_time": "2023-05-22T03:49:34.045593Z"
    }
   }
  },
  {
   "cell_type": "code",
   "execution_count": 3,
   "outputs": [
    {
     "ename": "AttributeError",
     "evalue": "'FixedTrainSize' object has no attribute 'evaluate'",
     "output_type": "error",
     "traceback": [
      "\u001B[0;31m---------------------------------------------------------------------------\u001B[0m",
      "\u001B[0;31mAttributeError\u001B[0m                            Traceback (most recent call last)",
      "Cell \u001B[0;32mIn[3], line 5\u001B[0m\n\u001B[1;32m      1\u001B[0m task \u001B[38;5;241m=\u001B[39m FixedTrainSize(n\u001B[38;5;241m=\u001B[39m\u001B[38;5;241m500\u001B[39m, L\u001B[38;5;241m=\u001B[39m[\u001B[38;5;241m2\u001B[39m, \u001B[38;5;241m3\u001B[39m, \u001B[38;5;241m10\u001B[39m], E\u001B[38;5;241m=\u001B[39m[\u001B[38;5;241m64\u001B[39m], T\u001B[38;5;241m=\u001B[39m[\u001B[38;5;241m5\u001B[39m], max_control_cost_per_dim\u001B[38;5;241m=\u001B[39m\u001B[38;5;241m0\u001B[39m, control_horizons\u001B[38;5;241m=\u001B[39m\u001B[38;5;241m1\u001B[39m, test_examples\u001B[38;5;241m=\u001B[39m\u001B[38;5;241m10\u001B[39m,\n\u001B[1;32m      2\u001B[0m                       reps\u001B[38;5;241m=\u001B[39m\u001B[38;5;241m1\u001B[39m,\n\u001B[1;32m      3\u001B[0m                       challenge_kwargs\u001B[38;5;241m=\u001B[39m{\u001B[38;5;124m'\u001B[39m\u001B[38;5;124mmutation_p\u001B[39m\u001B[38;5;124m'\u001B[39m: \u001B[38;5;241m0\u001B[39m},\n\u001B[1;32m      4\u001B[0m                       test_timesteps\u001B[38;5;241m=\u001B[39m\u001B[38;5;241m5\u001B[39m, challenge_cls\u001B[38;5;241m=\u001B[39mCAChallenge)\n\u001B[0;32m----> 5\u001B[0m basic_data \u001B[38;5;241m=\u001B[39m \u001B[43mtask\u001B[49m\u001B[38;5;241;43m.\u001B[39;49m\u001B[43mevaluate\u001B[49m(model_cls\u001B[38;5;241m=\u001B[39mBasic, fit_kwargs\u001B[38;5;241m=\u001B[39m{\u001B[38;5;124m\"\u001B[39m\u001B[38;5;124mepochs\u001B[39m\u001B[38;5;124m\"\u001B[39m: \u001B[38;5;241m100\u001B[39m}, \u001B[38;5;28mid\u001B[39m\u001B[38;5;241m=\u001B[39m\u001B[38;5;124m\"\u001B[39m\u001B[38;5;124mbasic\u001B[39m\u001B[38;5;124m\"\u001B[39m)\n\u001B[1;32m      6\u001B[0m cnn_data \u001B[38;5;241m=\u001B[39m task\u001B[38;5;241m.\u001B[39mevaluate(model_cls\u001B[38;5;241m=\u001B[39mCNN, fit_kwargs\u001B[38;5;241m=\u001B[39m{\u001B[38;5;124m\"\u001B[39m\u001B[38;5;124mepochs\u001B[39m\u001B[38;5;124m\"\u001B[39m: \u001B[38;5;241m100\u001B[39m}, \u001B[38;5;28mid\u001B[39m\u001B[38;5;241m=\u001B[39m\u001B[38;5;124m\"\u001B[39m\u001B[38;5;124mcnn\u001B[39m\u001B[38;5;124m\"\u001B[39m)\n\u001B[1;32m      7\u001B[0m lpr_data \u001B[38;5;241m=\u001B[39m task\u001B[38;5;241m.\u001B[39mevaluate(model_cls\u001B[38;5;241m=\u001B[39mLowestPossibleRadius, \u001B[38;5;28mid\u001B[39m\u001B[38;5;241m=\u001B[39m\u001B[38;5;124m\"\u001B[39m\u001B[38;5;124mlpr\u001B[39m\u001B[38;5;124m\"\u001B[39m)\n",
      "\u001B[0;31mAttributeError\u001B[0m: 'FixedTrainSize' object has no attribute 'evaluate'"
     ]
    }
   ],
   "source": [
    "task = FixedTrainSize(n=500, L=[2, 3, 10], E=[64], T=[5], max_control_cost_per_dim=0, control_horizons=1, test_examples=10,\n",
    "                      reps=1,\n",
    "                      challenge_kwargs={'mutation_p': 0},\n",
    "                      test_timesteps=5, challenge_cls=CAChallenge)\n",
    "basic_data = task.evaluate(model_cls=Basic, fit_kwargs={\"epochs\": 100}, id=\"basic\")\n",
    "cnn_data = task.evaluate(model_cls=CNN, fit_kwargs={\"epochs\": 100}, id=\"cnn\")\n",
    "lpr_data = task.evaluate(model_cls=LowestPossibleRadius, id=\"lpr\")\n",
    "task.plot(pd.concat([basic_data, cnn_data, lpr_data]))"
   ],
   "metadata": {
    "collapsed": false,
    "ExecuteTime": {
     "end_time": "2023-05-22T03:49:52.658023Z",
     "start_time": "2023-05-22T03:49:51.851331Z"
    }
   }
  },
  {
   "cell_type": "code",
   "execution_count": 4,
   "outputs": [
    {
     "ename": "AttributeError",
     "evalue": "'Task' object has no attribute 'evaluate'",
     "output_type": "error",
     "traceback": [
      "\u001B[0;31m---------------------------------------------------------------------------\u001B[0m",
      "\u001B[0;31mAttributeError\u001B[0m                            Traceback (most recent call last)",
      "Cell \u001B[0;32mIn[4], line 5\u001B[0m\n\u001B[1;32m      1\u001B[0m task \u001B[38;5;241m=\u001B[39m Task(N\u001B[38;5;241m=\u001B[39m[\u001B[38;5;241m500\u001B[39m], L\u001B[38;5;241m=\u001B[39m[\u001B[38;5;241m2\u001B[39m, \u001B[38;5;241m3\u001B[39m, \u001B[38;5;241m10\u001B[39m], E\u001B[38;5;241m=\u001B[39m[\u001B[38;5;241m64\u001B[39m], T\u001B[38;5;241m=\u001B[39m[\u001B[38;5;241m5\u001B[39m], max_control_cost_per_dim\u001B[38;5;241m=\u001B[39m\u001B[38;5;241m0\u001B[39m, control_horizons\u001B[38;5;241m=\u001B[39m\u001B[38;5;241m1\u001B[39m, test_examples\u001B[38;5;241m=\u001B[39m\u001B[38;5;241m10\u001B[39m,\n\u001B[1;32m      2\u001B[0m               reps\u001B[38;5;241m=\u001B[39m\u001B[38;5;241m1\u001B[39m,\n\u001B[1;32m      3\u001B[0m               challenge_kwargs\u001B[38;5;241m=\u001B[39m{\u001B[38;5;124m'\u001B[39m\u001B[38;5;124mmutation_p\u001B[39m\u001B[38;5;124m'\u001B[39m: \u001B[38;5;241m0\u001B[39m},\n\u001B[1;32m      4\u001B[0m               test_timesteps\u001B[38;5;241m=\u001B[39m\u001B[38;5;241m5\u001B[39m, challenge_cls\u001B[38;5;241m=\u001B[39mCAChallenge)\n\u001B[0;32m----> 5\u001B[0m basic_data \u001B[38;5;241m=\u001B[39m \u001B[43mtask\u001B[49m\u001B[38;5;241;43m.\u001B[39;49m\u001B[43mevaluate\u001B[49m(model_cls\u001B[38;5;241m=\u001B[39mBasic, fit_kwargs\u001B[38;5;241m=\u001B[39m{\u001B[38;5;124m\"\u001B[39m\u001B[38;5;124mepochs\u001B[39m\u001B[38;5;124m\"\u001B[39m: \u001B[38;5;241m100\u001B[39m}, \u001B[38;5;28mid\u001B[39m\u001B[38;5;241m=\u001B[39m\u001B[38;5;124m\"\u001B[39m\u001B[38;5;124mbasic\u001B[39m\u001B[38;5;124m\"\u001B[39m)\n\u001B[1;32m      6\u001B[0m cnn_data \u001B[38;5;241m=\u001B[39m task\u001B[38;5;241m.\u001B[39mevaluate(model_cls\u001B[38;5;241m=\u001B[39mCNN, fit_kwargs\u001B[38;5;241m=\u001B[39m{\u001B[38;5;124m\"\u001B[39m\u001B[38;5;124mepochs\u001B[39m\u001B[38;5;124m\"\u001B[39m: \u001B[38;5;241m100\u001B[39m}, \u001B[38;5;28mid\u001B[39m\u001B[38;5;241m=\u001B[39m\u001B[38;5;124m\"\u001B[39m\u001B[38;5;124mcnn\u001B[39m\u001B[38;5;124m\"\u001B[39m)\n\u001B[1;32m      7\u001B[0m lpr_data \u001B[38;5;241m=\u001B[39m task\u001B[38;5;241m.\u001B[39mevaluate(model_cls\u001B[38;5;241m=\u001B[39mLowestPossibleRadius, \u001B[38;5;28mid\u001B[39m\u001B[38;5;241m=\u001B[39m\u001B[38;5;124m\"\u001B[39m\u001B[38;5;124mlpr\u001B[39m\u001B[38;5;124m\"\u001B[39m)\n",
      "\u001B[0;31mAttributeError\u001B[0m: 'Task' object has no attribute 'evaluate'"
     ]
    }
   ],
   "source": [
    "task = Task(N=[500], L=[2, 3, 10], E=[64], T=[5], max_control_cost_per_dim=0, control_horizons=1, test_examples=10,\n",
    "              reps=1,\n",
    "              challenge_kwargs={'mutation_p': 0},\n",
    "              test_timesteps=5, challenge_cls=CAChallenge)\n",
    "basic_data = task.evaluate(model_cls=Basic, fit_kwargs={\"epochs\": 100}, id=\"basic\")\n",
    "cnn_data = task.evaluate(model_cls=CNN, fit_kwargs={\"epochs\": 100}, id=\"cnn\")\n",
    "lpr_data = task.evaluate(model_cls=LowestPossibleRadius, id=\"lpr\")\n",
    "task.plot(pd.concat([basic_data, cnn_data, lpr_data]))"
   ],
   "metadata": {
    "collapsed": false,
    "ExecuteTime": {
     "end_time": "2023-05-22T03:51:51.631454Z",
     "start_time": "2023-05-22T03:51:51.543218Z"
    }
   }
  }
 ],
 "metadata": {
  "kernelspec": {
   "display_name": "Python 3",
   "language": "python",
   "name": "python3"
  },
  "language_info": {
   "codemirror_mode": {
    "name": "ipython",
    "version": 2
   },
   "file_extension": ".py",
   "mimetype": "text/x-python",
   "name": "python",
   "nbconvert_exporter": "python",
   "pygments_lexer": "ipython2",
   "version": "2.7.6"
  }
 },
 "nbformat": 4,
 "nbformat_minor": 0
}
