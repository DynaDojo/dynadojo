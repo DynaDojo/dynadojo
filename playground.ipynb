{
 "cells": [
  {
   "cell_type": "code",
   "execution_count": 2,
   "outputs": [],
   "source": [
    "%load_ext autoreload\n",
    "%autoreload 2"
   ],
   "metadata": {
    "collapsed": false,
    "ExecuteTime": {
     "end_time": "2023-08-10T19:08:11.246198Z",
     "start_time": "2023-08-10T19:08:11.097479Z"
    }
   }
  },
  {
   "cell_type": "code",
   "execution_count": 1,
   "outputs": [
    {
     "name": "stderr",
     "output_type": "stream",
     "text": [
      "2023-08-10 12:08:08.452796: I tensorflow/core/platform/cpu_feature_guard.cc:182] This TensorFlow binary is optimized to use available CPU instructions in performance-critical operations.\n",
      "To enable the following instructions: AVX2 AVX512F AVX512_VNNI FMA, in other operations, rebuild TensorFlow with the appropriate compiler flags.\n"
     ]
    }
   ],
   "source": [
    "# TODO: only import tensorflow if needed\n",
    "import dynadojo.dynadojo as dd"
   ],
   "metadata": {
    "collapsed": false,
    "ExecuteTime": {
     "end_time": "2023-08-10T19:08:11.094425Z",
     "start_time": "2023-08-10T19:08:01.422930Z"
    }
   }
  },
  {
   "cell_type": "code",
   "execution_count": 5,
   "outputs": [
    {
     "name": "stdout",
     "output_type": "stream",
     "text": [
      "System: <class 'dynadojo.dynadojo.systems.ca.CASystem'>\n",
      "Model: <class 'dynadojo.dynadojo.baselines.lr.LinearRegression'>\n",
      "Testing FixedComplexity\n",
      "\tTesting in_dist=True noisy=True\n",
      "\tTesting in_dist=True noisy=False\n",
      "\tTesting in_dist=False noisy=True\n",
      "\tTesting in_dist=False noisy=False\n"
     ]
    }
   ],
   "source": [
    "dd.testing.test_system(\"dynadojo.dynadojo.systems.ca\")"
   ],
   "metadata": {
    "collapsed": false,
    "ExecuteTime": {
     "end_time": "2023-08-10T19:11:14.389144Z",
     "start_time": "2023-08-10T19:11:14.157164Z"
    }
   }
  },
  {
   "cell_type": "code",
   "execution_count": null,
   "outputs": [],
   "source": [],
   "metadata": {
    "collapsed": false
   }
  }
 ],
 "metadata": {
  "kernelspec": {
   "display_name": "Python 3",
   "language": "python",
   "name": "python3"
  },
  "language_info": {
   "codemirror_mode": {
    "name": "ipython",
    "version": 2
   },
   "file_extension": ".py",
   "mimetype": "text/x-python",
   "name": "python",
   "nbconvert_exporter": "python",
   "pygments_lexer": "ipython2",
   "version": "2.7.6"
  }
 },
 "nbformat": 4,
 "nbformat_minor": 0
}
