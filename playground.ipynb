{
 "cells": [
  {
   "cell_type": "code",
   "execution_count": 1,
   "outputs": [],
   "source": [
    "%load_ext autoreload\n",
    "%autoreload 2"
   ],
   "metadata": {
    "collapsed": false,
    "ExecuteTime": {
     "end_time": "2023-08-09T00:53:09.020462Z",
     "start_time": "2023-08-09T00:53:08.991590Z"
    }
   }
  },
  {
   "cell_type": "code",
   "execution_count": 6,
   "outputs": [],
   "source": [
    "# TODO: only import tensorflow if needed\n",
    "import dynadojo.dynadojo as dd"
   ],
   "metadata": {
    "collapsed": false,
    "ExecuteTime": {
     "end_time": "2023-08-09T00:54:02.555358Z",
     "start_time": "2023-08-09T00:54:02.407363Z"
    }
   }
  },
  {
   "cell_type": "code",
   "execution_count": 31,
   "outputs": [
    {
     "name": "stdout",
     "output_type": "stream",
     "text": [
      "System: <class 'dynadojo.dynadojo.systems.ca.CASystem'>\n",
      "Model: <class 'dynadojo.dynadojo.baselines.lr.LinearRegression'>\n",
      "Testing FixedComplexity\n",
      "\tTesting in_dist=True noisy=True\n",
      "\tTesting in_dist=True noisy=False\n",
      "\tTesting in_dist=False noisy=True\n",
      "\tTesting in_dist=False noisy=False\n"
     ]
    }
   ],
   "source": [
    "dd.testing.test_system(\"dynadojo.dynadojo.systems.ca\")"
   ],
   "metadata": {
    "collapsed": false,
    "ExecuteTime": {
     "end_time": "2023-08-09T01:27:12.319917Z",
     "start_time": "2023-08-09T01:27:12.098565Z"
    }
   }
  },
  {
   "cell_type": "code",
   "execution_count": null,
   "outputs": [],
   "source": [],
   "metadata": {
    "collapsed": false
   }
  }
 ],
 "metadata": {
  "kernelspec": {
   "display_name": "Python 3",
   "language": "python",
   "name": "python3"
  },
  "language_info": {
   "codemirror_mode": {
    "name": "ipython",
    "version": 2
   },
   "file_extension": ".py",
   "mimetype": "text/x-python",
   "name": "python",
   "nbconvert_exporter": "python",
   "pygments_lexer": "ipython2",
   "version": "2.7.6"
  }
 },
 "nbformat": 4,
 "nbformat_minor": 0
}
