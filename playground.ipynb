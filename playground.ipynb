{
 "cells": [
  {
   "cell_type": "code",
   "execution_count": 94,
   "metadata": {
    "collapsed": true,
    "ExecuteTime": {
     "end_time": "2023-05-14T06:45:47.655280Z",
     "start_time": "2023-05-14T06:45:47.648825Z"
    }
   },
   "outputs": [],
   "source": [
    "import cvxpy as cp\n",
    "import scipy as sp\n",
    "import numpy as np\n",
    "from numpy.random import default_rng\n",
    "\n",
    "RNG = default_rng()"
   ]
  },
  {
   "cell_type": "code",
   "execution_count": 98,
   "outputs": [],
   "source": [
    "m = 100\n",
    "n = 20\n",
    "A = RNG.integers(-10, 10, size=(m, n))\n",
    "Q, _ = np.linalg.qr(A)"
   ],
   "metadata": {
    "collapsed": false,
    "ExecuteTime": {
     "end_time": "2023-05-14T06:50:08.647464Z",
     "start_time": "2023-05-14T06:50:08.636951Z"
    }
   }
  },
  {
   "cell_type": "code",
   "execution_count": 99,
   "outputs": [
    {
     "data": {
      "text/plain": "array([[ 0.21955919,  0.01085128, -0.05568793, ..., -0.02993333,\n         0.05585363, -0.04248237],\n       [ 0.01085128,  0.15973298,  0.00629361, ...,  0.0435329 ,\n        -0.01277306, -0.00170411],\n       [-0.05568793,  0.00629361,  0.19641667, ..., -0.02317854,\n        -0.00217661,  0.06637512],\n       ...,\n       [-0.02993333,  0.0435329 , -0.02317854, ...,  0.18184471,\n        -0.07013665, -0.0102257 ],\n       [ 0.05585363, -0.01277306, -0.00217661, ..., -0.07013665,\n         0.18333385, -0.0337924 ],\n       [-0.04248237, -0.00170411,  0.06637512, ..., -0.0102257 ,\n        -0.0337924 ,  0.18152952]])"
     },
     "execution_count": 99,
     "metadata": {},
     "output_type": "execute_result"
    }
   ],
   "source": [
    "Q @ Q.T"
   ],
   "metadata": {
    "collapsed": false,
    "ExecuteTime": {
     "end_time": "2023-05-14T06:50:09.913113Z",
     "start_time": "2023-05-14T06:50:09.899452Z"
    }
   }
  }
 ],
 "metadata": {
  "kernelspec": {
   "display_name": "Python 3",
   "language": "python",
   "name": "python3"
  },
  "language_info": {
   "codemirror_mode": {
    "name": "ipython",
    "version": 2
   },
   "file_extension": ".py",
   "mimetype": "text/x-python",
   "name": "python",
   "nbconvert_exporter": "python",
   "pygments_lexer": "ipython2",
   "version": "2.7.6"
  }
 },
 "nbformat": 4,
 "nbformat_minor": 0
}
